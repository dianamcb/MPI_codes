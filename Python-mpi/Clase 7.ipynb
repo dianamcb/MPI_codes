{
 "cells": [
  {
   "cell_type": "markdown",
   "metadata": {},
   "source": [
    "### Notas de Daniel Salgado (CNS - IPICyT) para el curso Introducción a la programación y al aprendizaje de máquinas con Python (2020)"
   ]
  },
  {
   "cell_type": "markdown",
   "metadata": {},
   "source": [
    "# Pimp my ride"
   ]
  },
  {
   "cell_type": "markdown",
   "metadata": {},
   "source": [
    "En esta sección veremos algunas herramientas extras, útiles para trabajar con Python"
   ]
  },
  {
   "cell_type": "markdown",
   "metadata": {},
   "source": [
    "### Numpy\n",
    "\n",
    "Numpy es una biblioteca que provee herramientas muy útiles para cómputo científico. Entre otras cosas, contiene:\n",
    "\n",
    "* extensión para operaciones de alto desempeño con arreglos multidimensionales\n",
    "* en general, sus operaciones son más eficientes (muchas vienen de funciones compiladas en c = bajo nivel). \n",
    "* maneja contenedores utilizando de forma eficiente la memoria: espacios contiguos de memoria y por lo general más pequeños que un contenedor común de Python (así que es más rápido).\n",
    "* está diseñado/pensado para cómputo científico (resulta conveniente). En particular, incluye algoritmos comúnes para operar sobre arreglos.\n",
    "\n",
    "http://www.numpy.org/"
   ]
  },
  {
   "cell_type": "markdown",
   "metadata": {},
   "source": [
    "Una característica clave de numpy es la existencia de sus arreglos multidimensionales, los cuales son contenedores rápidos y flexibles para datos. Estos arreglos son de un solo tipo de variable (necesario para poder ser eficientes)."
   ]
  },
  {
   "cell_type": "code",
   "execution_count": 1,
   "metadata": {},
   "outputs": [
    {
     "name": "stdout",
     "output_type": "stream",
     "text": [
      "arrnp1 es del tipo <class 'numpy.ndarray'>, y tiene una longitud de 100 y una forma de (100,)\n"
     ]
    }
   ],
   "source": [
    "import numpy as np\n",
    "# Es posible convertir un contenedor en un arreglo de numpy\n",
    "lista = [i for i in range(100)]\n",
    "arrnp1 = np.array(lista)\n",
    "print(\"arrnp1 es del tipo {}, y tiene una longitud de {} y una forma de {}\".format(type(arrnp1), arrnp1.size, arrnp1.shape))"
   ]
  },
  {
   "cell_type": "code",
   "execution_count": 2,
   "metadata": {
    "scrolled": true
   },
   "outputs": [
    {
     "name": "stdout",
     "output_type": "stream",
     "text": [
      "[[1. 1. 1. 1.]\n",
      " [1. 1. 1. 1.]\n",
      " [1. 1. 1. 1.]]\n",
      "arrnp2 tiene una longitud de 12 y una forma de (3, 4)\n",
      "\n",
      "****\n",
      "\n",
      "[[0. 0. 0. 0.]\n",
      " [0. 0. 0. 0.]\n",
      " [0. 0. 0. 0.]]\n",
      "\n",
      "****\n",
      "\n",
      "[[0.11213403 0.39127647 0.99001831 0.84441188]\n",
      " [0.29836219 0.87540236 0.98443461 0.88825949]\n",
      " [0.97907209 0.23744347 0.24769605 0.34261775]]\n",
      "\n",
      "****\n",
      "\n",
      "[[0.11213403 0.39127647 0.99001831 0.84441188]\n",
      " [0.29836219 0.87540236 0.98443461 0.88825949]\n",
      " [0.97907209 0.23744347 0.24769605 0.34261775]]\n",
      "\n",
      "****\n",
      "\n",
      "[[3.14159265 3.14159265 3.14159265 3.14159265]\n",
      " [3.14159265 3.14159265 3.14159265 3.14159265]\n",
      " [3.14159265 3.14159265 3.14159265 3.14159265]]\n"
     ]
    }
   ],
   "source": [
    "# También se puede crear directamente desde numpy\n",
    "# Arreglo de 1's\n",
    "arrnp2 = np.ones((3,4))\n",
    "print(arrnp2)\n",
    "print(\"arrnp2 tiene una longitud de {} y una forma de {}\".format(arrnp2.size, arrnp2.shape))\n",
    "\n",
    "# Arreglo de 0's\n",
    "arrnp3 = np.zeros((3,4))\n",
    "print(\"\\n****\\n\")\n",
    "print(arrnp3)\n",
    "\n",
    "# Arreglo de valore \"aleatorios\"\n",
    "arrnp4 = np.random.random((3,4))\n",
    "print(\"\\n****\\n\")\n",
    "print(arrnp4)\n",
    "\n",
    "# Arreglo vacío\n",
    "arrnp5 = np.empty((3,4))\n",
    "print(\"\\n****\\n\")\n",
    "print(arrnp5)\n",
    "\n",
    "# Arreglo lleno de pi's\n",
    "arrnp6 = np.full((3,4),np.pi)\n",
    "print(\"\\n****\\n\")\n",
    "print(arrnp6)\n",
    "\n"
   ]
  },
  {
   "cell_type": "markdown",
   "metadata": {},
   "source": [
    "__Ejercicio__ Utilizando numpy, crea una matriz de 5x5 cuyos elementos sean números \"aleatorios\" entre 0 y 1 (revisa función random de numpy: https://docs.scipy.org/doc/numpy-1.16.0/reference/routines.random.html)."
   ]
  },
  {
   "cell_type": "code",
   "execution_count": 1,
   "metadata": {},
   "outputs": [
    {
     "name": "stdout",
     "output_type": "stream",
     "text": [
      "[[0.22326974 0.24677139 0.29456882 0.32557161 0.69375284]\n",
      " [0.400723   0.20334895 0.48483065 0.96436405 0.69638348]\n",
      " [0.92210777 0.61210333 0.55082869 0.39704124 0.02796054]\n",
      " [0.78348055 0.68121374 0.02396359 0.92332611 0.94864949]\n",
      " [0.31394071 0.18500479 0.38123722 0.21860507 0.6858383 ]]\n"
     ]
    }
   ],
   "source": [
    "# Tu respuesta aquí\n",
    "#include <numpy>\n",
    "import numpy as np\n",
    "\n",
    "arr = np.random.random((5,5))\n",
    "print(arr)"
   ]
  },
  {
   "cell_type": "markdown",
   "metadata": {},
   "source": [
    "Estos arreglos pueden ser n-dimensionales. Las dimensiones de un arreglo se pueden consultar mediante arreglo.ndim  \n",
    "\n",
    "Cada dimensión tiene un tamaño, que corresponde al número de elementos que componen a esa dimensión. Por ejemplo, np.ones((3,4,2)) tiene 3 dimensiones, donde la primera dimensión tienen una longitudo de 3, la segunda tiene una longitud de 4 y la tercera tienen una longitud de 2.  \n",
    "\n",
    "Para acceder a los elementos del arreglo, se pueden utilizar índices (y por tanto también slicing)."
   ]
  },
  {
   "cell_type": "code",
   "execution_count": 33,
   "metadata": {},
   "outputs": [
    {
     "name": "stdout",
     "output_type": "stream",
     "text": [
      "(3, 3)\n",
      "[[1.5 2.5 3.5]\n",
      " [2.1 3.1 4.1]\n",
      " [0.7 1.7 2.7]]\n",
      "\n",
      "****\n",
      "\n",
      "[1.5 2.5 3.5]\n",
      "\n",
      "****\n",
      "\n",
      "[2.1 3.1 4.1]\n",
      "\n",
      "****\n",
      "\n",
      "[0.7 1.7 2.7]\n",
      "\n",
      "****\n",
      "\n",
      "[1.5 2.1 0.7]\n",
      "\n",
      "****\n",
      "\n",
      "[2.5 3.1 1.7]\n",
      "\n",
      "****\n",
      "\n",
      "[3.5 4.1 2.7]\n"
     ]
    }
   ],
   "source": [
    "# Arreglo de 3x3: 2 dimensiones, cada una de longitud 3\n",
    "arreglo = np.array([[1.5, 2.5, 3.5],[2.1, 3.1, 4.1],[0.7, 1.7, 2.7]])\n",
    "print(arreglo.shape)\n",
    "print(arreglo)\n",
    "print(\"\\n****\\n\")\n",
    "print(arreglo[0])\n",
    "print(\"\\n****\\n\")\n",
    "print(arreglo[1])\n",
    "print(\"\\n****\\n\")\n",
    "print(arreglo[2])\n",
    "\n",
    "# Para acceder al otro eje, se puede utilizar una coma para separar el índice\n",
    "print(\"\\n****\\n\")\n",
    "print(arreglo[:,0])\n",
    "print(\"\\n****\\n\")\n",
    "print(arreglo[:,1])\n",
    "print(\"\\n****\\n\")\n",
    "print(arreglo[:,2])"
   ]
  },
  {
   "cell_type": "markdown",
   "metadata": {},
   "source": [
    "__Ejercicio__ Modifica la matriz creada en el ejercicio anterior de la siguiente forma: suma 1.0 a las columnas pares y suma 2.0 a las filas impares."
   ]
  },
  {
   "cell_type": "code",
   "execution_count": 4,
   "metadata": {},
   "outputs": [
    {
     "ename": "ValueError",
     "evalue": "operands could not be broadcast together with shapes (3,5) (2,5) ",
     "output_type": "error",
     "traceback": [
      "\u001b[0;31m---------------------------------------------------------------------------\u001b[0m",
      "\u001b[0;31mValueError\u001b[0m                                Traceback (most recent call last)",
      "\u001b[0;32m<ipython-input-4-52998921076c>\u001b[0m in \u001b[0;36m<module>\u001b[0;34m\u001b[0m\n\u001b[1;32m      1\u001b[0m \u001b[0;31m# Tu respuesta aquí\u001b[0m\u001b[0;34m\u001b[0m\u001b[0;34m\u001b[0m\u001b[0;34m\u001b[0m\u001b[0m\n\u001b[0;32m----> 2\u001b[0;31m \u001b[0marrcomplete\u001b[0m \u001b[0;34m=\u001b[0m \u001b[0marr\u001b[0m\u001b[0;34m[\u001b[0m\u001b[0;36m0\u001b[0m\u001b[0;34m:\u001b[0m\u001b[0marr\u001b[0m\u001b[0;34m.\u001b[0m\u001b[0msize\u001b[0m\u001b[0;34m:\u001b[0m\u001b[0;36m2\u001b[0m\u001b[0;34m]\u001b[0m\u001b[0;34m+\u001b[0m\u001b[0;36m1.\u001b[0m\u001b[0;34m+\u001b[0m\u001b[0marr\u001b[0m\u001b[0;34m[\u001b[0m\u001b[0;36m1\u001b[0m\u001b[0;34m:\u001b[0m\u001b[0marr\u001b[0m\u001b[0;34m.\u001b[0m\u001b[0msize\u001b[0m\u001b[0;34m+\u001b[0m\u001b[0;36m1\u001b[0m\u001b[0;34m:\u001b[0m\u001b[0;36m2\u001b[0m\u001b[0;34m]\u001b[0m\u001b[0;34m+\u001b[0m\u001b[0;36m2.\u001b[0m\u001b[0;34m\u001b[0m\u001b[0;34m\u001b[0m\u001b[0m\n\u001b[0m",
      "\u001b[0;31mValueError\u001b[0m: operands could not be broadcast together with shapes (3,5) (2,5) "
     ]
    }
   ],
   "source": [
    "# Tu respuesta aquí\n",
    "arrcomplete = arr[0:arr.size:2and]+1.+arr[1:arr.size+1:2]+2."
   ]
  },
  {
   "cell_type": "markdown",
   "metadata": {},
   "source": [
    "Un ejemplo sobre la velocidad de numpy"
   ]
  },
  {
   "cell_type": "code",
   "execution_count": 11,
   "metadata": {},
   "outputs": [
    {
     "name": "stdout",
     "output_type": "stream",
     "text": [
      "265 µs ± 1.89 µs per loop (mean ± std. dev. of 7 runs, 1000 loops each)\n",
      "1.3 µs ± 12.5 ns per loop (mean ± std. dev. of 7 runs, 1000000 loops each)\n"
     ]
    }
   ],
   "source": [
    "# Utilizando la magic function timeit, compara el tiempo que lleva ejecutar las siguientes dos versiones \n",
    "# Elevar al cuadrado números en lista, versión normal Python\n",
    "lini = [i for i in range(1000)]    # List comprehension para crear lista inicial\n",
    "lno = [i**2 for i in lini]  # List comprehension para elevar al cuadrado cada elemento\n",
    "\n",
    "# Utiliza timeit aquí para medir el tiempo que toma elevar al cuadrada cada elemento,\n",
    "# utilizando una comprensión de lista\n",
    "%timeit [i**2 for i in lini]\n",
    "\n",
    "# Elevar al cuadrado números dentro de arreglo numpy (mismo número de elementos que lista anterior)\n",
    "import numpy as np           # Importo el módulo numpy con el nombre np\n",
    "lini_nu = np.arange(1000)    # Creo un arreglo en numpy  \n",
    "lfin_nu = lini_nu**2         # Elevo al cuadrado cada elemento\n",
    "\n",
    "# Utiliza timeit aquí para medir el tiempo que toma la misma operación,\n",
    "# pero utilizando operaciones con numpy\n",
    "%timeit lini_nu**2\n"
   ]
  },
  {
   "cell_type": "markdown",
   "metadata": {},
   "source": [
    "Como intentan mostrar los ejemplos anteriores, numpy me permite manejar arreglos multidimensionales de forma sencilla. "
   ]
  },
  {
   "cell_type": "code",
   "execution_count": 42,
   "metadata": {
    "scrolled": true
   },
   "outputs": [
    {
     "name": "stdout",
     "output_type": "stream",
     "text": [
      "[ 5.   6.2  7.4  8.6  9.8 11.  12.2 13.4 14.6 15.8 17.  18.2 19.4 20.6\n",
      " 21.8 23.  24.2 25.4 26.6 27.8 29.  30.2 31.4 32.6 33.8 35.  36.2 37.4\n",
      " 38.6 39.8 41.  42.2 43.4 44.6 45.8 47.  48.2 49.4 50.6]\n",
      "\n",
      "****\n",
      "\n",
      "[0.         0.26315789 0.52631579 0.78947368 1.05263158 1.31578947\n",
      " 1.57894737 1.84210526 2.10526316 2.36842105 2.63157895 2.89473684\n",
      " 3.15789474 3.42105263 3.68421053 3.94736842 4.21052632 4.47368421\n",
      " 4.73684211 5.        ]\n"
     ]
    }
   ],
   "source": [
    "# Por ejemplo:\n",
    "a = np.arange(valini,valfin,tamaño paso)     # Genero números en un rango, y espaciados como yo quiera\n",
    "print(a)\n",
    "print(\"\\n****\\n\")\n",
    "b = np.linspace(valini,valfin,numero de puntos)   # Hago una partición de N elementos (20 en este caso), dentro de un rango\n",
    "print(b)"
   ]
  },
  {
   "cell_type": "markdown",
   "metadata": {},
   "source": [
    "__Ejemplo__ Crea un programa que genere 100 puntos aleatorios en un espacio 3d, y calcula la distancia promedio de estos puntos con respecto al punto (1,0,0). Compara el tiempo que toma calcular las distancias con numpy contra una forma más tradicional."
   ]
  },
  {
   "cell_type": "code",
   "execution_count": 17,
   "metadata": {},
   "outputs": [
    {
     "name": "stdout",
     "output_type": "stream",
     "text": [
      "[0.8949286603738611, 1.1432495179651812, 0.9467181541876185, 0.8283139134586555, 1.0999942280989885, 1.4122980915875374, 0.9734690771272944, 1.2635016492838587, 0.9940505518773041, 0.4526823736618424]\n",
      "[1.1619617435922693, 0.6883647059242095, 0.8569074996460969, 1.439527016657754, 1.0834774653345542, 0.6413061949943802, 1.1518252609412438, 1.2148611855478213, 0.8296804994741308, 1.3298409010817938]\n",
      "572 µs ± 7.96 µs per loop (mean ± std. dev. of 7 runs, 1000 loops each)\n",
      "246 µs ± 897 ns per loop (mean ± std. dev. of 7 runs, 1000 loops each)\n"
     ]
    }
   ],
   "source": [
    "# observar funciones de numpy random.random y linalg.norm\n",
    "import numpy as np\n",
    "from random import random as rconv\n",
    "\n",
    "def funnp():\n",
    "    pos = np.random.random((100,3)) # <- 100 elementos con 3 componentes \"aleatorias\"\n",
    "    vec = np.array([1,0,0])\n",
    "    pos -= vec\n",
    "    lisdis = []\n",
    "    for i in range(100):\n",
    "        lisdis.append(np.linalg.norm(pos[i]))\n",
    "    return lisdis\n",
    "\n",
    "def funtrad():\n",
    "    listav = []\n",
    "    for i in range(100):\n",
    "        vec = []\n",
    "        for j in range(3):\n",
    "            vec.append(rconv())\n",
    "        listav.append(vec)\n",
    "    for vector in listav:\n",
    "        vector[0] -= 1.0\n",
    "        vector[1] -= 0.0\n",
    "        vector[2] -= 0.0\n",
    "    lisdis = []\n",
    "    for vector in listav:\n",
    "        dist = 0.0\n",
    "        for i in range(3):\n",
    "            dist += vector[i]*vector[i]\n",
    "        lisdis.append(np.sqrt(dist))\n",
    "    return lisdis\n",
    "    \n",
    "\n",
    "%timeit funnp()\n",
    "%timeit funtrad()"
   ]
  },
  {
   "cell_type": "code",
   "execution_count": 21,
   "metadata": {},
   "outputs": [
    {
     "name": "stdout",
     "output_type": "stream",
     "text": [
      "Un encabezado X\n",
      "Algunas especificaciones mega-útiles\n",
      "0.907088484\t0.339993630\t0.499907169\n",
      "0.026791064\t0.777656056\t0.864506894\n",
      "\n",
      "\n",
      "El valor promedio de la primera columna: 0.5032929888126\n",
      "El valor promedio de la segunda columna: 0.4968440681894001 +- 0.28783934871296607\n",
      "El valor promedio de la tercera columna: 0.5003817972412999 +- 0.2866634578266016\n"
     ]
    }
   ],
   "source": [
    "import random\n",
    "with open(\"Datos_locos.dat\", \"w\") as fout:\n",
    "    fout.write(\"Un encabezado X\\n\")\n",
    "    fout.write(\"Algunas especificaciones mega-útiles\\n\")\n",
    "    for i in range(10000):\n",
    "        fout.write(\"{:.9f}\\t{:.9f}\\t{:.9f}\\n\".format(random.random(),random.random(),random.random()))\n",
    "\n",
    "# Es muy sencillo importar archivos con datos numéricos, y manipularlos\n",
    "# En linux:\n",
    "!head -3 ./Datos_locos.dat # Despliego primeras 5 líneas de archivo\n",
    "!tail -1 ./Datos_locos.dat # Despliego primeras 5 líneas de archivo\n",
    "\n",
    "# Ahora utilizo numpy para importarlo y sacarle información\n",
    "dat1 = np.loadtxt(\"Datos_locos.dat\", skiprows=2) # 2 líneas texto\n",
    "print(\"\\n\")\n",
    "print(\"El valor promedio de la primera columna: {}\".format(np.average(dat1[:,0]))) # Obtengo promedio de la primera columna\n",
    "\n",
    "# Ahora imprime el valor promedio de la 2da y 3ra columna, junto con su desviación estándar\n",
    "# aquí tu código\n",
    "print(\"El valor promedio de la segunda columna: {} +- {}\".format(np.average(dat1[:,1]), np.std(dat1[:,1])))\n",
    "print(\"El valor promedio de la tercera columna: {} +- {}\".format(np.average(dat1[:,2]), np.std(dat1[:,2])))"
   ]
  },
  {
   "cell_type": "markdown",
   "metadata": {},
   "source": [
    "__Ejercicio__ Contesta las siguientes dos preguntas, tomando en cuenta el siguiente arreglo de numpy:\n",
    "\n",
    "a = numpy.linspace(0,4,12).reshape(3,2,2)\n",
    "\n",
    "_¿Cuántas dimensiones tiene el arreglo?_\n",
    "\n",
    "_¿Qué tamaño tiene la última dimensión del arreglo?_\n"
   ]
  },
  {
   "cell_type": "code",
   "execution_count": 1,
   "metadata": {},
   "outputs": [],
   "source": [
    "# Tu respuesta aquí\n"
   ]
  },
  {
   "cell_type": "markdown",
   "metadata": {},
   "source": [
    "__Ejercicio__ Utilizando numpy, crea la matriz identidad de 4x4"
   ]
  },
  {
   "cell_type": "code",
   "execution_count": 22,
   "metadata": {},
   "outputs": [
    {
     "name": "stdout",
     "output_type": "stream",
     "text": [
      "[[1. 0. 0. 0.]\n",
      " [0. 1. 0. 0.]\n",
      " [0. 0. 1. 0.]\n",
      " [0. 0. 0. 1.]]\n"
     ]
    }
   ],
   "source": [
    "# Tu respuesta aquí\n"
   ]
  },
  {
   "cell_type": "markdown",
   "metadata": {},
   "source": [
    "__Ejercicio__ Utilizando numpy, crea una matriz diagonal con los elementos 5, 6, 7 y 8"
   ]
  },
  {
   "cell_type": "code",
   "execution_count": 23,
   "metadata": {},
   "outputs": [
    {
     "name": "stdout",
     "output_type": "stream",
     "text": [
      "[[5 0 0 0]\n",
      " [0 6 0 0]\n",
      " [0 0 7 0]\n",
      " [0 0 0 8]]\n"
     ]
    }
   ],
   "source": [
    "# Tu respuesta aquí\n"
   ]
  },
  {
   "cell_type": "markdown",
   "metadata": {},
   "source": [
    "__Ejercicio__ Utilizando numpy, crea un programa que calcule el ángulo que hay entre dos vectores (recordar definición geométrica del producto punto: https://es.wikipedia.org/wiki/Producto_escalar)"
   ]
  },
  {
   "cell_type": "code",
   "execution_count": 32,
   "metadata": {},
   "outputs": [
    {
     "name": "stdout",
     "output_type": "stream",
     "text": [
      "0 90.0\n"
     ]
    }
   ],
   "source": [
    "# Tu respuesta aquí\n"
   ]
  },
  {
   "cell_type": "markdown",
   "metadata": {},
   "source": [
    "__Ejercicio__ Utilizando numpy y los arreglos definidos en la celda de abajo, a) suma el vector r a cada fila de la matriz, y b) suma el vector c a cada columna de la matriz."
   ]
  },
  {
   "cell_type": "code",
   "execution_count": 5,
   "metadata": {},
   "outputs": [
    {
     "name": "stdout",
     "output_type": "stream",
     "text": [
      "[[ 0  1  2]\n",
      " [ 3  4  5]\n",
      " [ 6  7  8]\n",
      " [ 9 10 11]]\n",
      "[1 2 3]\n",
      "[1 0 0 0]\n",
      "[[ 1  3  5]\n",
      " [ 4  6  8]\n",
      " [ 7  9 11]\n",
      " [10 12 14]]\n",
      "[[ 2  4  6]\n",
      " [ 4  6  8]\n",
      " [ 7  9 11]\n",
      " [10 12 14]]\n"
     ]
    }
   ],
   "source": [
    "# Definición de arreglos\n",
    "import numpy as np\n",
    "\n",
    "mat = np.arange(12).reshape((4,3))\n",
    "r = np.array(range(1,4))\n",
    "c = np.array([1,0,0,0])\n",
    "\n",
    "print(mat)\n",
    "print(r)\n",
    "print(c)\n",
    "\n",
    "# a) Tu respuesta aquí\n",
    "\n",
    "\n",
    "# b) Tu respuesta aquí\n"
   ]
  }
 ],
 "metadata": {
  "kernelspec": {
   "display_name": "Python 3",
   "language": "python",
   "name": "python3"
  },
  "language_info": {
   "codemirror_mode": {
    "name": "ipython",
    "version": 3
   },
   "file_extension": ".py",
   "mimetype": "text/x-python",
   "name": "python",
   "nbconvert_exporter": "python",
   "pygments_lexer": "ipython3",
   "version": "3.7.3"
  }
 },
 "nbformat": 4,
 "nbformat_minor": 2
}
