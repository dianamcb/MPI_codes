{
 "cells": [
  {
   "cell_type": "markdown",
   "metadata": {},
   "source": [
    "### Notas de Daniel Salgado (CNS - IPICyT) para el curso Introducción a la programación y al aprendizaje de máquinas con Python (2020) "
   ]
  },
  {
   "cell_type": "markdown",
   "metadata": {},
   "source": [
    "# Pimp my ride"
   ]
  },
  {
   "cell_type": "markdown",
   "metadata": {},
   "source": [
    "En esta sección veremos algunas herramientas extras, útiles para trabajar con Python"
   ]
  },
  {
   "cell_type": "markdown",
   "metadata": {},
   "source": [
    "### Scipy\n",
    "\n",
    "Provee muchas rutinas numéricas eficientes. Sus funciones lo hacen tener un caracter más general que numpy. De acuerdo a la página de scipy.org (https://www.scipy.org/scipylib/faq.html#general-questions-about-scipy):\n",
    "\n",
    "\"*In an ideal world, NumPy would contain nothing but the array data type and the most basic operations: indexing, sorting, reshaping, basic elementwise functions, et cetera. All numerical code would reside in SciPy. However, one of NumPy’s important goals is compatibility, so NumPy tries to retain all features supported by either of its predecessors. Thus NumPy contains some linear algebra functions, even though these more properly belong in SciPy. In any case, SciPy contains more fully-featured versions of the linear algebra modules, as well as many other numerical algorithms. If you are doing scientific computing with python, you should probably install both NumPy and SciPy. Most new features belong in SciPy rather than NumPy*\""
   ]
  },
  {
   "cell_type": "markdown",
   "metadata": {},
   "source": [
    "Dos ejemplos de las MUCHAS funciones que contiene el módulo Scipy"
   ]
  },
  {
   "cell_type": "code",
   "execution_count": 15,
   "metadata": {},
   "outputs": [
    {
     "name": "stdout",
     "output_type": "stream",
     "text": [
      "(1.6666666666666667, 1.8503717077085944e-14)\n"
     ]
    }
   ],
   "source": [
    "# Integrar numéricamente (ejemplo tomado de:\n",
    "# https://docs.scipy.org/doc/scipy-1.1.0/reference/tutorial/integrate.html)\n",
    "\n",
    "from scipy.integrate import quad\n",
    "\n",
    "# Compute a definite integral.\n",
    "# Integrate func from a to b (possibly infinite interval) using a technique from the Fortran library QUADPACK.\n",
    "\n",
    "def integrand(x, a, b):\n",
    "    return a*x**2 + b\n",
    "\n",
    "a = 2\n",
    "b = 1\n",
    "I = quad(integrand, 0, 1, args=(a,b)) # Los parámetros de la función se incluyen en args\n",
    "print(I)\n"
   ]
  },
  {
   "cell_type": "code",
   "execution_count": 35,
   "metadata": {},
   "outputs": [
    {
     "data": {
      "image/png": "[encoded data removed]",
      "text/plain": [
       "<Figure size 432x288 with 1 Axes>"
      ]
     },
     "metadata": {
      "needs_background": "light"
     },
     "output_type": "display_data"
    }
   ],
   "source": [
    "# Interpolar una función. Ejemplo tomado de \n",
    "# (https://docs.scipy.org/doc/scipy-1.1.0/reference/tutorial/interpolate.html)\n",
    "\n",
    "from scipy.interpolate import interp1d\n",
    "\n",
    "# Interpolate a 1-D function.\n",
    "\n",
    "x = np.linspace(0, 20, num=11, endpoint=True)  # Genero un arreglo con 11 ptos\n",
    "y = np.cos(-x**2/9.0)                          # Genero valores de la función en los ptos de X (¡sin ciclos!)\n",
    "f = interp1d(x, y)                             # Utilizo scipy para generar función a partir de interpolar ptos\n",
    "f2 = interp1d(x, y, kind='cubic')              # Otro criterio para la interpolación\n",
    "\n",
    "xnew = np.linspace(0, 20, num=41, endpoint=True)\n",
    "\n",
    "# Veo la gráfica de puntos originales y los generados al interpolar la función\n",
    "\n",
    "import matplotlib.pyplot as plt\n",
    "plt.plot(x, y, 'ko', xnew, f(xnew), '-', xnew, f2(xnew), '--')\n",
    "plt.legend(['data', 'linear', 'cubic'], loc='best')\n",
    "plt.show()"
   ]
  },
  {
   "cell_type": "markdown",
   "metadata": {},
   "source": [
    "### Sympy\n",
    "\n",
    "Biblioteca que permite realizar matemáticas simbólicas. \n",
    "https://www.sympy.org/en/index.html  \n",
    "\n",
    "Un tutorial:  \n",
    "https://docs.sympy.org/latest/tutorial/index.html"
   ]
  },
  {
   "cell_type": "code",
   "execution_count": 7,
   "metadata": {},
   "outputs": [],
   "source": [
    "# Importo módulo y defino variables (si no las defino, provoco un error al usarlas)\n",
    "import sympy\n",
    "\n",
    "x, y, z, t = sympy.symbols('x y z t')   # Variables en la expresión"
   ]
  },
  {
   "cell_type": "code",
   "execution_count": 10,
   "metadata": {},
   "outputs": [
    {
     "name": "stdout",
     "output_type": "stream",
     "text": [
      "3/2\n",
      "1/2 + 3/4 = 5/4\n"
     ]
    }
   ],
   "source": [
    "# Puedo realizar operación con fracciones\n",
    "medio = sympy.Rational(1,2)\n",
    "tcua  = sympy.Rational(3,4)\n",
    "res = 1 + medio\n",
    "print(res)\n",
    "print(\"{} + {} = {}\".format(medio, tcua, medio + tcua))"
   ]
  },
  {
   "cell_type": "markdown",
   "metadata": {},
   "source": [
    "__Ejemplo__ Asigna a una variable la expresión $1 + \\exp(\\frac{-(3x^2)}{4})$ , e imprimela"
   ]
  },
  {
   "cell_type": "code",
   "execution_count": 11,
   "metadata": {},
   "outputs": [
    {
     "name": "stdout",
     "output_type": "stream",
     "text": [
      "1 + exp(-3*x**2/4)\n"
     ]
    }
   ],
   "source": []
  },
  {
   "cell_type": "markdown",
   "metadata": {},
   "source": [
    "__Ejemplo__ Evalúa la expresión anterior para x = $\\pi$"
   ]
  },
  {
   "cell_type": "code",
   "execution_count": 12,
   "metadata": {},
   "outputs": [
    {
     "name": "stdout",
     "output_type": "stream",
     "text": [
      "1.00060990747001\n"
     ]
    }
   ],
   "source": [
    "# Ver función subs \n",
    "import numpy as np\n"
   ]
  },
  {
   "cell_type": "markdown",
   "metadata": {},
   "source": [
    "__Ejemplo__ Obtén la derivada de $1 + \\exp(\\frac{-(3x^2)}{4})$ con respecto a $x$, e imprímela"
   ]
  },
  {
   "cell_type": "code",
   "execution_count": 17,
   "metadata": {},
   "outputs": [
    {
     "data": {
      "image/png": "[encoded data removed]",
      "text/latex": [
       "$\\displaystyle - \\frac{3 x e^{- \\frac{3 x^{2}}{4}}}{2}$"
      ],
      "text/plain": [
       "          2  \n",
       "      -3⋅x   \n",
       "      ────── \n",
       "        4    \n",
       "-3⋅x⋅ℯ       \n",
       "─────────────\n",
       "      2      "
      ]
     },
     "execution_count": 17,
     "metadata": {},
     "output_type": "execute_result"
    }
   ],
   "source": [
    "# Ver función diff \n"
   ]
  },
  {
   "cell_type": "markdown",
   "metadata": {},
   "source": [
    "__Ejemplo__ Obtén la integral de $1 + \\exp(-x^2)$ con respecto a $x^2$, e imprímela"
   ]
  },
  {
   "cell_type": "code",
   "execution_count": 24,
   "metadata": {},
   "outputs": [
    {
     "data": {
      "image/png": "[encoded data removed]",
      "text/latex": [
       "$\\displaystyle x**2 - e^{- x**2}$"
      ],
      "text/plain": [
       "        -x**2\n",
       "x**2 - ℯ     "
      ]
     },
     "execution_count": 24,
     "metadata": {},
     "output_type": "execute_result"
    }
   ],
   "source": [
    "# Ver función integrate y poner atención a las variables\n"
   ]
  },
  {
   "cell_type": "markdown",
   "metadata": {},
   "source": [
    "__Ejemplo__ Simplifica la expresión $\\frac{3x}{8} + \\frac{7x}{4} - 2x$"
   ]
  },
  {
   "cell_type": "code",
   "execution_count": 30,
   "metadata": {},
   "outputs": [
    {
     "data": {
      "image/png": "[encoded data removed]",
      "text/latex": [
       "$\\displaystyle \\frac{x}{8}$"
      ],
      "text/plain": [
       "x\n",
       "─\n",
       "8"
      ]
     },
     "execution_count": 30,
     "metadata": {},
     "output_type": "execute_result"
    }
   ],
   "source": [
    "# Ver función simplify\n"
   ]
  },
  {
   "cell_type": "markdown",
   "metadata": {},
   "source": [
    "### Numba\n",
    "\n",
    "Numba es un proyecto _open source_ que permite opitimizar funciones de Python al tiempo de correrlas (compilación justo a tiempo). Este módulo \"traduce\" código de Python en código máquina, ya sea para CPUs o GPUs.\n",
    "\n",
    "http://numba.pydata.org/"
   ]
  },
  {
   "cell_type": "markdown",
   "metadata": {},
   "source": [
    "Tomemos como ejemplo una función para calcular la diferencia promedio entre dos conjuntos de valores. Una función utilizando numpy y otra sin numpy."
   ]
  },
  {
   "cell_type": "code",
   "execution_count": 37,
   "metadata": {},
   "outputs": [
    {
     "name": "stdout",
     "output_type": "stream",
     "text": [
      "465 ms ± 21.6 ms per loop (mean ± std. dev. of 7 runs, 1 loop each)\n",
      "2.28 ms ± 39.2 µs per loop (mean ± std. dev. of 7 runs, 100 loops each)\n"
     ]
    }
   ],
   "source": [
    "import numpy as np\n",
    "\n",
    "# Función sin numpy\n",
    "def dif_prom(x, y):\n",
    "    res = 0.0\n",
    "    for i in range(len(x)): # supongo que x e y son del mismo tamaño\n",
    "        res += x[i] - y[i]\n",
    "    return res/float(len(x))\n",
    "\n",
    "# Comparar el tiempo de ejecución de ambas funciones con los arreglos de datos\n",
    "x = np.random.randn(1000000)\n",
    "y = np.random.randn(1000000)\n",
    "\n",
    "%timeit dif_prom(x, y)\n",
    "# en numpy ya existe la función mean\n",
    "%timeit (x - y).mean()"
   ]
  },
  {
   "cell_type": "markdown",
   "metadata": {},
   "source": [
    "Ahora utilizo numba para compilar la función que no utiliza numpy. Observa que es muy fácil pedir que se compile la función."
   ]
  },
  {
   "cell_type": "code",
   "execution_count": 38,
   "metadata": {},
   "outputs": [
    {
     "name": "stdout",
     "output_type": "stream",
     "text": [
      "1.84 ms ± 151 µs per loop (mean ± std. dev. of 7 runs, 1 loop each)\n"
     ]
    }
   ],
   "source": [
    "import numba as nb\n",
    "\n",
    "funumba_difprom = nb.jit(dif_prom)\n",
    "\n",
    "%timeit funumba_difprom(x, y)"
   ]
  },
  {
   "cell_type": "markdown",
   "metadata": {},
   "source": [
    "En mi caso, esta función es incluso más rápida que la función que utiliza numpy.\n",
    "\n",
    "Otra forma de generar funciones compiladas, es utilizando un decorador"
   ]
  },
  {
   "cell_type": "code",
   "execution_count": 60,
   "metadata": {},
   "outputs": [],
   "source": [
    "# Ejemplo. Optimicemos una función que calcule distancia entre dos puntos.\n",
    "\n",
    "import numba as nb\n",
    "import numpy as np\n",
    "\n",
    "def dist(ri, rj):\n",
    "    return np.linalg.norm(ri - rj)\n",
    "\n",
    "\n",
    "@nb.jit (nopython=True) # Set \"nopython\" mode for best performance\n",
    "def nb_dist(ri, rj):\n",
    "    dicu = (ri - rj)*(ri - rj)\n",
    "    res  = dicu[0] + dicu[1] + dicu[2]\n",
    "    return np.sqrt(res)\n"
   ]
  },
  {
   "cell_type": "code",
   "execution_count": 64,
   "metadata": {},
   "outputs": [
    {
     "name": "stdout",
     "output_type": "stream",
     "text": [
      "10.0 10.0\n",
      "Primero función normal: \n",
      "5.8 µs ± 60 ns per loop (mean ± std. dev. of 7 runs, 100000 loops each)\n",
      "Ahora función con jit:\n",
      "413 ns ± 2.51 ns per loop (mean ± std. dev. of 7 runs, 1000000 loops each)\n"
     ]
    }
   ],
   "source": [
    "# Ahora las comparo\n",
    "v1 = np.array([10,2,0])\n",
    "v2 = np.array([0,2,0])\n",
    "\n",
    "print(dist(v1, v2), nb_dist(v1, v2))\n",
    "\n",
    "print(\"Primero función normal: \")\n",
    "%timeit dist(v1, v2)\n",
    "\n",
    "print(\"Ahora función con jit:\")  # Observar cambio de tiempo al ejecutar por más de una ocasión.\n",
    "%timeit nb_dist(v1, v2)"
   ]
  },
  {
   "cell_type": "markdown",
   "metadata": {},
   "source": [
    "### Pandas\n",
    "\n",
    "Es una biblioteca que permite utilizar estrucutras para manejo y análisis de datos de forma eficiente (está construida sobre numpy).\n",
    "\n",
    "https://pandas.pydata.org/\n",
    "\n",
    "Veamos un ejemplo con la siguiente tabla (que tomé de la red sin permiso pero sin fines de lucro ni malas itenciones):\n",
    "\n",
    "<img src=\"./Table-29.jpg\" width=\"400\" height=\"400\" />"
   ]
  },
  {
   "cell_type": "code",
   "execution_count": 65,
   "metadata": {},
   "outputs": [
    {
     "name": "stdout",
     "output_type": "stream",
     "text": [
      "24 6.0\n",
      "             Margaret  Serena  Steffi Helen\n",
      "Oz Open            11       7       4    na\n",
      "French Open         5       3       6     4\n",
      "Wimbledon           3       7       7     8\n",
      "Us Open             5       6       5     7\n"
     ]
    }
   ],
   "source": [
    "# Es más fácil manejar arreglos de datos con pandas (y está diseñado para ser de alto desempeño)\n",
    "import pandas as pd\n",
    "\n",
    "# Una serie en panda es un arreglo unidimensional capaz de recibir datos de cualquier tipo\n",
    "# s = pd.Series(data, index=index) <- sintaxis\n",
    "\n",
    "torneos = [\"Oz Open\", \"French Open\", \"Wimbledon\", \"Us Open\"]\n",
    "s1 = pd.Series([11, 5, 3, 5], index=torneos)  # Creo una serie, donde los índices son los nombres de los torneos\n",
    "\n",
    "print(s1.sum(), s1.mean())\n",
    "\n",
    "# Ahora hago series para las 4 primeras jugadoras de la lista\n",
    "s2 = pd.Series([7, 3, 7, 6], index=torneos)\n",
    "s3 = pd.Series([4, 6, 7, 5], index=torneos) \n",
    "s4 = pd.Series(['na', 4, 8, 7], index=torneos) \n",
    "\n",
    "# Y las junto en un diccionario\n",
    "diccData = {'Margaret':s1, 'Serena':s2, 'Steffi':s3, 'Helen':s4}\n",
    "\n",
    "# Ahora hago un arreglo bidimensional (tabla) con esos datos\n",
    "df1 = pd.DataFrame(diccData)\n",
    "print(df1)"
   ]
  },
  {
   "cell_type": "code",
   "execution_count": null,
   "metadata": {},
   "outputs": [],
   "source": []
  }
 ],
 "metadata": {
  "kernelspec": {
   "display_name": "Python 3",
   "language": "python",
   "name": "python3"
  },
  "language_info": {
   "codemirror_mode": {
    "name": "ipython",
    "version": 3
   },
   "file_extension": ".py",
   "mimetype": "text/x-python",
   "name": "python",
   "nbconvert_exporter": "python",
   "pygments_lexer": "ipython3",
   "version": "3.7.6"
  }
 },
 "nbformat": 4,
 "nbformat_minor": 2
}
