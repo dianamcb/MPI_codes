{
 "cells": [
  {
   "cell_type": "markdown",
   "metadata": {},
   "source": [
    "### Notas de Daniel Salgado (CNS - IPICyT) para el curso Introducción a programación en Python (2020) "
   ]
  },
  {
   "cell_type": "markdown",
   "metadata": {},
   "source": [
    "# Python como calculadora"
   ]
  },
  {
   "cell_type": "markdown",
   "metadata": {},
   "source": [
    "## Tipos básicos"
   ]
  },
  {
   "cell_type": "markdown",
   "metadata": {},
   "source": [
    "Numéricos:\n",
    "* entero\n",
    "* flotante (¿qué es un flotante?)\n",
    "* complejo (¿qué es un complejo?)\n",
    "* booleano (¿qué es un booleano?)"
   ]
  },
  {
   "cell_type": "code",
   "execution_count": 1,
   "metadata": {},
   "outputs": [
    {
     "name": "stdout",
     "output_type": "stream",
     "text": [
      "valor: 1 \n",
      "tipo: <class 'int'>\n",
      "1.0\n"
     ]
    }
   ],
   "source": [
    "a = 1\n",
    "print('valor:',a,'\\ntipo:', type(a))\n",
    "print(float(a))"
   ]
  },
  {
   "cell_type": "code",
   "execution_count": 2,
   "metadata": {},
   "outputs": [
    {
     "name": "stdout",
     "output_type": "stream",
     "text": [
      "valor: 1.0 \n",
      "tipo: <class 'float'>\n"
     ]
    }
   ],
   "source": [
    "a = 1.0\n",
    "print('valor:',a,'\\ntipo:', type(a))"
   ]
  },
  {
   "cell_type": "code",
   "execution_count": 3,
   "metadata": {},
   "outputs": [
    {
     "name": "stdout",
     "output_type": "stream",
     "text": [
      "valor: (1+0j) \n",
      "tipo: <class 'complex'>\n"
     ]
    }
   ],
   "source": [
    "a = 1.0 + 0.0j\n",
    "print('valor:',a,'\\ntipo:', type(a))"
   ]
  },
  {
   "cell_type": "code",
   "execution_count": 4,
   "metadata": {},
   "outputs": [
    {
     "name": "stdout",
     "output_type": "stream",
     "text": [
      "valor: False \n",
      "tipo: <class 'bool'>\n"
     ]
    }
   ],
   "source": [
    "a = False\n",
    "print('valor:',a,'\\ntipo:', type(a))"
   ]
  },
  {
   "cell_type": "markdown",
   "metadata": {},
   "source": [
    "Operaciones básicas para tipos numéricos:\n",
    "* suma (+)\n",
    "* resta (-)\n",
    "* multiplicación (*)\n",
    "* división (/)\n",
    "* potencia (**)"
   ]
  },
  {
   "cell_type": "code",
   "execution_count": 5,
   "metadata": {},
   "outputs": [
    {
     "name": "stdout",
     "output_type": "stream",
     "text": [
      "5\n"
     ]
    }
   ],
   "source": [
    "print(3+2)"
   ]
  },
  {
   "cell_type": "code",
   "execution_count": 3,
   "metadata": {},
   "outputs": [
    {
     "name": "stdout",
     "output_type": "stream",
     "text": [
      "3.5\n"
     ]
    }
   ],
   "source": [
    "print(7/2)"
   ]
  },
  {
   "cell_type": "code",
   "execution_count": 7,
   "metadata": {},
   "outputs": [
    {
     "name": "stdout",
     "output_type": "stream",
     "text": [
      "(16+88j)\n"
     ]
    }
   ],
   "source": [
    "print((4. + 2.j)**3)"
   ]
  },
  {
   "cell_type": "markdown",
   "metadata": {},
   "source": [
    "Observa que valores booleanos pueden ser interpretados como números"
   ]
  },
  {
   "cell_type": "code",
   "execution_count": 8,
   "metadata": {},
   "outputs": [
    {
     "name": "stdout",
     "output_type": "stream",
     "text": [
      "2\n"
     ]
    }
   ],
   "source": [
    "print(True + True)"
   ]
  },
  {
   "cell_type": "markdown",
   "metadata": {},
   "source": [
    "En general, es posible interpretar o cambiar (de forma explícita \\[_cast_\\]) de un tipo a otro:\n",
    "* int(N)\n",
    "* float(N)\n",
    "* complex(X,Y)\n",
    "* bool(N)"
   ]
  },
  {
   "cell_type": "code",
   "execution_count": 14,
   "metadata": {},
   "outputs": [
    {
     "name": "stdout",
     "output_type": "stream",
     "text": [
      "True <class 'bool'>\n"
     ]
    }
   ],
   "source": [
    "a = 0.1\n",
    "a = bool(a)\n",
    "print(a,type(a))"
   ]
  },
  {
   "cell_type": "markdown",
   "metadata": {},
   "source": [
    "__Ejercicio__ : Utiliza las operaciones básica mostradas para encontrar las soluciones a la ecuación: $$ 2x^2 + 17x -8.5 = 0$$\n",
    "Recordar fórmula del chicharronero: $$x = \\frac{-b \\pm \\sqrt{b^2 - 4ac} }{2a}$$"
   ]
  },
  {
   "cell_type": "code",
   "execution_count": 18,
   "metadata": {},
   "outputs": [
    {
     "name": "stdout",
     "output_type": "stream",
     "text": [
      "Solucion 1: 0.4736109069227963 \n",
      "Solucion 2: -8.973610906922797\n"
     ]
    }
   ],
   "source": [
    "#Tu solución aquí (observa que esto es un comentario y no es interpretado por Python)\n",
    "a = 2\n",
    "b = 17\n",
    "c = -8.5\n",
    "x1 = (-b+(b**2-4*a*c)**(1/2))/(2*a)\n",
    "x2 = (-b-(b**2-4*a*c)**(1/2))/(2*a)\n",
    "print('Solucion 1:',x1,'\\nSolucion 2:',x2)"
   ]
  },
  {
   "cell_type": "markdown",
   "metadata": {},
   "source": [
    "# Fin de Python como calculadora"
   ]
  },
  {
   "cell_type": "markdown",
   "metadata": {},
   "source": [
    "## Tipos básicos "
   ]
  },
  {
   "cell_type": "markdown",
   "metadata": {},
   "source": [
    "Contenedores:\n",
    "* listas :      colección ordenada de distintos tipos de objetos\n",
    "* cadenas :     colección ordenada de caracteres\n",
    "* tuplas   :    esencialmente, son listas que no se pueden modificar\n",
    "* conjuntos :   colección desordenada con elementos únicos\n",
    "* diccionarios : colección desordenada de elementos, aunque es una manera eficiente de ligar llaves (keys) con valores (values)"
   ]
  },
  {
   "cell_type": "markdown",
   "metadata": {},
   "source": [
    "### Diccionarios y conjuntos"
   ]
  },
  {
   "cell_type": "code",
   "execution_count": 28,
   "metadata": {},
   "outputs": [
    {
     "ename": "TypeError",
     "evalue": "'set' object is not subscriptable",
     "output_type": "error",
     "traceback": [
      "\u001b[0;31m---------------------------------------------------------------------------\u001b[0m",
      "\u001b[0;31mTypeError\u001b[0m                                 Traceback (most recent call last)",
      "\u001b[0;32m<ipython-input-28-574d3ba89685>\u001b[0m in \u001b[0;36m<module>\u001b[0;34m\u001b[0m\n\u001b[1;32m      1\u001b[0m \u001b[0mSoyUnDiccionario\u001b[0m \u001b[0;34m=\u001b[0m \u001b[0;34m{\u001b[0m\u001b[0;34m'Beto'\u001b[0m\u001b[0;34m:\u001b[0m\u001b[0;34m[\u001b[0m\u001b[0;36m1\u001b[0m\u001b[0;34m,\u001b[0m\u001b[0;36m2\u001b[0m\u001b[0;34m,\u001b[0m\u001b[0;36m3\u001b[0m\u001b[0;34m,\u001b[0m\u001b[0;36m4\u001b[0m\u001b[0;34m,\u001b[0m\u001b[0;36m5\u001b[0m\u001b[0;34m,\u001b[0m\u001b[0;36m6\u001b[0m\u001b[0;34m]\u001b[0m\u001b[0;34m,\u001b[0m\u001b[0;34m'Marli'\u001b[0m\u001b[0;34m:\u001b[0m\u001b[0;34m[\u001b[0m\u001b[0;36m7\u001b[0m\u001b[0;34m,\u001b[0m\u001b[0;36m8\u001b[0m\u001b[0;34m,\u001b[0m\u001b[0;36m9\u001b[0m\u001b[0;34m,\u001b[0m\u001b[0;36m10\u001b[0m\u001b[0;34m,\u001b[0m\u001b[0;36m44\u001b[0m\u001b[0;34m]\u001b[0m\u001b[0;34m}\u001b[0m\u001b[0;34m\u001b[0m\u001b[0;34m\u001b[0m\u001b[0m\n\u001b[1;32m      2\u001b[0m \u001b[0mSoyUnConjunto\u001b[0m \u001b[0;34m=\u001b[0m \u001b[0;34m{\u001b[0m\u001b[0;36m1\u001b[0m\u001b[0;34m,\u001b[0m\u001b[0;36m3\u001b[0m\u001b[0;34m,\u001b[0m\u001b[0;36m3\u001b[0m\u001b[0;34m,\u001b[0m\u001b[0;36m5\u001b[0m\u001b[0;34m,\u001b[0m\u001b[0;34m'Carlos'\u001b[0m\u001b[0;34m,\u001b[0m\u001b[0;36m1.0\u001b[0m\u001b[0;34m+\u001b[0m\u001b[0;36m3j\u001b[0m\u001b[0;34m,\u001b[0m\u001b[0;32mFalse\u001b[0m\u001b[0;34m}\u001b[0m\u001b[0;34m\u001b[0m\u001b[0;34m\u001b[0m\u001b[0m\n\u001b[0;32m----> 3\u001b[0;31m \u001b[0mSoyUnConjunto\u001b[0m\u001b[0;34m[\u001b[0m\u001b[0;36m0\u001b[0m\u001b[0;34m]\u001b[0m\u001b[0;34m\u001b[0m\u001b[0;34m\u001b[0m\u001b[0m\n\u001b[0m",
      "\u001b[0;31mTypeError\u001b[0m: 'set' object is not subscriptable"
     ]
    }
   ],
   "source": [
    "SoyUnDiccionario = {'Beto':[1,2,3,4,5,6],'Marli':[7,8,9,10,44]}\n",
    "SoyUnConjunto = {1,3,3,5,'Carlos',1.0+3j,False}\n",
    "SoyUnConjunto[0]"
   ]
  },
  {
   "cell_type": "markdown",
   "metadata": {},
   "source": [
    "### Listas"
   ]
  },
  {
   "cell_type": "code",
   "execution_count": 31,
   "metadata": {},
   "outputs": [],
   "source": [
    "# Una lista se define encerrando entre corchetes a los elementos de interés. Por ejemplo:\n",
    "SoyUnaLista = [False, True, 1, 2.0, 3 + 0j]"
   ]
  },
  {
   "cell_type": "code",
   "execution_count": 11,
   "metadata": {},
   "outputs": [
    {
     "name": "stdout",
     "output_type": "stream",
     "text": [
      "False\n"
     ]
    }
   ],
   "source": [
    "# Observa que, al ser una colección ordenada, se puede tener acceso a los elementos mediante índices\n",
    "PrimerElemento = SoyUnaLista[0]\n",
    "print(PrimerElemento)"
   ]
  },
  {
   "cell_type": "code",
   "execution_count": 12,
   "metadata": {},
   "outputs": [
    {
     "name": "stdout",
     "output_type": "stream",
     "text": [
      "(3+0j)\n"
     ]
    }
   ],
   "source": [
    "# Los índices negativos tienen un significado\n",
    "UltimoElemento = SoyUnaLista[-1]\n",
    "print(UltimoElemento)"
   ]
  },
  {
   "cell_type": "markdown",
   "metadata": {},
   "source": [
    "__Ejercicio__: Imprime el penúltimo elemento de la lista"
   ]
  },
  {
   "cell_type": "code",
   "execution_count": 32,
   "metadata": {},
   "outputs": [
    {
     "name": "stdout",
     "output_type": "stream",
     "text": [
      "2.0\n"
     ]
    }
   ],
   "source": [
    "# Tu respuesta aquí\n",
    "PenultimoElemento = SoyUnaLista[-2]\n",
    "print(PenultimoElemento)"
   ]
  },
  {
   "cell_type": "code",
   "execution_count": 35,
   "metadata": {},
   "outputs": [
    {
     "name": "stdout",
     "output_type": "stream",
     "text": [
      "[True, 1, 2.0, (3+0j)]\n"
     ]
    }
   ],
   "source": [
    "# Utilizando índices, es posible obtener más de un elemento de la lista. A esta idea se le llama slicing\n",
    "Slice = SoyUnaLista[1:3] #[xi,xf)\n",
    "print(Slice)"
   ]
  },
  {
   "cell_type": "code",
   "execution_count": 15,
   "metadata": {},
   "outputs": [
    {
     "name": "stdout",
     "output_type": "stream",
     "text": [
      "[1, 2.0, (3+0j)] [1, 2.0, (3+0j)]\n",
      "True\n"
     ]
    }
   ],
   "source": [
    "# Observa que el intervalo definido en slicing es cerrado en el límite inferior y abierto en el superior. Para obtener el resto de la cadena:\n",
    "FinalSlice1 = SoyUnaLista[2:]\n",
    "FinalSlice2 = SoyUnaLista[-3:]\n",
    "print(FinalSlice1, FinalSlice2)\n",
    "print(FinalSlice1 == FinalSlice2)"
   ]
  },
  {
   "cell_type": "code",
   "execution_count": 16,
   "metadata": {},
   "outputs": [
    {
     "name": "stdout",
     "output_type": "stream",
     "text": [
      "[True, (3+0j)]\n"
     ]
    }
   ],
   "source": [
    "# También es posible tomar elementos cada cierto intervalo:\n",
    "ElementosSalteados = SoyUnaLista[1::3]\n",
    "print(ElementosSalteados)"
   ]
  },
  {
   "cell_type": "code",
   "execution_count": 17,
   "metadata": {},
   "outputs": [
    {
     "data": {
      "text/plain": [
       "[False, 1, (3+0j)]"
      ]
     },
     "execution_count": 17,
     "metadata": {},
     "output_type": "execute_result"
    }
   ],
   "source": [
    "# Notar que todos los parámetros son opcionales para slicing\n",
    "SoyUnaLista[::2]"
   ]
  },
  {
   "cell_type": "markdown",
   "metadata": {},
   "source": [
    "__Ejercicio__: Crea una lista que contenga los enteros del uno al 10 y, utilizando slicing sobre ella, imprime los números impares"
   ]
  },
  {
   "cell_type": "code",
   "execution_count": 76,
   "metadata": {},
   "outputs": [
    {
     "name": "stdout",
     "output_type": "stream",
     "text": [
      "[1, 3, 5, 7, 9]\n"
     ]
    }
   ],
   "source": [
    "# Tu respuesta aquí\n",
    "# import numpy as np Prohibido.\n",
    "\n",
    "SoyUnaLista = [1,2,3,4,5,6,7,8,9,10]\n",
    "# SoyUnaLista = np.array(SoyUnaLista) Prohibido hace rhasta ahora.\n",
    "# print(SoyUnaLista[SoyUnaLista%2 != 0]) #SoyUnaLista[[True,False,True,False,True,False]] Prohibido.\n",
    "print(SoyUnaLista[0:None:2])"
   ]
  },
  {
   "cell_type": "code",
   "execution_count": 50,
   "metadata": {},
   "outputs": [
    {
     "name": "stdout",
     "output_type": "stream",
     "text": [
      "[0, 1, 2, 3, 4]\n",
      "[0.0, 1, 2, 3, 4]\n"
     ]
    }
   ],
   "source": [
    "# Importante: las lista son modificables (concepto de hashable, las listas son unhashables):\n",
    "SoyUnaLista = [0,1,2,3,4]\n",
    "print(SoyUnaLista)\n",
    "\n",
    "SoyUnaLista[0] = 0.0\n",
    "print(SoyUnaLista)"
   ]
  },
  {
   "cell_type": "code",
   "execution_count": 63,
   "metadata": {},
   "outputs": [
    {
     "name": "stdout",
     "output_type": "stream",
     "text": [
      "[0.0, 1, 2, 3, 4]\n",
      "[0.0, 1, 2, 3, 4, 5]\n",
      "10.0\n"
     ]
    }
   ],
   "source": [
    "# Aún más, es posible modificarlas mediante métodos intrínsecos. Por ejemplo:\n",
    "# append\n",
    "print(SoyUnaLista)\n",
    "\n",
    "SoyUnaLista.append(5)\n",
    "print(SoyUnaLista)\n",
    "SoyUnaLista.remove(5)\n",
    "print(sum(SoyUnaLista))"
   ]
  },
  {
   "cell_type": "markdown",
   "metadata": {},
   "source": [
    "Si quisiera añadir un elemento nuevo a la lista en una posición específica, puedo utilizar insert"
   ]
  },
  {
   "cell_type": "markdown",
   "metadata": {},
   "source": [
    "__Ejercicio__ Busca cómo utilizar insert y utilízalo para añadir el número complejo _i_ entre el 0 y el 1 de la lista SoyUnaLista"
   ]
  },
  {
   "cell_type": "code",
   "execution_count": 74,
   "metadata": {},
   "outputs": [
    {
     "name": "stdout",
     "output_type": "stream",
     "text": [
      "[0.0, 1j, 1, 2, 3, 4]\n"
     ]
    }
   ],
   "source": [
    "# Tu respuesta aquí\n",
    "SoyUnaLista.insert(1,0.0+1.j)\n",
    "print(SoyUnaLista)"
   ]
  },
  {
   "cell_type": "code",
   "execution_count": 21,
   "metadata": {},
   "outputs": [
    {
     "name": "stdout",
     "output_type": "stream",
     "text": [
      "[0.0, 1, 2, 3, 4, 5]\n",
      "[0.0, 1, 2, 3, 5]\n",
      "[0.0, 1, 2, 3]\n"
     ]
    }
   ],
   "source": [
    "# Aún más, es posible modificarlas mediante métodos intrínsecos. Por ejemplo:\n",
    "# pop - Observar la diferencia con append sobre el argumento recibido\n",
    "print(SoyUnaLista)\n",
    "\n",
    "SoyUnaLista.pop(4)\n",
    "print(SoyUnaLista)\n",
    "# El valor del argumento por defecto es -1.\n",
    "SoyUnaLista.pop()\n",
    "print(SoyUnaLista)"
   ]
  },
  {
   "cell_type": "code",
   "execution_count": 22,
   "metadata": {},
   "outputs": [
    {
     "name": "stdout",
     "output_type": "stream",
     "text": [
      "[0.0, 1, 2, 3]\n",
      "[0.0, 1, 2, 3, [(3+0j), 5]]\n",
      "[0.0, 1, 2, 3, [(3+0j), 5], (3+0j), 5]\n"
     ]
    }
   ],
   "source": [
    "# Aún más, es posible modificarlas mediante métodos intrínsecos. Por ejemplo:\n",
    "# extend - Observar la diferencia con append sobre el tipo de argumento que recibe\n",
    "print(SoyUnaLista)\n",
    "\n",
    "SoyUnaLista.append([3 + 0j, 5])\n",
    "print(SoyUnaLista)\n",
    "SoyUnaLista.extend([3 + 0j, 5])\n",
    "print(SoyUnaLista)"
   ]
  },
  {
   "cell_type": "code",
   "execution_count": 23,
   "metadata": {},
   "outputs": [
    {
     "name": "stdout",
     "output_type": "stream",
     "text": [
      "[1.0, 2, 2.5, 3, 7.0, 40]\n",
      "[40, 7.0, 3, 2.5, 2, 1.0]\n"
     ]
    }
   ],
   "source": [
    "# También es posible ordenar a los elementos de una lista\n",
    "listaDesordenada = [1.0,7.0,40,2.5,2,3]\n",
    "\n",
    "# En orden ascendente\n",
    "listaDesordenada.sort()\n",
    "print(listaDesordenada)\n",
    "\n",
    "# O en orden descendente\n",
    "listaDesordenada.reverse()\n",
    "print(listaDesordenada)"
   ]
  },
  {
   "cell_type": "markdown",
   "metadata": {},
   "source": [
    "Y muchos más (https://docs.python.org/3/tutorial/datastructures.html)"
   ]
  },
  {
   "cell_type": "code",
   "execution_count": 75,
   "metadata": {},
   "outputs": [
    {
     "name": "stdout",
     "output_type": "stream",
     "text": [
      "[1, 2, 3] [4, 5, 6] [1, 2, 3, 4, 5, 6]\n"
     ]
    },
    {
     "data": {
      "text/plain": [
       "[1, 2, 3, 1, 2, 3]"
      ]
     },
     "execution_count": 75,
     "metadata": {},
     "output_type": "execute_result"
    }
   ],
   "source": [
    "# Python permite concatenar fácilmente listas\n",
    "primero = [1,2,3]\n",
    "segundo = [4,5,6]\n",
    "todo = primero + segundo\n",
    "print(primero, segundo, todo)"
   ]
  },
  {
   "cell_type": "code",
   "execution_count": 25,
   "metadata": {},
   "outputs": [
    {
     "name": "stdout",
     "output_type": "stream",
     "text": [
      "[1, 2, 3, 1, 2, 3]\n",
      "[1, 2, 3, 1, 2, 3, 1, 2, 3]\n"
     ]
    }
   ],
   "source": [
    "# incluso podemos repetirla. Observen utilidad de esto al manejar secuencias\n",
    "primero = [1,2,3]\n",
    "print(2*primero)\n",
    "print(3*primero)"
   ]
  },
  {
   "cell_type": "markdown",
   "metadata": {},
   "source": [
    "__Ejercicio__ Utilizando los métodos anteriores y las listas que se dan a continuación (es decir, sin definir ninguna nueva lista \"a mano\"), escribe: _a)_ los números impares que hay entre 5 y 20 (sin llegar a 20), y _b)_ los número pares que hay en el mismo intervalo."
   ]
  },
  {
   "cell_type": "code",
   "execution_count": 86,
   "metadata": {},
   "outputs": [
    {
     "name": "stdout",
     "output_type": "stream",
     "text": [
      "[6, 8, 10, 12, 14, 16, 18]\n",
      "[7, 9, 11, 13, 15, 17, 19]\n"
     ]
    }
   ],
   "source": [
    "lst1 = [1,8,9,3,4,7,5,6,2]\n",
    "lst2 = [9,10,11,12,13,14,15,16,17,18,19,20]\n",
    "# Tu respuesta aquí. Piensa en hacer este procedimento por pasos\n",
    "lst1.sort(); lst2.sort()\n",
    "lst = lst1+lst2\n",
    "lst.pop(9)\n",
    "print(lst[5:-1:2])\n",
    "print(lst[6:-1:2])"
   ]
  }
 ],
 "metadata": {
  "kernelspec": {
   "display_name": "Python 3",
   "language": "python",
   "name": "python3"
  },
  "language_info": {
   "codemirror_mode": {
    "name": "ipython",
    "version": 3
   },
   "file_extension": ".py",
   "mimetype": "text/x-python",
   "name": "python",
   "nbconvert_exporter": "python",
   "pygments_lexer": "ipython3",
   "version": "3.7.3"
  }
 },
 "nbformat": 4,
 "nbformat_minor": 2
}
