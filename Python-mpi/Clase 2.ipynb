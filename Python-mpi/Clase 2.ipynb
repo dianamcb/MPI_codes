{
 "cells": [
  {
   "cell_type": "markdown",
   "metadata": {},
   "source": [
    "### Notas de Daniel Salgado (CNS - IPICyT) para el curso Introducción a programación en Python (2020) \n",
    "\n",
    "# Fin de Python como calculadora\n",
    "\n",
    "## Tipos básicos \n",
    "\n",
    "Contenedores:\n",
    "* listas :      colección ordenada de distintos tipos de objetos\n",
    "* cadenas :     colección ordenada de caracteres\n",
    "* tuplas   :    esencialmente, son listas que no se pueden modificar\n",
    "* conjuntos :   colección desordenada con elementos únicos\n",
    "* diccionarios : colección desordenada de elementos, aunque es una manera eficiente de ligar llaves (keys) con valores (values)\n",
    " \n",
    "### Cadenas"
   ]
  },
  {
   "cell_type": "code",
   "execution_count": 1,
   "metadata": {},
   "outputs": [
    {
     "name": "stdout",
     "output_type": "stream",
     "text": [
      "puede definirse por apóstrofes , o puede definirse entre comillas\n"
     ]
    }
   ],
   "source": [
    "# Hay distintas formas de definir una cadena de caracteres:\n",
    "\n",
    "s1 = 'puede definirse por apóstrofes'\n",
    "s2 = \", o puede definirse entre comillas\"\n",
    "print(s1,s2)"
   ]
  },
  {
   "cell_type": "code",
   "execution_count": 2,
   "metadata": {},
   "outputs": [
    {
     "name": "stdout",
     "output_type": "stream",
     "text": [
      "También puede quedar entre triples apóstrofes.\n",
      "Incluso se puede entre tripes comillas, \n",
      "lo que nos da un poco más de \"juego\" al definir la cadena\n"
     ]
    }
   ],
   "source": [
    "# Hay distintas formas de definir una cadena de caracteres:\n",
    "\n",
    "s1 = '''También puede quedar entre triples apóstrofes.\n",
    "Incluso se puede'''\n",
    "s2 = \"\"\"entre comillas triples, \n",
    "lo que nos da un poco más de \"juego\" al definir la cadena\"\"\"\n",
    "print(s1,s2)"
   ]
  },
  {
   "cell_type": "code",
   "execution_count": 10,
   "metadata": {},
   "outputs": [
    {
     "name": "stdout",
     "output_type": "stream",
     "text": [
      "e n t\n"
     ]
    }
   ],
   "source": [
    "# Al tratarse de una colección ordenada, también es posible utilizar índices para acceder a sus elementos, \n",
    "# o utilizar slicing para recuperar intervalos de la cadena. \n",
    "\n",
    "print(s2[0],s2[1],s2[2])"
   ]
  },
  {
   "cell_type": "markdown",
   "metadata": {},
   "source": [
    "__Ejercicio__: Crea la cadena \"nombre\", que contenga tu primer nombre y apellido. Utiliza slicing en esa cadena para imprimir tu apellido"
   ]
  },
  {
   "cell_type": "code",
   "execution_count": 2,
   "metadata": {},
   "outputs": [
    {
     "name": "stdout",
     "output_type": "stream",
     "text": [
      "Diana \n"
     ]
    }
   ],
   "source": [
    "# Tu solución aquí\n",
    "nombre = \"Diana Castañeda\"\n",
    "print(nombre[0:6])"
   ]
  },
  {
   "cell_type": "code",
   "execution_count": 3,
   "metadata": {},
   "outputs": [
    {
     "name": "stdout",
     "output_type": "stream",
     "text": [
      "Ya chale changa chilanga \n"
     ]
    }
   ],
   "source": [
    "# Algunos métodos asociados a las cadenas (¿Qué es un método? -> función de una clase)\n",
    "\n",
    "letra = \"Ya chole chango chilango \"\n",
    "print(letra.replace(\"o\",\"a\"))"
   ]
  },
  {
   "cell_type": "code",
   "execution_count": 4,
   "metadata": {},
   "outputs": [
    {
     "name": "stdout",
     "output_type": "stream",
     "text": [
      "Ya chole chango chilango \n"
     ]
    }
   ],
   "source": [
    "# Observa que la cadena original no cambió\n",
    "print(letra)"
   ]
  },
  {
   "cell_type": "code",
   "execution_count": 4,
   "metadata": {},
   "outputs": [
    {
     "name": "stdout",
     "output_type": "stream",
     "text": [
      "Un entero: 1000 ; un flotante: 0.1000000 ; otra cadena: como sea \n",
      "Un entero: 1000 ; un flotante: 0.1 ; otra cadena: como sea \n",
      "Un entero: 1000 ; un flotante: 0.1 ; otra cadena: como sea\n",
      "Un entero: 1000 ; un flotante: 0.1 ; otra cadena: como sea\n"
     ]
    }
   ],
   "source": [
    "# Se les puede dar formato:\n",
    "frase = 'como sea'\n",
    "\n",
    "\n",
    "print('Un entero: %i ; un flotante: %.7f ; otra cadena: %s ' % (1_000, 0.1, frase))\n",
    "print('Un entero: {} ; un flotante: {} ; otra cadena: {} '.format(1_000, 0.1, frase))\n",
    "\n",
    "# Las f-strings son la forma más \"in\" de dar formato a una cadena de caracteres\n",
    "print(f\"Un entero: {1_000} ; un flotante: {0.1} ; otra cadena: {frase}\")\n",
    "\n",
    "# Para los números, los guiones bajos entre ellos sólo sirven como una guía al ojo\n",
    "print(f\"Un entero: {1_0_00} ; un flotante: {0.1_0} ; otra cadena: {frase}\")"
   ]
  },
  {
   "cell_type": "markdown",
   "metadata": {},
   "source": [
    "Aquí una discusión más detallada sobre las formas en que se puede dar formato a las cadenas de caracteres: https://realpython.com/python-f-strings/#multiline-f-strings"
   ]
  },
  {
   "cell_type": "code",
   "execution_count": 4,
   "metadata": {},
   "outputs": [
    {
     "name": "stdout",
     "output_type": "stream",
     "text": [
      "Ejercicio_1.txt\n",
      "Ejercicio_1.txt\n",
      "Ejercicio_1.txt\n"
     ]
    }
   ],
   "source": [
    "# Incluso para asignar nombre a variable:\n",
    "\n",
    "i=1\n",
    "\n",
    "variable = 'Ejercicio_%d.txt' % i\n",
    "print(variable)\n",
    "variable = 'Ejercicio_{}.txt'.format(i)\n",
    "print(variable)\n",
    "\n",
    "# Observa que las f-string tienen un formato más claro en la sustitución\n",
    "variable = f'Ejercicio_{i}.txt'\n",
    "print(variable)"
   ]
  },
  {
   "cell_type": "markdown",
   "metadata": {},
   "source": [
    "__Ejercicio__: Crea una cadena que contenga tu nombre completo, e imprimelo cambiando todas las letras a por e, y todas las letras i por o (modifica la sustitución en caso necesario)."
   ]
  },
  {
   "cell_type": "code",
   "execution_count": 9,
   "metadata": {},
   "outputs": [
    {
     "name": "stdout",
     "output_type": "stream",
     "text": [
      "Doene Merlén Cesteñede Begetelle\n"
     ]
    }
   ],
   "source": [
    "# Tu respuesta aquí\n",
    "nombre = \"Diana Marlén Castañeda Bagatella\"\n",
    "nombre = nombre.replace('a','e'); nombre = nombre.replace('i','o')\n",
    "print(nombre)"
   ]
  },
  {
   "cell_type": "markdown",
   "metadata": {},
   "source": [
    "### Tuplas \n",
    "Esencialmente son listas que no se pueden modificar. Esa diferencia, las hace valiosas:\n",
    "* Son más rápidas para acceder (delimitación de memoria).\n",
    "* Pueden utilizarse como claves (keys) en diccionarios. (Explicación más adelante)."
   ]
  },
  {
   "cell_type": "code",
   "execution_count": 6,
   "metadata": {},
   "outputs": [],
   "source": [
    "# Defino tuplas encerrándolas entre paréntesis\n",
    "\n",
    "tupla = (1, 2, 3, 'ya puedo incluir cadenas', 4 + 0j)"
   ]
  },
  {
   "cell_type": "code",
   "execution_count": 7,
   "metadata": {},
   "outputs": [
    {
     "name": "stdout",
     "output_type": "stream",
     "text": [
      "1\n",
      "(3, 'ya puedo incluir cadenas', (4+0j))\n"
     ]
    }
   ],
   "source": [
    "# Al tener orden puedo utilizar indizado (indexing) y slicing\n",
    "\n",
    "print(tupla[0])\n",
    "print(tupla[2:])"
   ]
  },
  {
   "cell_type": "code",
   "execution_count": 8,
   "metadata": {},
   "outputs": [
    {
     "ename": "TypeError",
     "evalue": "'tuple' object does not support item assignment",
     "output_type": "error",
     "traceback": [
      "\u001b[0;31m---------------------------------------------------------------------------\u001b[0m",
      "\u001b[0;31mTypeError\u001b[0m                                 Traceback (most recent call last)",
      "\u001b[0;32m<ipython-input-8-a632077c5a99>\u001b[0m in \u001b[0;36m<module>\u001b[0;34m\u001b[0m\n\u001b[1;32m      1\u001b[0m \u001b[0;31m# Una desventaja con respecto a la lista es que no la puedo cambiar\u001b[0m\u001b[0;34m\u001b[0m\u001b[0;34m\u001b[0m\u001b[0;34m\u001b[0m\u001b[0m\n\u001b[0;32m----> 2\u001b[0;31m \u001b[0mtupla\u001b[0m\u001b[0;34m[\u001b[0m\u001b[0;36m0\u001b[0m\u001b[0;34m]\u001b[0m \u001b[0;34m=\u001b[0m \u001b[0;36m7\u001b[0m\u001b[0;34m\u001b[0m\u001b[0;34m\u001b[0m\u001b[0m\n\u001b[0m",
      "\u001b[0;31mTypeError\u001b[0m: 'tuple' object does not support item assignment"
     ]
    }
   ],
   "source": [
    "# Una desventaja con respecto a la lista es que no la puedo cambiar\n",
    "tupla[0] = 7"
   ]
  },
  {
   "cell_type": "code",
   "execution_count": 9,
   "metadata": {},
   "outputs": [
    {
     "name": "stdout",
     "output_type": "stream",
     "text": [
      "1 4 11\n"
     ]
    }
   ],
   "source": [
    "# Las tuplas son útiles para asignar varios elementos a la vez, y no es necesario utilizar los \n",
    "# paréntesis para definir una tupla con más de un elemento. Por ejemplo:\n",
    "var1, var2, var3 = 1, 2**2, 3 + 8\n",
    "print(var1, var2, var3)"
   ]
  },
  {
   "cell_type": "code",
   "execution_count": 5,
   "metadata": {},
   "outputs": [
    {
     "name": "stdout",
     "output_type": "stream",
     "text": [
      "(4,) <class 'tuple'>\n",
      "4 <class 'int'>\n"
     ]
    }
   ],
   "source": [
    "# Si se define una tupla con un sólo elemento, es necesario incluir una coma (observar ambigüedad con respecto al \n",
    "# paréntesis para asociar en operaciones\n",
    "a = (1*4,)\n",
    "print(a, type(a))\n",
    "\n",
    "b = (1*4)\n",
    "print(b, type(b))"
   ]
  },
  {
   "cell_type": "markdown",
   "metadata": {},
   "source": [
    "__Ejercicio__: Utilizando lo aprendido, crea una directorio de 3 personas que contenga la siguiente información: Nombre completo, teléfono y ocupación."
   ]
  },
  {
   "cell_type": "code",
   "execution_count": 1,
   "metadata": {},
   "outputs": [
    {
     "name": "stdout",
     "output_type": "stream",
     "text": [
      "Sara\n"
     ]
    }
   ],
   "source": [
    "# Tu respuesta aquí\n",
    "Persona1 = (\"Santiago Alberto Flores Román\", 2225273568, \"estudiante de física\")\n",
    "Persona2 = (\"Sara Luz Bagatella Flores\", 2225187230, \"Lic. en administración pública\")\n",
    "Persona3 = (\"Nadia Ivonne Castañeda Bagatella\", 2221696033, \"estudiante\")\n",
    "Personas = (Persona1, Persona2, Persona3)\n",
    "print(Personas[1][0][:4])"
   ]
  },
  {
   "cell_type": "markdown",
   "metadata": {},
   "source": [
    "__Ejercicio__: Ahora, a partir de tu respuesta anterior, imprime el teléfono y dirección de las tres personas. No tiene que ser en una sola expresión."
   ]
  },
  {
   "cell_type": "code",
   "execution_count": 6,
   "metadata": {},
   "outputs": [
    {
     "name": "stdout",
     "output_type": "stream",
     "text": [
      "2225273568 Direccion 1\n",
      " 2225187230 Direccion 2\n",
      " 2221696033 Direccion 3\n"
     ]
    }
   ],
   "source": [
    "# Tu respuesta aquí\n",
    "\n",
    "# Observa que print puede imprimir varios valores sólo separándolos por comas, por ejemplo\n",
    "# print(\"Estoy imprimiendo\",3,\"valores\")\n",
    "print(Personas[0][1],'Direccion 1\\n',\n",
    "      Personas[1][1],'Direccion 2\\n',\n",
    "      Personas[2][1],'Direccion 3')"
   ]
  },
  {
   "cell_type": "markdown",
   "metadata": {},
   "source": [
    "### Conjunto  \n",
    "\"Colección desordenada con elementos únicos\""
   ]
  },
  {
   "cell_type": "code",
   "execution_count": 1,
   "metadata": {},
   "outputs": [
    {
     "name": "stdout",
     "output_type": "stream",
     "text": [
      "{1, 2, 3.0, (4+0j)} <class 'set'>\n"
     ]
    }
   ],
   "source": [
    "# Para definir un conjunto hay de definirlo mediante set\n",
    "\n",
    "conj1 = set([1,2,3.0,4+0j])\n",
    "print(conj1, type(conj1))"
   ]
  },
  {
   "cell_type": "code",
   "execution_count": 2,
   "metadata": {},
   "outputs": [
    {
     "ename": "TypeError",
     "evalue": "'set' object is not subscriptable",
     "output_type": "error",
     "traceback": [
      "\u001b[0;31m---------------------------------------------------------------------------\u001b[0m",
      "\u001b[0;31mTypeError\u001b[0m                                 Traceback (most recent call last)",
      "\u001b[0;32m<ipython-input-2-e76a273f1d0f>\u001b[0m in \u001b[0;36m<module>\u001b[0;34m\u001b[0m\n\u001b[1;32m      1\u001b[0m \u001b[0;31m# Al ser desordenado no puedo utilizar indizado ni slicing\u001b[0m\u001b[0;34m\u001b[0m\u001b[0;34m\u001b[0m\u001b[0;34m\u001b[0m\u001b[0m\n\u001b[1;32m      2\u001b[0m \u001b[0;34m\u001b[0m\u001b[0m\n\u001b[0;32m----> 3\u001b[0;31m \u001b[0mprint\u001b[0m\u001b[0;34m(\u001b[0m\u001b[0mconj1\u001b[0m\u001b[0;34m[\u001b[0m\u001b[0;36m0\u001b[0m\u001b[0;34m]\u001b[0m\u001b[0;34m,\u001b[0m \u001b[0mconj1\u001b[0m\u001b[0;34m[\u001b[0m\u001b[0;36m2\u001b[0m\u001b[0;34m:\u001b[0m\u001b[0;34m]\u001b[0m\u001b[0;34m)\u001b[0m\u001b[0;34m\u001b[0m\u001b[0;34m\u001b[0m\u001b[0m\n\u001b[0m",
      "\u001b[0;31mTypeError\u001b[0m: 'set' object is not subscriptable"
     ]
    }
   ],
   "source": [
    "# Al ser desordenado no puedo utilizar indizado ni slicing\n",
    "\n",
    "print(conj1[0], conj1[2:])"
   ]
  },
  {
   "cell_type": "code",
   "execution_count": 5,
   "metadata": {},
   "outputs": [
    {
     "name": "stdout",
     "output_type": "stream",
     "text": [
      "True\n",
      "{'Mengano', 'Sutano', 'Daniel', 'Chana', 'Curie'}\n",
      "{'Mengano', 'Sutano', 'Daniel', 'Chana', 'Curie'}\n"
     ]
    }
   ],
   "source": [
    "# Pero definirlo con elementos únicos tiene sus ventajas\n",
    "\n",
    "Conj_Asist = set([\"Chana\", \"Curie\", \"Mengano\", \"Sutano\"]) # Observa que ahora cambiamos una lista a un conjunto\n",
    "print(\"Chana\" in Conj_Asist)\n",
    "\n",
    "# Descomenta las siguientes dos líneas\n",
    "Conj_Asist.add(\"Daniel\")\n",
    "print(Conj_Asist)\n",
    "\n",
    "# Ahora descomenta las siguientes dos líneas\n",
    "Conj_Asist.add(\"Daniel\")\n",
    "print(Conj_Asist)"
   ]
  },
  {
   "cell_type": "code",
   "execution_count": 6,
   "metadata": {},
   "outputs": [
    {
     "name": "stdout",
     "output_type": "stream",
     "text": [
      "{'Curie'}\n"
     ]
    }
   ],
   "source": [
    "# Al ser conjuntos, puedo realizar las operaciones usuales entre conjuntos\n",
    "Genios = set((\"Curie\", \"Einstein\")) \n",
    "Flojos = set((\"Daniel\", \"Mengano\"))\n",
    "\n",
    "# como obtener la intersección de conjuntos, por ejemplo\n",
    "print(Conj_Asist & Genios)"
   ]
  },
  {
   "cell_type": "markdown",
   "metadata": {},
   "source": [
    "__Ejercicio__ Utilizando los siguientes dos conjuntos: A = (1,2,3,4,5,6) y B = (2,4,6,8), encuentra qué numeros se encuentran en A o en B, sin estar en la intersección. Recuerda los diagramas de Venn, y ten en cuenta las siguientes operaciones entre conjuntos: | para la unión; & para la intersección; – para la diferencia.\n",
    "\n",
    "<img src=\"./Venn.png\" width=\"200\" height=\"200\" />"
   ]
  },
  {
   "cell_type": "code",
   "execution_count": 14,
   "metadata": {},
   "outputs": [
    {
     "name": "stdout",
     "output_type": "stream",
     "text": [
      "{8, 1, 3, 5}\n"
     ]
    }
   ],
   "source": [
    "# Tu respuesta aquí\n",
    "A = set([1,2,3,4,5,6])\n",
    "B = set([2,4,6,8])\n",
    "no = A & B\n",
    "i = (A|B)-(A & B)\n",
    "print(i)"
   ]
  },
  {
   "cell_type": "markdown",
   "metadata": {},
   "source": [
    "__Ejercicio__ Utilizando los mismos conjuntos A y B, encuentra qué numeros se encuentran en A pero no en B."
   ]
  },
  {
   "cell_type": "code",
   "execution_count": 16,
   "metadata": {},
   "outputs": [
    {
     "name": "stdout",
     "output_type": "stream",
     "text": [
      "{1, 3, 5}\n"
     ]
    }
   ],
   "source": [
    "# Tu respuesta aquí\n",
    "x = A - B -(A&B)\n",
    "print(x)"
   ]
  },
  {
   "cell_type": "markdown",
   "metadata": {},
   "source": [
    "### Diccionarios  \n",
    "\"Colección desordenada de elementos. Es una manera eficiente de ligar claves/llaves (keys) con valores (values)\""
   ]
  },
  {
   "cell_type": "code",
   "execution_count": 1,
   "metadata": {},
   "outputs": [
    {
     "name": "stdout",
     "output_type": "stream",
     "text": [
      "<class 'dict'>\n"
     ]
    }
   ],
   "source": [
    "# Los diccionarios se definen con llaves:\n",
    "\n",
    "dicc = {}\n",
    "print(type(dicc))"
   ]
  },
  {
   "cell_type": "code",
   "execution_count": 1,
   "metadata": {},
   "outputs": [
    {
     "name": "stdout",
     "output_type": "stream",
     "text": [
      "{'Una llave': 'su valor'}\n",
      "{'Una llave': 'su valor', 'Otra llave': 2.0, 3: 3.0, 'Nombre': 'Daniel Salgado'}\n"
     ]
    }
   ],
   "source": [
    "# Cada elemento de un diccionario cuenta con una llave (key) y con un valor asociado a esa llave (value):\n",
    "\n",
    "dicc = {\"Una llave\": \"su valor\"}\n",
    "print(dicc)\n",
    "\n",
    "# Para definir más de un elemento, debo separar sus valores con comas:\n",
    "\n",
    "dicc2 = {\"Una llave\": \"su valor\", \"Otra llave\": 2.0, 3: 3.0, \"Nombre\": \"Daniel Salgado\"}\n",
    "print(dicc2)"
   ]
  },
  {
   "cell_type": "code",
   "execution_count": 2,
   "metadata": {},
   "outputs": [
    {
     "name": "stdout",
     "output_type": "stream",
     "text": [
      "Daniel Salgado\n"
     ]
    }
   ],
   "source": [
    "# Aunque no es una colección ordenada, al estar ligados llaves y valores, es fácil acceder al contenido.\n",
    "# Observa que al funcionar como índices, no cualquier elemento (del lenguaje) puede utilizarse como llave.\n",
    "\n",
    "print(dicc2[\"Nombre\"]) # Escribe entre corchetes alguna de las llaves definidas"
   ]
  },
  {
   "cell_type": "markdown",
   "metadata": {},
   "source": [
    "__Ejercicio__ Utilizando la siguiente tabla, crea un diccionario con las 3 jugadoras con más torneos \"grand slam\" ganados. Después utiliza tu diccionario para imprimir la frase \"Serena Williams ha ganado N grand slams\", con N el\n",
    "número real de torneos ganados.\n",
    "\n",
    "<img src=\"./Table-29.jpg\" width=\"400\" height=\"400\" />\n"
   ]
  },
  {
   "cell_type": "code",
   "execution_count": 1,
   "metadata": {},
   "outputs": [
    {
     "name": "stdout",
     "output_type": "stream",
     "text": [
      "Serena Williams ha ganado 23 grand slams\n"
     ]
    }
   ],
   "source": [
    "# Tu respuesta aquí.\n",
    "jugadoras = {\"Margaret SC\":24, \"Serena Williams\":23, \"Steffi Graf\":22}\n",
    "print(\"Serena Williams ha ganado {} grand slams\".format(jugadoras[\"Serena Williams\"]))\n"
   ]
  },
  {
   "cell_type": "markdown",
   "metadata": {},
   "source": [
    "También es posible combinar el uso de distintas estructuras. Por ejemplo, podemos crear diccionarios cuyos valores sean listas. \n",
    "\n",
    "\n",
    "__Ejercicio__ Crear un diccionario con la tabla anterior (sólo con la información de las tres más ganadoras), y después utilízalo para imprimir cuántos torneos de Wimbledon ganó Steffi Graf, y cuántos Oz Open ganó Margaret Smith,"
   ]
  },
  {
   "cell_type": "code",
   "execution_count": 7,
   "metadata": {},
   "outputs": [
    {
     "name": "stdout",
     "output_type": "stream",
     "text": [
      "Los torneos de Wimbledon que ganó Steffi Graf fueron 7 y 11 de Oz Open ganó Margaret Smith\n"
     ]
    }
   ],
   "source": [
    "# Tu respuesta aquí\n",
    "Torneos = ('Oz','French','Wimbledon','US','Overall')\n",
    "jugadoras = {'Margaret':{Torneos[0]:11,Torneos[1]:5,Torneos[2]:3,Torneos[3]:5,Torneos[4]:24},\n",
    "             'Serena':{Torneos[0]:7,Torneos[1]:3,Torneos[2]:7,Torneos[3]:6,Torneos[4]:23}, \n",
    "             'Steffi':{Torneos[0]:4,Torneos[1]:6,Torneos[2]:7,Torneos[3]:5,Torneos[4]:22}}\n",
    "print(\"Los torneos de {} que ganó Steffi Graf fueron {} y {} de {} Open ganó Margaret Smith\".format(Torneos[2],\n",
    "                                                                                                    jugadoras[\"Steffi\"]['Wimbledon'],\n",
    "                                                                                                    jugadoras[\"Margaret\"]['Oz'],\n",
    "                                                                                                    Torneos[0]))"
   ]
  },
  {
   "cell_type": "code",
   "execution_count": 6,
   "metadata": {},
   "outputs": [
    {
     "name": "stdout",
     "output_type": "stream",
     "text": [
      "5\n"
     ]
    },
    {
     "ename": "TypeError",
     "evalue": "unhashable type: 'list'",
     "output_type": "error",
     "traceback": [
      "\u001b[0;31m---------------------------------------------------------------------------\u001b[0m",
      "\u001b[0;31mTypeError\u001b[0m                                 Traceback (most recent call last)",
      "\u001b[0;32m<ipython-input-6-5c8b320aa084>\u001b[0m in \u001b[0;36m<module>\u001b[0;34m\u001b[0m\n\u001b[1;32m      7\u001b[0m \u001b[0;34m\u001b[0m\u001b[0m\n\u001b[1;32m      8\u001b[0m \u001b[0mlista\u001b[0m \u001b[0;34m=\u001b[0m \u001b[0mlist\u001b[0m\u001b[0;34m(\u001b[0m\u001b[0mtupla\u001b[0m\u001b[0;34m)\u001b[0m\u001b[0;34m\u001b[0m\u001b[0;34m\u001b[0m\u001b[0m\n\u001b[0;32m----> 9\u001b[0;31m \u001b[0mdicci\u001b[0m\u001b[0;34m[\u001b[0m\u001b[0mlista\u001b[0m\u001b[0;34m]\u001b[0m \u001b[0;34m=\u001b[0m \u001b[0;36m6\u001b[0m\u001b[0;34m\u001b[0m\u001b[0;34m\u001b[0m\u001b[0m\n\u001b[0m\u001b[1;32m     10\u001b[0m \u001b[0mprint\u001b[0m\u001b[0;34m(\u001b[0m\u001b[0mdicci\u001b[0m\u001b[0;34m)\u001b[0m\u001b[0;34m\u001b[0m\u001b[0;34m\u001b[0m\u001b[0m\n\u001b[1;32m     11\u001b[0m \u001b[0;31m# Observa el tipo de error. Hashable y hash value para python significan:\u001b[0m\u001b[0;34m\u001b[0m\u001b[0;34m\u001b[0m\u001b[0;34m\u001b[0m\u001b[0m\n",
      "\u001b[0;31mTypeError\u001b[0m: unhashable type: 'list'"
     ]
    }
   ],
   "source": [
    "# Observa que es posible utilizar a una tupla como key de un diccionario pero no a una lista\n",
    "tupla = (1,2,3,4)\n",
    "dicci = {}\n",
    "dicci[tupla] = 5\n",
    "dicci[\"Nuevo\"] = 3 + 1j\n",
    "print(dicci[(1,2,3,4)])\n",
    "\n",
    "lista = list(tupla)\n",
    "dicci[lista] = 6\n",
    "print(dicci)      \n",
    "# Observa el tipo de error. Hashable y hash value para python significan:\n",
    "# An object is hashable if it has a hash value which never changes during its lifetime,\n",
    "# https://docs.python.org/3/glossary.html\n",
    "# Hash values are just integers which are used to compare dictionary keys during a dictionary lookup quickly.\n",
    "# https://www.programiz.com/python-programming/methods/built-in/hash"
   ]
  },
  {
   "cell_type": "markdown",
   "metadata": {},
   "source": [
    "# Control de flujo"
   ]
  },
  {
   "cell_type": "markdown",
   "metadata": {},
   "source": [
    "Para poder utilizar los elementos del lenguaje, necesito algo que pueda interpretarse como una proposición, donde:\n",
    "\"una proposición es cualquier frase o enunciado que pueda ser verdadero o falso\". La idea general (tal vez con excepción de for) es: \n",
    "\n",
    "Si __proposición__, entonces __algo__ __sucede__\n",
    "\n",
    "Los elementos de control de flujo en python son:\n",
    "* if-elif-else\n",
    "* for (range)\n",
    "* while (break/continue)\n"
   ]
  },
  {
   "cell_type": "markdown",
   "metadata": {},
   "source": [
    "### if - elif - else\n",
    "\n",
    "Syntaxis\n",
    "\n",
    "__if (proposición):__<br />\n",
    "&nbsp;&nbsp;&nbsp;&nbsp;&nbsp; __alguna(s)__ __acción(es)__ (¡OJO!, los dos puntos y la sangría son NECESARIOS)\n",
    "\n",
    "Evalúa como falso si:\n",
    "* Contenedor vacío\n",
    "* False o None\n",
    "* Cualquier número igual a 0\n",
    "\n",
    "Es verdadero en cualquier otro caso"
   ]
  },
  {
   "cell_type": "code",
   "execution_count": null,
   "metadata": {
    "scrolled": true
   },
   "outputs": [],
   "source": [
    "# Antes del ejemplo. Uno puede recibir un argumento del usuario mediante la función input.\n",
    "# Probarlo en terminal ipython y observar la diferencia. En caso de que no tengan terminal, que lo hagan aquí\n",
    "\n",
    "# Ahora, ejecuta el siguiente código\n",
    "#mensaje = input()\n",
    "#print(mensaje, type(mensaje))\n",
    "llueve = False\n",
    "if llueve:\n",
    "     print(\"¡No olvides llevar tu toalla, digo, tu paraguas!\")\n",
    "print('Estoy fuera del if')"
   ]
  },
  {
   "cell_type": "markdown",
   "metadata": {},
   "source": [
    "__Ejercicio__: Escribe un código que al tener como cierta (True) la variable booleana \"calor\", imprima: \"Mejor deja ese suéter\""
   ]
  },
  {
   "cell_type": "code",
   "execution_count": 12,
   "metadata": {},
   "outputs": [
    {
     "name": "stdout",
     "output_type": "stream",
     "text": [
      "Mejor deja ese suéter\n"
     ]
    }
   ],
   "source": [
    "# Tu respuesta aquí\n",
    "calor = True\n",
    "#if calor:\n",
    "print(\"Mejor deja ese suéter\") if calor else print('Mejor póntelo')"
   ]
  },
  {
   "cell_type": "code",
   "execution_count": 16,
   "metadata": {},
   "outputs": [
    {
     "name": "stdout",
     "output_type": "stream",
     "text": [
      "19 se interpreta como verdadero\n",
      "1000 se interpreta como verdadero\n",
      "Una lista ocupada se interpreta como verdadera\n"
     ]
    }
   ],
   "source": [
    "# Observa cómo se interpreta cada valor:\n",
    "if (0):\n",
    "    print(\"0 se interpreta como verdadero\")\n",
    "    \n",
    "if (19):\n",
    "    print(\"19 se interpreta como verdadero\")\n",
    "    \n",
    "if (1000):\n",
    "    print(\"1000 se interpreta como verdadero\")\n",
    "    \n",
    "lis_vac = []\n",
    "lis_ocu = [1, \"algo\", False]\n",
    "\n",
    "if (lis_vac):\n",
    "    print(\"Una lista vacía se interpreta como verdadera\")\n",
    "    \n",
    "if (lis_ocu):\n",
    "    print(\"Una lista ocupada se interpreta como verdadera\")\n",
    "    \n",
    "# etcétera"
   ]
  },
  {
   "cell_type": "markdown",
   "metadata": {},
   "source": [
    "__Ejercicio__ Crea un programa que compare dos conjuntos, y que, utilizando un if, imprima en pantalla cuando tienen elementos comúnes, es decir, imprimirá un mensaje a pantalla sólo cuando la intersección de dichos conjuntos no sea vacía."
   ]
  },
  {
   "cell_type": "code",
   "execution_count": 17,
   "metadata": {},
   "outputs": [
    {
     "name": "stdout",
     "output_type": "stream",
     "text": [
      "A y B no tienen elementos comunes\n"
     ]
    }
   ],
   "source": [
    "# Tu código aquí\n",
    "A = {7, 2, 4, 6, 9}\n",
    "B = {1, 3, 8, 0, 5}\n",
    "print(\"A y B tienen elementos comunes\") if A&B else print(\"A y B no tienen elementos comunes\")\n"
   ]
  },
  {
   "cell_type": "markdown",
   "metadata": {},
   "source": [
    "__Ejercicio__ Crea un programa que sólo imprima la solución a la ecuacación $ax^2 + bx + c$ si el discriminante de la ecuación es positivo."
   ]
  },
  {
   "cell_type": "code",
   "execution_count": 20,
   "metadata": {},
   "outputs": [
    {
     "ename": "NameError",
     "evalue": "name 'b' is not defined",
     "output_type": "error",
     "traceback": [
      "\u001b[0;31m---------------------------------------------------------------------------\u001b[0m",
      "\u001b[0;31mNameError\u001b[0m                                 Traceback (most recent call last)",
      "\u001b[0;32m<ipython-input-20-7851532d6d50>\u001b[0m in \u001b[0;36m<module>\u001b[0;34m\u001b[0m\n\u001b[1;32m      1\u001b[0m \u001b[0;31m# Tu código aquí\u001b[0m\u001b[0;34m\u001b[0m\u001b[0;34m\u001b[0m\u001b[0;34m\u001b[0m\u001b[0m\n\u001b[0;32m----> 2\u001b[0;31m \u001b[0mchicharronera\u001b[0m \u001b[0;34m=\u001b[0m \u001b[0;34m{\u001b[0m\u001b[0;34m(\u001b[0m\u001b[0;34m-\u001b[0m\u001b[0mb\u001b[0m\u001b[0;34m+\u001b[0m\u001b[0;34m(\u001b[0m\u001b[0mb\u001b[0m\u001b[0;34m*\u001b[0m\u001b[0mb\u001b[0m\u001b[0;34m-\u001b[0m\u001b[0;36m4\u001b[0m\u001b[0;34m*\u001b[0m\u001b[0ma\u001b[0m\u001b[0;34m*\u001b[0m\u001b[0mc\u001b[0m\u001b[0;34m)\u001b[0m\u001b[0;34m**\u001b[0m\u001b[0;34m(\u001b[0m\u001b[0;36m1\u001b[0m\u001b[0;34m/\u001b[0m\u001b[0;36m2\u001b[0m\u001b[0;34m)\u001b[0m\u001b[0;34m)\u001b[0m\u001b[0;34m/\u001b[0m\u001b[0;34m(\u001b[0m\u001b[0;36m2\u001b[0m\u001b[0;34m*\u001b[0m\u001b[0ma\u001b[0m\u001b[0;34m)\u001b[0m\u001b[0;34m}\u001b[0m\u001b[0;34m\u001b[0m\u001b[0;34m\u001b[0m\u001b[0m\n\u001b[0m\u001b[1;32m      3\u001b[0m \u001b[0;32mif\u001b[0m \u001b[0;34m(\u001b[0m\u001b[0mdisc\u001b[0m \u001b[0;34m>\u001b[0m \u001b[0;36m0\u001b[0m\u001b[0;34m)\u001b[0m\u001b[0;34m:\u001b[0m\u001b[0;34m\u001b[0m\u001b[0;34m\u001b[0m\u001b[0m\n\u001b[1;32m      4\u001b[0m     \u001b[0mprint\u001b[0m\u001b[0;34m(\u001b[0m\u001b[0;34m\"El discriminante de la ecuación es positivo\"\u001b[0m\u001b[0;34m)\u001b[0m\u001b[0;34m\u001b[0m\u001b[0;34m\u001b[0m\u001b[0m\n\u001b[1;32m      5\u001b[0m \u001b[0;32melse\u001b[0m\u001b[0;34m:\u001b[0m\u001b[0;34m\u001b[0m\u001b[0;34m\u001b[0m\u001b[0m\n",
      "\u001b[0;31mNameError\u001b[0m: name 'b' is not defined"
     ]
    }
   ],
   "source": [
    "# Tu código aquí\n",
    "chicharronera = {(-b+(b*b-4*a*c)**(1/2))/(2*a)}\n",
    "if (disc > 0):\n",
    "    print(\"El discriminante de la ecuación es positivo\")\n",
    "else:\n",
    "    print(\"El disrciminante de la ecuación es negativo\")"
   ]
  },
  {
   "cell_type": "code",
   "execution_count": null,
   "metadata": {},
   "outputs": [],
   "source": []
  }
 ],
 "metadata": {
  "kernelspec": {
   "display_name": "Python 3",
   "language": "python",
   "name": "python3"
  },
  "language_info": {
   "codemirror_mode": {
    "name": "ipython",
    "version": 3
   },
   "file_extension": ".py",
   "mimetype": "text/x-python",
   "name": "python",
   "nbconvert_exporter": "python",
   "pygments_lexer": "ipython3",
   "version": "3.7.3"
  }
 },
 "nbformat": 4,
 "nbformat_minor": 2
}
