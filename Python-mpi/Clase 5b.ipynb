{
 "cells": [
  {
   "cell_type": "markdown",
   "metadata": {},
   "source": [
    "### Notas de Daniel Salgado (CNS - IPICyT)"
   ]
  },
  {
   "cell_type": "markdown",
   "metadata": {},
   "source": [
    "# Reciclando código"
   ]
  },
  {
   "cell_type": "markdown",
   "metadata": {},
   "source": [
    "Una forma eficiente de generar código que después se puede volver a utilizar, es mediante la definición de funciones"
   ]
  },
  {
   "cell_type": "markdown",
   "metadata": {},
   "source": [
    "### Funciones\n",
    "\n",
    "Syntaxis:\n",
    "\n",
    "__def__ NombreFunción __(__ _parámetros_ __):__  \n",
    "&nbsp;&nbsp;&nbsp;&nbsp;&nbsp;&nbsp;&nbsp;&nbsp;&nbsp;&nbsp; Alguna(s) acción(es)  \n",
    "&nbsp;&nbsp;&nbsp;&nbsp;&nbsp;&nbsp;&nbsp;&nbsp;&nbsp;&nbsp; __return__ _valores_ (En realidad, los parámetros y return son opcionales) \n"
   ]
  },
  {
   "cell_type": "markdown",
   "metadata": {},
   "source": [
    "Argumentos de funciones: la diferencia entre una variable que es modificable y una que no es modificable."
   ]
  },
  {
   "cell_type": "markdown",
   "metadata": {},
   "source": [
    "__Ejercicio__ Modifica el siguiente código para que al ejecutar la función se sume 1.5 a cada uno de los elementos del arreglo recibido"
   ]
  },
  {
   "cell_type": "code",
   "execution_count": 21,
   "metadata": {},
   "outputs": [
    {
     "ename": "IndentationError",
     "evalue": "expected an indented block (<ipython-input-21-628977d8d4cc>, line 5)",
     "output_type": "error",
     "traceback": [
      "\u001b[0;36m  File \u001b[0;32m\"<ipython-input-21-628977d8d4cc>\"\u001b[0;36m, line \u001b[0;32m5\u001b[0m\n\u001b[0;31m    Lista_original = [i*i*2.0 for i in range(20)]\u001b[0m\n\u001b[0m                 ^\u001b[0m\n\u001b[0;31mIndentationError\u001b[0m\u001b[0;31m:\u001b[0m expected an indented block\n"
     ]
    }
   ],
   "source": [
    "def Fun_add1(lista):\n",
    "    #Tu código aquí\n",
    "    \n",
    "# Defino una lista\n",
    "Lista_original = [i*i*2.0 for i in range(20)]\n",
    "print(Lista_original)\n",
    "\n",
    "# Llamo a la función que modifica la lista\n",
    "Fun_add1(Lista_original)\n",
    "print(Lista_original)"
   ]
  },
  {
   "cell_type": "markdown",
   "metadata": {},
   "source": [
    "Si yo quisiera modificar una variable..."
   ]
  },
  {
   "cell_type": "code",
   "execution_count": 27,
   "metadata": {},
   "outputs": [
    {
     "name": "stdout",
     "output_type": "stream",
     "text": [
      "7.5\n",
      "7.5\n"
     ]
    }
   ],
   "source": [
    "def Fun_add2(var):\n",
    "    var += 1.5\n",
    "    #Tu código aquí\n",
    "    \n",
    "# Defino una variable\n",
    "var = 7.5\n",
    "print(var)\n",
    "\n",
    "# Llamo a la función que modifica la lista\n",
    "Fun_add2(var)\n",
    "print(var)"
   ]
  },
  {
   "cell_type": "markdown",
   "metadata": {},
   "source": [
    "Una posible solución es definir a la variable como global"
   ]
  },
  {
   "cell_type": "code",
   "execution_count": 28,
   "metadata": {},
   "outputs": [
    {
     "name": "stdout",
     "output_type": "stream",
     "text": [
      "7.5\n",
      "9.0\n"
     ]
    }
   ],
   "source": [
    "def Fun_add2():       # OJO: Ya no recibo argumentos (parámetros)\n",
    "    global var        # Defino a var como una variable global     \n",
    "    var += 1.5\n",
    "    \n",
    "# Defino una variable\n",
    "var = 7.5\n",
    "print(var)\n",
    "\n",
    "# Llamo a la función que modifica la variable global var\n",
    "Fun_add2()\n",
    "print(var)"
   ]
  },
  {
   "cell_type": "markdown",
   "metadata": {},
   "source": [
    "### Lectura y escritura de archivos\n",
    "\n",
    "__Lectura:__\n",
    "\n",
    "archivo = open(dirección+nombre, 'r')  \n",
    "contenido = archivo.read()  \n",
    "print(contenido)  \n",
    "archivo.close()\n",
    "\n",
    "__Escritura:__\n",
    "\n",
    "archivo = open(dirección+nombre, 'w')  \n",
    "archivo.write(\"texto\")  \n",
    "archivo.close()  \n",
    "\n",
    "__Modificar un archivo existente (append):__\n",
    "\n",
    "archivo = open(dirección+nombre, 'a')  \n",
    "contenido = archivo.write()  \n",
    "print(contenido)  \n",
    "archivo.close()"
   ]
  },
  {
   "cell_type": "code",
   "execution_count": 1,
   "metadata": {},
   "outputs": [],
   "source": [
    "# Veamos un ejemplo:\n",
    "\n",
    "#fsalida = open(\"./prueba_escritura.dat\", \"w\", encoding=\"utf8\")\n",
    "#Para usuarios de Windows\n",
    "fsalida = open(\"./prueba_escritura.dat\", \"w\")\n",
    "fsalida.write(\"Hola, ya llegué, ya no tienes por qué seguir sintiéndote vacío.\\n\") \n",
    "fsalida.close()\n",
    "\n",
    "# Ahora revisa tu directorio de trabajo"
   ]
  },
  {
   "cell_type": "code",
   "execution_count": 18,
   "metadata": {},
   "outputs": [
    {
     "name": "stdout",
     "output_type": "stream",
     "text": [
      "Hola, ya llegué, ya no tienes porqué seguir sintiéndote vacío.\n",
      "\n"
     ]
    }
   ],
   "source": [
    "# Ahora utilicemos la lectura\n",
    "fentrada = open(\"./prueba_escritura.dat\", \"r\")\n",
    "contenido = fentrada.read()\n",
    "print(contenido)\n",
    "fentrada.close()"
   ]
  },
  {
   "cell_type": "markdown",
   "metadata": {},
   "source": [
    "__Ejercicio__ Crea un programa que reciba dos números reales y que escriba el resultado de la suma de ambos números a un archivo llamado suma.dat"
   ]
  },
  {
   "cell_type": "code",
   "execution_count": 19,
   "metadata": {},
   "outputs": [
    {
     "name": "stdout",
     "output_type": "stream",
     "text": [
      "Dame un número real5.7\n",
      "Dame otro número real13.2\n"
     ]
    }
   ],
   "source": [
    "# Tu respuesta aquí\n",
    "\n"
   ]
  },
  {
   "cell_type": "markdown",
   "metadata": {},
   "source": [
    "__Ejercicio__ Crea un programa que lea el archivo de suma.dat y que imprima a pantalla su contenido."
   ]
  },
  {
   "cell_type": "code",
   "execution_count": 19,
   "metadata": {},
   "outputs": [
    {
     "name": "stdout",
     "output_type": "stream",
     "text": [
      "Dame un número real5.7\n",
      "Dame otro número real13.2\n"
     ]
    }
   ],
   "source": [
    "# Tu respuesta aquí\n",
    "\n"
   ]
  },
  {
   "cell_type": "markdown",
   "metadata": {},
   "source": [
    "__Ejercicio__ Crea un programa que reciba el nombre de un archivo y que despliege el contenido de dicho archivo."
   ]
  },
  {
   "cell_type": "code",
   "execution_count": 20,
   "metadata": {},
   "outputs": [
    {
     "name": "stdout",
     "output_type": "stream",
     "text": [
      "¡Dame el nombre de un archivo, humano!suma.dat\n",
      "18.9\n",
      "\n"
     ]
    }
   ],
   "source": [
    "# Tu respuesta aquí\n"
   ]
  },
  {
   "cell_type": "markdown",
   "metadata": {},
   "source": [
    "__Ejercicio__ Crea un código que escriba 3 el mensaje \"¿Qué onda, qué haces?\" a 3 archivos llamados saludo_i.txt, donde $i = 1, 2, 3$."
   ]
  },
  {
   "cell_type": "code",
   "execution_count": 2,
   "metadata": {},
   "outputs": [],
   "source": [
    "#Tu respuesta aquí\n",
    "for i in range(1,4):\n",
    "    saludo = open(f\"./saludo_{i}.txt\", \"w\")\n",
    "    saludo.write(\"¿Qué onda, qué haces?\")\n",
    "    saludo.close()"
   ]
  },
  {
   "cell_type": "markdown",
   "metadata": {},
   "source": [
    "__Ejercicio__ Crea un código que escriba 3 archivos. Cada archivo deberá llevar por nombre salida\\_N.dat, donde *N* corresponde al número de archivo creado. Cada archivo deberá tener escrita la frase: *Yo contengo el número N*, de nuevo, *N* corresponde al número de archivo creado. Por ejemplo, el archivo 3 deberá llamarse salida\\_3.dat, y deberá contener la frase: *Yo contengo el número 3*"
   ]
  },
  {
   "cell_type": "code",
   "execution_count": 3,
   "metadata": {},
   "outputs": [],
   "source": [
    "#Tu respuesta aquí\n",
    "for N in range(1,4):\n",
    "    salida = open(f\"salida_{N}.dat\",\"w\")\n",
    "    salida.write(f\"Yo contengo el número {N}, de nuevo, {N}\")\n",
    "    salida.close()"
   ]
  },
  {
   "cell_type": "markdown",
   "metadata": {},
   "source": [
    "__Ejercicio__ Crea un código que lea los 3 archivos creados en el ejercicio anterior, e imprima su contenido (en el mismo orden en que indica su número) dentro del archivo salida\\_total.dat."
   ]
  },
  {
   "cell_type": "code",
   "execution_count": 4,
   "metadata": {},
   "outputs": [
    {
     "name": "stdout",
     "output_type": "stream",
     "text": [
      "Yo contengo el número 1, de nuevo, 1\n",
      "\n",
      "Yo contengo el número 1, de nuevo, 1\n",
      "Yo contengo el número 2, de nuevo, 2\n",
      "\n",
      "Yo contengo el número 1, de nuevo, 1\n",
      "Yo contengo el número 2, de nuevo, 2\n",
      "Yo contengo el número 3, de nuevo, 3\n",
      "\n"
     ]
    }
   ],
   "source": [
    "# Tu respuesta aquí\n",
    "contenido = \"\"\n",
    "for N in range (1,4):\n",
    "    total = open(f\"salida_{N}.dat\",\"r\")\n",
    "    contenido += total.read()+\"\\n\"\n",
    "    print(contenido)\n",
    "    total.close()\n",
    "sal_tot = open(\"salida_total.dat\",\"w\")\n",
    "sal_tot.write(contenido)\n",
    "sal_tot.close()"
   ]
  },
  {
   "cell_type": "markdown",
   "metadata": {},
   "source": [
    "Otra forma que es muy utilizada para escribir y leer un archivo, es la siguiente"
   ]
  },
  {
   "cell_type": "code",
   "execution_count": 32,
   "metadata": {},
   "outputs": [],
   "source": [
    "with open(\"Testing.dat\", \"w\") as fp:\n",
    "    for i in range(10):\n",
    "        fp.write(f\"Esta es la línea {i} de texto\\n\")"
   ]
  },
  {
   "cell_type": "code",
   "execution_count": 33,
   "metadata": {
    "scrolled": true
   },
   "outputs": [
    {
     "name": "stdout",
     "output_type": "stream",
     "text": [
      "Esta es la línea 0 de texto\n",
      "\n",
      "Esta es la línea 1 de texto\n",
      "\n",
      "Esta es la línea 2 de texto\n",
      "\n",
      "Esta es la línea 3 de texto\n",
      "\n",
      "Esta es la línea 4 de texto\n",
      "\n",
      "Esta es la línea 5 de texto\n",
      "\n",
      "Esta es la línea 6 de texto\n",
      "\n",
      "Esta es la línea 7 de texto\n",
      "\n",
      "Esta es la línea 8 de texto\n",
      "\n",
      "Esta es la línea 9 de texto\n",
      "\n"
     ]
    }
   ],
   "source": [
    "with open(\"Testing.dat\", \"r\") as fp:\n",
    "    for line in fp:\n",
    "        print(line)"
   ]
  },
  {
   "cell_type": "code",
   "execution_count": 34,
   "metadata": {},
   "outputs": [],
   "source": [
    "with open(\"Testing.dat\", \"a\") as fp:\n",
    "    for i in range(10):\n",
    "        fp.write(f\"Esta es la línea {i} extra de texto\\n\")"
   ]
  },
  {
   "cell_type": "code",
   "execution_count": 35,
   "metadata": {
    "scrolled": true
   },
   "outputs": [
    {
     "name": "stdout",
     "output_type": "stream",
     "text": [
      "Esta es la línea 0 de texto\n",
      "\n",
      "Esta es la línea 1 de texto\n",
      "\n",
      "Esta es la línea 2 de texto\n",
      "\n",
      "Esta es la línea 3 de texto\n",
      "\n",
      "Esta es la línea 4 de texto\n",
      "\n",
      "Esta es la línea 5 de texto\n",
      "\n",
      "Esta es la línea 6 de texto\n",
      "\n",
      "Esta es la línea 7 de texto\n",
      "\n",
      "Esta es la línea 8 de texto\n",
      "\n",
      "Esta es la línea 9 de texto\n",
      "\n",
      "Esta es la línea 0 extra de texto\n",
      "\n",
      "Esta es la línea 1 extra de texto\n",
      "\n",
      "Esta es la línea 2 extra de texto\n",
      "\n",
      "Esta es la línea 3 extra de texto\n",
      "\n",
      "Esta es la línea 4 extra de texto\n",
      "\n",
      "Esta es la línea 5 extra de texto\n",
      "\n",
      "Esta es la línea 6 extra de texto\n",
      "\n",
      "Esta es la línea 7 extra de texto\n",
      "\n",
      "Esta es la línea 8 extra de texto\n",
      "\n",
      "Esta es la línea 9 extra de texto\n",
      "\n"
     ]
    }
   ],
   "source": [
    "with open(\"Testing.dat\", \"r\") as fp:\n",
    "    for line in fp:\n",
    "        print(line)"
   ]
  },
  {
   "cell_type": "markdown",
   "metadata": {},
   "source": [
    "__Ejercicio__ Crea un código que escriba a un archivo los primeros 100 números de la secuencias de Fibonacci utilizando como base: $$(a_0, a_1) = (0, 1)$$. El archivo puede llamarse como quieras. "
   ]
  },
  {
   "cell_type": "code",
   "execution_count": null,
   "metadata": {},
   "outputs": [],
   "source": [
    "with open(\"fibo.dat\",\"w\") as fibo\n",
    "    (a_0,a_1)=(0,1)\n",
    "    for a_n in range(1,101):    \n",
    "        fibo.write(f\"\")"
   ]
  },
  {
   "cell_type": "markdown",
   "metadata": {},
   "source": [
    "__Ejercicio__ Crea un código que escriba a 3 archivos distintos, 100 números de la secuencias de Fibonacci utilizando como bases: $$(a_0, a_1) = (0, 1)$$ $$(a_0, a_1) = (1, 2)$$ $$(a_0, a_1) = (2, 3)$$  \n",
    "Los archivos deben llamarse secuenciaFib1.dat, secuenciaFib2.dat y secuenciaFib3.dat "
   ]
  },
  {
   "cell_type": "code",
   "execution_count": null,
   "metadata": {},
   "outputs": [],
   "source": [
    "# Tu respuesta aquí"
   ]
  }
 ],
 "metadata": {
  "kernelspec": {
   "display_name": "Python 3",
   "language": "python",
   "name": "python3"
  },
  "language_info": {
   "codemirror_mode": {
    "name": "ipython",
    "version": 3
   },
   "file_extension": ".py",
   "mimetype": "text/x-python",
   "name": "python",
   "nbconvert_exporter": "python",
   "pygments_lexer": "ipython3",
   "version": "3.7.3"
  }
 },
 "nbformat": 4,
 "nbformat_minor": 2
}
