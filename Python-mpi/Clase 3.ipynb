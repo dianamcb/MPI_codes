{
 "cells": [
  {
   "cell_type": "markdown",
   "metadata": {},
   "source": [
    "### Notas de Daniel Salgado (CNS - IPICyT) para el curso Introducción al Cómputo Científico (2018) "
   ]
  },
  {
   "cell_type": "markdown",
   "metadata": {},
   "source": [
    "# Control de flujo"
   ]
  },
  {
   "cell_type": "markdown",
   "metadata": {},
   "source": [
    "Para poder utilizar los elementos del lenguaje, necesito algo que pueda interpretarse como una proposición, donde:\n",
    "\"una proposición es cualquier frase o enunciado que pueda ser verdadero o falso\". La idea general (tal vez con excepción de for) es: \n",
    "\n",
    "Si __proposición__, entonces __algo__ __sucede__\n",
    "\n",
    "Los elementos de control de flujo en python son:\n",
    "* if-elif-else\n",
    "* for (range)\n",
    "* while (break/continue)\n"
   ]
  },
  {
   "cell_type": "markdown",
   "metadata": {},
   "source": [
    "### if - elif - else\n",
    "\n",
    "Syntaxis\n",
    "\n",
    "__if (proposición):__<br />\n",
    "&nbsp;&nbsp;&nbsp;&nbsp;&nbsp; __alguna(s)__ __acción(es)__ (¡OJO!, los dos puntos y la sangría son NECESARIOS)\n",
    "\n",
    "Evalúa como falso si:\n",
    "* Contenedor vacío\n",
    "* False o None\n",
    "* Cualquier número igual a 0\n",
    "\n",
    "Es verdadero en cualquier otro caso"
   ]
  },
  {
   "cell_type": "code",
   "execution_count": 14,
   "metadata": {},
   "outputs": [
    {
     "name": "stdout",
     "output_type": "stream",
     "text": [
      "¿a > b? False\n",
      "¿a < b? True\n",
      "¿a = c? True\n"
     ]
    }
   ],
   "source": [
    "# Ahora, ¿y si quiero definir un enunciado en función del resultado de una operación?\n",
    "a = 1\n",
    "b = 2\n",
    "c = 1\n",
    "\n",
    "print('¿a > b?',  a > b)\n",
    "print('¿a < b?',  a < b)\n",
    "print('¿a = c?',  a == c)  # Ojo, a = c sólo lo uso en la cadena que imprimo pero no es la instrucción que ejecuto."
   ]
  },
  {
   "cell_type": "markdown",
   "metadata": {},
   "source": [
    "Observa que un signo igual (=) se usa para asignar, mientras que dos signos juntos se usan para preguntar si dos cosas son iguales"
   ]
  },
  {
   "cell_type": "code",
   "execution_count": 1,
   "metadata": {
    "scrolled": true
   },
   "outputs": [
    {
     "name": "stdout",
     "output_type": "stream",
     "text": [
      "¿3 == 3? True\n"
     ]
    }
   ],
   "source": [
    "x = 3  # Asigno un valor a la variable\n",
    "print('¿3 == 3?', x == 3) # pregunto si x vale 3 "
   ]
  },
  {
   "cell_type": "markdown",
   "metadata": {},
   "source": [
    "Que dos cosas valgan lo mismo no quiere decir que sean la misma cosa"
   ]
  },
  {
   "cell_type": "code",
   "execution_count": 12,
   "metadata": {},
   "outputs": [
    {
     "name": "stdout",
     "output_type": "stream",
     "text": [
      "¿x = y? True\n",
      "¿x is y? False\n"
     ]
    }
   ],
   "source": [
    "x = [1,2]\n",
    "y = [1,2]\n",
    "print('¿x = y?',  x == y) # ¿valen lo mismo?\n",
    "print('¿x is y?', x is y) # ¿son lo mismo? "
   ]
  },
  {
   "cell_type": "code",
   "execution_count": 15,
   "metadata": {},
   "outputs": [
    {
     "name": "stdout",
     "output_type": "stream",
     "text": [
      "¿3 != 3? False\n",
      "¿3 >= 3? True\n",
      "¿3 <= 3? True\n"
     ]
    }
   ],
   "source": [
    "print('¿3 != 3?', 3 != 3) # ¿Qué significa !=?\n",
    "print('¿3 >= 3?', 3 >= 3)\n",
    "print('¿3 <= 3?', 3 <= 3)"
   ]
  },
  {
   "cell_type": "code",
   "execution_count": 17,
   "metadata": {},
   "outputs": [
    {
     "name": "stdout",
     "output_type": "stream",
     "text": [
      "¿3 >= 3.0? False\n"
     ]
    },
    {
     "ename": "TypeError",
     "evalue": "'>' not supported between instances of 'int' and 'complex'",
     "output_type": "error",
     "traceback": [
      "\u001b[0;31m---------------------------------------------------------------------------\u001b[0m",
      "\u001b[0;31mTypeError\u001b[0m                                 Traceback (most recent call last)",
      "\u001b[0;32m<ipython-input-17-90eed4c2d1f4>\u001b[0m in \u001b[0;36m<module>\u001b[0;34m\u001b[0m\n\u001b[1;32m      1\u001b[0m \u001b[0;31m# Notar cuándo tienen sentido las comparaciones (tipo variable). Por ejemplo\u001b[0m\u001b[0;34m\u001b[0m\u001b[0;34m\u001b[0m\u001b[0;34m\u001b[0m\u001b[0m\n\u001b[1;32m      2\u001b[0m \u001b[0mprint\u001b[0m\u001b[0;34m(\u001b[0m\u001b[0;34m'¿3 >= 3.0?'\u001b[0m\u001b[0;34m,\u001b[0m  \u001b[0;36m3\u001b[0m \u001b[0;34m>\u001b[0m \u001b[0;36m3.0\u001b[0m\u001b[0;34m)\u001b[0m \u001b[0;31m# No comparo el mismo tipo de variables pero python sabe cómo manejar esto (es obvio)\u001b[0m\u001b[0;34m\u001b[0m\u001b[0;34m\u001b[0m\u001b[0m\n\u001b[0;32m----> 3\u001b[0;31m \u001b[0mprint\u001b[0m\u001b[0;34m(\u001b[0m\u001b[0;34m'¿3 >= 3 + 0j?'\u001b[0m\u001b[0;34m,\u001b[0m  \u001b[0;36m3\u001b[0m \u001b[0;34m>\u001b[0m \u001b[0;36m3\u001b[0m \u001b[0;34m+\u001b[0m \u001b[0;36m0j\u001b[0m\u001b[0;34m)\u001b[0m  \u001b[0;31m# 3+ 0j es complejo aunque su parte imaginaria sea cero.\u001b[0m\u001b[0;34m\u001b[0m\u001b[0;34m\u001b[0m\u001b[0m\n\u001b[0m\u001b[1;32m      4\u001b[0m \u001b[0mprint\u001b[0m\u001b[0;34m(\u001b[0m\u001b[0;34m'¿3 >= \"3\"?'\u001b[0m\u001b[0;34m,\u001b[0m  \u001b[0;36m3\u001b[0m \u001b[0;34m>\u001b[0m \u001b[0;34m\"3\"\u001b[0m\u001b[0;34m)\u001b[0m        \u001b[0;31m# Esto tampoco se puede comparar\u001b[0m\u001b[0;34m\u001b[0m\u001b[0;34m\u001b[0m\u001b[0m\n",
      "\u001b[0;31mTypeError\u001b[0m: '>' not supported between instances of 'int' and 'complex'"
     ]
    }
   ],
   "source": [
    "# Notar cuándo tienen sentido las comparaciones (tipo variable). Por ejemplo\n",
    "print('¿3 >= 3.0?',  3 > 3.0) # No comparo el mismo tipo de variables pero python sabe cómo manejar esto (es obvio)\n",
    "print('¿3 >= 3 + 0j?',  3 > 3 + 0j)  # 3+ 0j es complejo aunque su parte imaginaria sea cero.\n",
    "print('¿3 >= \"3\"?',  3 > \"3\")        # Esto tampoco se puede comparar"
   ]
  },
  {
   "cell_type": "code",
   "execution_count": 18,
   "metadata": {},
   "outputs": [
    {
     "name": "stdout",
     "output_type": "stream",
     "text": [
      "Dame un número entero3\n",
      "a vale 3 y es una variable de tipo: <class 'str'>\n",
      "Ahora a vale 3.0 y es una variable de tipo: <class 'float'>\n"
     ]
    }
   ],
   "source": [
    "# Pero es posible hacer cambio de un tipo de variable a otra (cast). Por ejemplo:\n",
    "a = input(\"Dame un número entero\")\n",
    "print(f\"a vale {a} y es una variable de tipo: {type(a)}\")\n",
    "\n",
    "# Ahora la cambio\n",
    "a = float(a)\n",
    "print(f\"Ahora a vale {a} y es una variable de tipo: {type(a)}\")"
   ]
  },
  {
   "cell_type": "markdown",
   "metadata": {},
   "source": [
    "__Ejercicio__: Modifica el siguiente código para que reciba una variable llamada \"clima\", y que, en caso de que dicha variable sea igual a \"lluvia\", imprima la frase escrita."
   ]
  },
  {
   "cell_type": "code",
   "execution_count": 7,
   "metadata": {},
   "outputs": [
    {
     "name": "stdin",
     "output_type": "stream",
     "text": [
      "Dame un numero: 1\n"
     ]
    },
    {
     "name": "stdout",
     "output_type": "stream",
     "text": [
      "¡No olvides llevar tu toalla, digo, tu paraguas!\n"
     ]
    }
   ],
   "source": [
    "# Modifica el siguiente código\n",
    "x = int(input('Dame un numero:'))\n",
    "y = 1\n",
    "if x == y: print(\"¡No olvides llevar tu toalla, digo, tu paraguas!\") "
   ]
  },
  {
   "cell_type": "markdown",
   "metadata": {},
   "source": [
    "__Ejercicio__: Escribe un código que al recibir un número negativo, imprima en pantalla: \"¡Eso es muy negativo de tu parte!\".\n",
    "\n",
    "__OJO__: Recuerda que el valor recibido por la función input se interpreta como cadena."
   ]
  },
  {
   "cell_type": "code",
   "execution_count": 11,
   "metadata": {},
   "outputs": [
    {
     "name": "stdin",
     "output_type": "stream",
     "text": [
      "Dame un número -1\n"
     ]
    },
    {
     "name": "stdout",
     "output_type": "stream",
     "text": [
      "Es negativo\n"
     ]
    }
   ],
   "source": [
    "número = int(input(\"Dame un número\"))\n",
    "if número>0:\n",
    "    print(\"Es positivo\")\n",
    "else:\n",
    "    print(\"Es negativo\")"
   ]
  },
  {
   "cell_type": "code",
   "execution_count": 12,
   "metadata": {},
   "outputs": [
    {
     "name": "stdout",
     "output_type": "stream",
     "text": [
      "Usar paraguas es para perdedores\n"
     ]
    }
   ],
   "source": [
    "# Cambia el valor de \"llueve\" después de ejecutar una vez\n",
    "llueve = False\n",
    "\n",
    "if llueve:\n",
    "   print(\"¡No, el río Santiago va a estar cerrado, sálvese el que pueda!\")\n",
    "\n",
    "# ¿Qué pasa si queremos imprimir otro mensaje pero sólo uno en cada ocasión?"
   ]
  },
  {
   "cell_type": "markdown",
   "metadata": {},
   "source": [
    "Syntaxis\n",
    "\n",
    "__if (proposición):__<br />\n",
    "&nbsp;&nbsp;&nbsp;&nbsp;&nbsp; __alguna(s)__ __acción(es)__ (¡OJO!, los dos puntos y la sangría son NECESARIOS) <br />\n",
    "__else:__<br />\n",
    "&nbsp;&nbsp;&nbsp;&nbsp;&nbsp; __alguna(s)__ __acción(es)__ (¡De nuevo!, los dos puntos y la sangría son NECESARIOS)"
   ]
  },
  {
   "cell_type": "code",
   "execution_count": 1,
   "metadata": {},
   "outputs": [
    {
     "name": "stdout",
     "output_type": "stream",
     "text": [
      "¿Tienes hambre? (Si/No)No\n",
      "entonces deja de ver mi sándwich\n"
     ]
    }
   ],
   "source": [
    "hambre = input(\"¿Tienes hambre? (Si/No)\") # Observa la inclusión de un argumento en la función input\n",
    "if (hambre == \"Si\"):\n",
    "    print(\"cómete un snickers\")\n",
    "else:                \n",
    "    print(\"entonces deja de ver mi sándwich\")  # Si lo anterior no sucede, entonces esto se ejecuta"
   ]
  },
  {
   "cell_type": "markdown",
   "metadata": {},
   "source": [
    "__Ejercicio__: Crea código que al recibir un número entero, imprima si se trata de un número par o impar "
   ]
  },
  {
   "cell_type": "code",
   "execution_count": 10,
   "metadata": {},
   "outputs": [
    {
     "name": "stdin",
     "output_type": "stream",
     "text": [
      "Escribe un número 7\n"
     ]
    },
    {
     "name": "stdout",
     "output_type": "stream",
     "text": [
      "Es impar\n"
     ]
    }
   ],
   "source": [
    "# Tu código aquí\n",
    "entero = int(input(\"Escribe un número\"))\n",
    "if (entero%2==0):\n",
    "    print(\"Es par\")\n",
    "else:\n",
    "    print(\"Es impar\")"
   ]
  },
  {
   "cell_type": "markdown",
   "metadata": {},
   "source": [
    "__Ejercicio__: Modifica el código de \"llueve\" para que sólo imprima una frase, no importa la situación (llueve = True o False)"
   ]
  },
  {
   "cell_type": "code",
   "execution_count": 14,
   "metadata": {},
   "outputs": [
    {
     "name": "stdout",
     "output_type": "stream",
     "text": [
      "Esta más seco que mi corazón\n"
     ]
    }
   ],
   "source": [
    "# Tu código aquí\n",
    "llueve = False\n",
    "\n",
    "if llueve:\n",
    "    print(\"¡No, el río Santiago va a estar cerrado, sálvese el que pueda!\")\n",
    "else:\n",
    "    print(\"Esta más seco que mi corazón\")"
   ]
  },
  {
   "cell_type": "markdown",
   "metadata": {},
   "source": [
    "Syntaxis\n",
    "\n",
    "__if (proposición):__<br />\n",
    "&nbsp;&nbsp;&nbsp;&nbsp;&nbsp; __alguna(s)__ __acción(es)__ (¡OJO!, los dos puntos y la sangría son NECESARIOS) <br />\n",
    "__elif (proposición):__<br />\n",
    "&nbsp;&nbsp;&nbsp;&nbsp;&nbsp; __alguna(s)__ __acción(es)__ (¡De nuevo!, los dos puntos y la sangría son NECESARIOS) <br />\n",
    "__else:__<br />\n",
    "&nbsp;&nbsp;&nbsp;&nbsp;&nbsp; __alguna(s)__ __acción(es)__ (¡Una vez más!, los dos puntos y la sangría son NECESARIOS)"
   ]
  },
  {
   "cell_type": "code",
   "execution_count": 9,
   "metadata": {},
   "outputs": [
    {
     "name": "stdout",
     "output_type": "stream",
     "text": [
      "Mejor sigamos con la clase\n"
     ]
    }
   ],
   "source": [
    "# Hay ocasiones en que quiero probar más de una opción para ejecutar una acción específica\n",
    "estado = \"sueño\"\n",
    "\n",
    "if (estado == \"hambre\"):\n",
    "   print(\"Vamos por unas galletas\")\n",
    "elif (estado == \"sed\"):\n",
    "   print(\"Vamos a buscar un poco de agua\")\n",
    "else:\n",
    "   print(\"Mejor sigamos con la clase\")"
   ]
  },
  {
   "cell_type": "code",
   "execution_count": 3,
   "metadata": {},
   "outputs": [
    {
     "name": "stdout",
     "output_type": "stream",
     "text": [
      "Tal vez podamos tomarnos 5 minutos antes de seguir\n"
     ]
    }
   ],
   "source": [
    "# El número de elif que puedo utilizar no está restringido:\n",
    "\n",
    "estado = \"cansado\"\n",
    "\n",
    "if (estado == \"hambre\"):\n",
    "   print(\"Vamos por unas galletas\")\n",
    "elif (estado == \"sed\"):\n",
    "   print(\"Vamos a buscar un poco de agua\")\n",
    "elif (estado == \"sueño\"):\n",
    "   print(\"Vamos por un poco de café\")\n",
    "elif (estado == \"cansado\"):\n",
    "   print(\"Tal vez podamos tomarnos 5 minutos antes de seguir\")\n",
    "else:\n",
    "   print(\"Mejor sigamos con la clase\")"
   ]
  },
  {
   "cell_type": "code",
   "execution_count": null,
   "metadata": {},
   "outputs": [],
   "source": []
  },
  {
   "cell_type": "markdown",
   "metadata": {},
   "source": [
    "__Ejercicio__ Supongamos que hoy a las 16:00 hrs tienes un compromiso importante, por lo que tienes que programar con anticipación tu salida de casa. Máxime que en estos días te has fijado la meta de no utilizar tanto el auto para transportarte, por lo que quieres salir con más tiempo extra. Desafortunadamente después de comer te quedaste dormid@ (¡arghh, terrible mal del puerco!), y al despertarte desorientad@ le preguntas a tu roomie/pareja/mamá qué hora es. Crea un programa que al recibir la hora determine qué debes hacer. Supongamos además que te quedaste dormid@ a las 14:30 y que tus siestas son de máximo una hora y cuarto, por lo que el horario recibido debe estar entre las 14:30 y 15:45 horas. El horario se deberá introducir en el formato \"hh:mm\", incluyendo los dos puntos. Además, la opción que ofrezca tu programa deberá ser sólo una e incluir todas las opciones de transporte.\n",
    "\n",
    "Considera que el tiempo que necesitas para trasladarte hasta el lugar de tu cita está dado por la relación:\n",
    "* caminando - 40 minutos\n",
    "* bicicleta - 25 minutos\n",
    "* transporte público - 20 minutos\n",
    "* coche              - 10 minutos"
   ]
  },
  {
   "cell_type": "code",
   "execution_count": 18,
   "metadata": {},
   "outputs": [
    {
     "name": "stdin",
     "output_type": "stream",
     "text": [
      "¿Qué hora es? 12:24\n"
     ]
    },
    {
     "name": "stdout",
     "output_type": "stream",
     "text": [
      "12:24 12 24\n"
     ]
    }
   ],
   "source": [
    "tiempo = input(\"¿Qué hora es?\")\n",
    "hora = tiempo[0:2] #[a,b)\n",
    "minutos = tiempo[3:5]\n",
    "if hora < 15\n",
    "    print(\"Vete gateando o de rodillas\")\n",
    "elif (hora >= 15):\n",
    "    if (minutos>=45)"
   ]
  },
  {
   "cell_type": "markdown",
   "metadata": {},
   "source": [
    "__Ejercicio__ Crea un programa que reciba un año y determine si es bisiesto o no. Para ello, considera el siguiente diagrama de flujo (tomado de algún lugar de la red sin permiso pero sin mal intención ni fines de lucro).\n",
    "\n",
    "<img src=\"./Graf_algo_bisiesto.PNG\" width=\"300\" height=\"300\" />"
   ]
  },
  {
   "cell_type": "code",
   "execution_count": 25,
   "metadata": {},
   "outputs": [
    {
     "name": "stdout",
     "output_type": "stream",
     "text": [
      "Dame el año2015\n",
      "No es bisiesto\n"
     ]
    }
   ],
   "source": [
    "# Tu respuesta aquí"
   ]
  },
  {
   "cell_type": "markdown",
   "metadata": {},
   "source": [
    "### for/range\n",
    "\n",
    "Un ciclo for itera sobre los valores obtenidos por _cualquier_ objeto que sea iterable, es decir, cualquier objeto de donde se pueda obtener una secuencia de valores.\n",
    "\n",
    "Syntaxis\n",
    "\n",
    "__for (algo iterable):__<br />\n",
    "&nbsp;&nbsp;&nbsp;&nbsp;&nbsp; __alguna(s)__ __acción(es)__ (los dos puntos y la sangría son NECESARIOS)\n"
   ]
  },
  {
   "cell_type": "code",
   "execution_count": 26,
   "metadata": {},
   "outputs": [
    {
     "name": "stdout",
     "output_type": "stream",
     "text": [
      "uno\n",
      "2\n",
      "3.0\n",
      "(4+0j)\n",
      "5\n"
     ]
    }
   ],
   "source": [
    "# Ejemplos:\n",
    "\n",
    "# 1.- listas\n",
    "lista = ['uno', 2, 3.0, 4 + 0j, 4 + True]\n",
    "for elemento in lista:\n",
    "    print(elemento)"
   ]
  },
  {
   "cell_type": "code",
   "execution_count": 27,
   "metadata": {},
   "outputs": [
    {
     "name": "stdout",
     "output_type": "stream",
     "text": [
      "uno\n",
      "2\n",
      "3.0\n",
      "(4+0j)\n",
      "5\n"
     ]
    }
   ],
   "source": [
    "# Ejemplos:\n",
    "\n",
    "# 2.- Tuplas\n",
    "tupla = ('uno', 2, 3.0, 4 + 0j, 4 + True)\n",
    "for elemento in tupla:\n",
    "    print(elemento)"
   ]
  },
  {
   "cell_type": "code",
   "execution_count": 28,
   "metadata": {},
   "outputs": [
    {
     "name": "stdout",
     "output_type": "stream",
     "text": [
      "H\n",
      "o\n",
      "l\n",
      "a\n",
      ",\n",
      " \n",
      "m\n",
      "u\n",
      "n\n",
      "d\n",
      "o\n"
     ]
    }
   ],
   "source": [
    "# Ejemplos:\n",
    "\n",
    "# 3.- Cadena\n",
    "cadena = \"Hola, mundo\"\n",
    "for elemento in cadena:\n",
    "    print(elemento)"
   ]
  },
  {
   "cell_type": "code",
   "execution_count": 29,
   "metadata": {},
   "outputs": [
    {
     "name": "stdout",
     "output_type": "stream",
     "text": [
      "2\n",
      "3.0\n",
      "(4+0j)\n",
      "5\n",
      "uno\n"
     ]
    }
   ],
   "source": [
    "# Ejemplos:\n",
    "\n",
    "# 4.- Conjunto\n",
    "conjunto = set(lista)\n",
    "for elemento in conjunto:\n",
    "    print(elemento)"
   ]
  },
  {
   "cell_type": "code",
   "execution_count": 13,
   "metadata": {},
   "outputs": [
    {
     "name": "stdout",
     "output_type": "stream",
     "text": [
      "20\n",
      "uno\n",
      "2\n",
      "3.0\n",
      "(4+0j)\n"
     ]
    }
   ],
   "source": [
    "# 5.- Diccionario\n",
    "# Observar que el ciclo es sobre las llaves/claves (keys), \n",
    "# y no llevan un orden particular, pues los diccionrios no son conjuntos ordenados.\n",
    "\n",
    "diccionario = {20: 1, 'uno': 2, 2: 3, 3.0: 4, 4 + 0j: 5}\n",
    "for elemento in diccionario:\n",
    "    print(elemento)"
   ]
  },
  {
   "cell_type": "markdown",
   "metadata": {},
   "source": [
    "__Ejercicio__ Supongamos que mediante un experimento encuentras la siguiente secuencia de ADN:\n",
    "\n",
    "accgaatgcccaggaggtttctcaacggctagtcttgtatctaccctacctaaacgtacc\n",
    "aaggttgctatggcacacatctgccgtatatacaaccggtcgacgattgaagacatttgt\n",
    "ccgccaatacgggcgatctgggacgttcaggagtcgaactatcaaattcctgattaagaa\n",
    "tgcgtgagcctttccatcatgttttatacgactcattgtttataaaattgaccgttcact\n",
    "ataacctcaaatccttaggatggttggacaggtgtatctgttggacggggctggcaatac\n",
    "ccactctctacatgaggcccgcttacattacctgatcgttctcaacctgtaggcaaaggg\n",
    "ctgtgccatttgccttaggccataaggtccctctccatcactggccactggttctgggct\n",
    "tagcggtgccatcgccccatgtgacttccttacaaaaccactctaaggggcgattgaagc\n",
    "ccttatctaacttggggttcctgtcggacactttagtctaatcatttgtgaggctagata\n",
    "ccgtggaggctctgattcttcatagaattcgatcgatgagtgagtacaatgccctggact\n",
    "aagcacgatcgcagtgtaggtaggtgaaccggcagacgcttgctccctaccggcgacaaa\n",
    "taatggtgcctcattgcaagtgaagatctcagcgatctaatgacgcgcgccgatcaagtg\n",
    "gcaatcagaacacatacacctaagtgatatccacataatgtgcacttggctggccccagc\n",
    "tcggcgtggtcacaaaggggtaggaggaccagggacattaattaataaaaacattaggta\n",
    "agtaacctaggttggtacggcaacctcttcaattttgaaatgctgccaatgacgacaacg\n",
    "aagcttcacgggcacgtactacgagtttgtaccaccatctgagttcacatgcagcataag\n",
    "tacgcatcgatgtcgagtaggttaacaagtccctcgcgga\n",
    "\n",
    "Utiliza lo aprendido para determinar cuántos elementos hay de cada base (A, C, G y T)."
   ]
  },
  {
   "cell_type": "code",
   "execution_count": 30,
   "metadata": {},
   "outputs": [
    {
     "name": "stdout",
     "output_type": "stream",
     "text": [
      "La secuenta de ADN contiene 261 adeninas, 249 citosinas, 236 guaninas, 254 timinas\n"
     ]
    }
   ],
   "source": [
    "# Tu código aquí\n",
    "sec = \"accgaatgcccaggaggtttctcaacggctagtcttgtatctaccctacctaaacgtaccaaggttgctatggcacacatctgccgtatatacaaccggtcgacgattgaagacatttgtccgccaatacgggcgatctgggacgttcaggagtcgaactatcaaattcctgattaagaatgcgtgagcctttccatcatgttttatacgactcattgtttataaaattgaccgttcactataacctcaaatccttaggatggttggacaggtgtatctgttggacggggctggcaatacccactctctacatgaggcccgcttacattacctgatcgttctcaacctgtaggcaaagggctgtgccatttgccttaggccataaggtccctctccatcactggccactggttctgggcttagcggtgccatcgccccatgtgacttccttacaaaaccactctaaggggcgattgaagcccttatctaacttggggttcctgtcggacactttagtctaatcatttgtgaggctagataccgtggaggctctgattcttcatagaattcgatcgatgagtgagtacaatgccctggactaagcacgatcgcagtgtaggtaggtgaaccggcagacgcttgctccctaccggcgacaaataatggtgcctcattgcaagtgaagatctcagcgatctaatgacgcgcgccgatcaagtggcaatcagaacacatacacctaagtgatatccacataatgtgcacttggctggccccagctcggcgtggtcacaaaggggtaggaggaccagggacattaattaataaaaacattaggtaagtaacctaggttggtacggcaacctcttcaattttgaaatgctgccaatgacgacaacgaagcttcacgggcacgtactacgagtttgtaccaccatctgagttcacatgcagcataagtacgcatcgatgtcgagtaggttaacaagtccctcgcgga\"\n",
    "count_a,count_c,count_g,count_t = 0,0,0,0\n",
    "#for(int i=0;i<valor;i++)\n",
    "for letra in sec:\n",
    "    if letra == 'a':\n",
    "        count_a += 1\n",
    "    elif letra == 'c':\n",
    "        count_c += 1\n",
    "    elif ...:\n",
    "    elif ...:\n",
    "print(f'Secuencia de ADN es {count_a} Adeninas, ...')"
   ]
  },
  {
   "cell_type": "markdown",
   "metadata": {},
   "source": [
    "__Ejercicio__ Por lo general, cada base busca unirse sólo con otra pase particular. Este apareamiento se da de la siguiente forma: Adenina y Timina, Citosina y Guanina. Así pues, si en una cadena hay una adenina puede esperarse que en la cadena complementaria haya una timina, y si se encuentra una Guanina, es razonable esperar que en la cadena complementaria se encuentre una Citosina. Teniendo esto en mente y utilizando la secuencia anterior, determina la secuencia de la cadena complementaria. "
   ]
  },
  {
   "cell_type": "code",
   "execution_count": 3,
   "metadata": {},
   "outputs": [
    {
     "name": "stdout",
     "output_type": "stream",
     "text": [
      "['t', 'g', 'g', 'c', 't', 't', 'a', 'c', 'g', 'g', 'g', 't', 'c', 'c', 't', 'c', 'c', 'a', 'a', 'a', 'g', 'a', 'g', 't', 't', 'g', 'c', 'c', 'g', 'a', 't', 'c', 'a', 'g', 'a', 'a', 'c', 'a', 't', 'a', 'g', 'a', 't', 'g', 'g', 'g', 'a', 't', 'g', 'g', 'a', 't', 't', 't', 'g', 'c', 'a', 't', 'g', 'g', 't', 't', 'c', 'c', 'a', 'a', 'c', 'g', 'a', 't', 'a', 'c', 'c', 'g', 't', 'g', 't', 'g', 't', 'a', 'g', 'a', 'c', 'g', 'g', 'c', 'a', 't', 'a', 't', 'a', 't', 'g', 't', 't', 'g', 'g', 'c', 'c', 'a', 'g', 'c', 't', 'g', 'c', 't', 'a', 'a', 'c', 't', 't', 'c', 't', 'g', 't', 'a', 'a', 'a', 'c', 'a', 'g', 'g', 'c', 'g', 'g', 't', 't', 'a', 't', 'g', 'c', 'c', 'c', 'g', 'c', 't', 'a', 'g', 'a', 'c', 'c', 'c', 't', 'g', 'c', 'a', 'a', 'g', 't', 'c', 'c', 't', 'c', 'a', 'g', 'c', 't', 't', 'g', 'a', 't', 'a', 'g', 't', 't', 't', 'a', 'a', 'g', 'g', 'a', 'c', 't', 'a', 'a', 't', 't', 'c', 't', 't', 'a', 'c', 'g', 'c', 'a', 'c', 't', 'c', 'g', 'g', 'a', 'a', 'a', 'g', 'g', 't', 'a', 'g', 't', 'a', 'c', 'a', 'a', 'a', 'a', 't', 'a', 't', 'g', 'c', 't', 'g', 'a', 'g', 't', 'a', 'a', 'c', 'a', 'a', 'a', 't', 'a', 't', 't', 't', 't', 'a', 'a', 'c', 't', 'g', 'g', 'c', 'a', 'a', 'g', 't', 'g', 'a', 't', 'a', 't', 't', 'g', 'g', 'a', 'g', 't', 't', 't', 'a', 'g', 'g', 'a', 'a', 't', 'c', 'c', 't', 'a', 'c', 'c', 'a', 'a', 'c', 'c', 't', 'g', 't', 'c', 'c', 'a', 'c', 'a', 't', 'a', 'g', 'a', 'c', 'a', 'a', 'c', 'c', 't', 'g', 'c', 'c', 'c', 'c', 'g', 'a', 'c', 'c', 'g', 't', 't', 'a', 't', 'g', 'g', 'g', 't', 'g', 'a', 'g', 'a', 'g', 'a', 't', 'g', 't', 'a', 'c', 't', 'c', 'c', 'g', 'g', 'g', 'c', 'g', 'a', 'a', 't', 'g', 't', 'a', 'a', 't', 'g', 'g', 'a', 'c', 't', 'a', 'g', 'c', 'a', 'a', 'g', 'a', 'g', 't', 't', 'g', 'g', 'a', 'c', 'a', 't', 'c', 'c', 'g', 't', 't', 't', 'c', 'c', 'c', 'g', 'a', 'c', 'a', 'c', 'g', 'g', 't', 'a', 'a', 'a', 'c', 'g', 'g', 'a', 'a', 't', 'c', 'c', 'g', 'g', 't', 'a', 't', 't', 'c', 'c', 'a', 'g', 'g', 'g', 'a', 'g', 'a', 'g', 'g', 't', 'a', 'g', 't', 'g', 'a', 'c', 'c', 'g', 'g', 't', 'g', 'a', 'c', 'c', 'a', 'a', 'g', 'a', 'c', 'c', 'c', 'g', 'a', 'a', 't', 'c', 'g', 'c', 'c', 'a', 'c', 'g', 'g', 't', 'a', 'g', 'c', 'g', 'g', 'g', 'g', 't', 'a', 'c', 'a', 'c', 't', 'g', 'a', 'a', 'g', 'g', 'a', 'a', 't', 'g', 't', 't', 't', 't', 'g', 'g', 't', 'g', 'a', 'g', 'a', 't', 't', 'c', 'c', 'c', 'c', 'g', 'c', 't', 'a', 'a', 'c', 't', 't', 'c', 'g', 'g', 'g', 'a', 'a', 't', 'a', 'g', 'a', 't', 't', 'g', 'a', 'a', 'c', 'c', 'c', 'c', 'a', 'a', 'g', 'g', 'a', 'c', 'a', 'g', 'c', 'c', 't', 'g', 't', 'g', 'a', 'a', 'a', 't', 'c', 'a', 'g', 'a', 't', 't', 'a', 'g', 't', 'a', 'a', 'a', 'c', 'a', 'c', 't', 'c', 'c', 'g', 'a', 't', 'c', 't', 'a', 't', 'g', 'g', 'c', 'a', 'c', 'c', 't', 'c', 'c', 'g', 'a', 'g', 'a', 'c', 't', 'a', 'a', 'g', 'a', 'a', 'g', 't', 'a', 't', 'c', 't', 't', 'a', 'a', 'g', 'c', 't', 'a', 'g', 'c', 't', 'a', 'c', 't', 'c', 'a', 'c', 't', 'c', 'a', 't', 'g', 't', 't', 'a', 'c', 'g', 'g', 'g', 'a', 'c', 'c', 't', 'g', 'a', 't', 't', 'c', 'g', 't', 'g', 'c', 't', 'a', 'g', 'c', 'g', 't', 'c', 'a', 'c', 'a', 't', 'c', 'c', 'a', 't', 'c', 'c', 'a', 'c', 't', 't', 'g', 'g', 'c', 'c', 'g', 't', 'c', 't', 'g', 'c', 'g', 'a', 'a', 'c', 'g', 'a', 'g', 'g', 'g', 'a', 't', 'g', 'g', 'c', 'c', 'g', 'c', 't', 'g', 't', 't', 't', 'a', 't', 't', 'a', 'c', 'c', 'a', 'c', 'g', 'g', 'a', 'g', 't', 'a', 'a', 'c', 'g', 't', 't', 'c', 'a', 'c', 't', 't', 'c', 't', 'a', 'g', 'a', 'g', 't', 'c', 'g', 'c', 't', 'a', 'g', 'a', 't', 't', 'a', 'c', 't', 'g', 'c', 'g', 'c', 'g', 'c', 'g', 'g', 'c', 't', 'a', 'g', 't', 't', 'c', 'a', 'c', 'c', 'g', 't', 't', 'a', 'g', 't', 'c', 't', 't', 'g', 't', 'g', 't', 'a', 't', 'g', 't', 'g', 'g', 'a', 't', 't', 'c', 'a', 'c', 't', 'a', 't', 'a', 'g', 'g', 't', 'g', 't', 'a', 't', 't', 'a', 'c', 'a', 'c', 'g', 't', 'g', 'a', 'a', 'c', 'c', 'g', 'a', 'c', 'c', 'g', 'g', 'g', 'g', 't', 'c', 'g', 'a', 'g', 'c', 'c', 'g', 'c', 'a', 'c', 'c', 'a', 'g', 't', 'g', 't', 't', 't', 'c', 'c', 'c', 'c', 'a', 't', 'c', 'c', 't', 'c', 'c', 't', 'g', 'g', 't', 'c', 'c', 'c', 't', 'g', 't', 'a', 'a', 't', 't', 'a', 'a', 't', 't', 'a', 't', 't', 't', 't', 't', 'g', 't', 'a', 'a', 't', 'c', 'c', 'a', 't', 't', 'c', 'a', 't', 't', 'g', 'g', 'a', 't', 'c', 'c', 'a', 'a', 'c', 'c', 'a', 't', 'g', 'c', 'c', 'g', 't', 't', 'g', 'g', 'a', 'g', 'a', 'a', 'g', 't', 't', 'a', 'a', 'a', 'a', 'c', 't', 't', 't', 'a', 'c', 'g', 'a', 'c', 'g', 'g', 't', 't', 'a', 'c', 't', 'g', 'c', 't', 'g', 't', 't', 'g', 'c', 't', 't', 'c', 'g', 'a', 'a', 'g', 't', 'g', 'c', 'c', 'c', 'g', 't', 'g', 'c', 'a', 't', 'g', 'a', 't', 'g', 'c', 't', 'c', 'a', 'a', 'a', 'c', 'a', 't', 'g', 'g', 't', 'g', 'g', 't', 'a', 'g', 'a', 'c', 't', 'c', 'a', 'a', 'g', 't', 'g', 't', 'a', 'c', 'g', 't', 'c', 'g', 't', 'a', 't', 't', 'c', 'a', 't', 'g', 'c', 'g', 't', 'a', 'g', 'c', 't', 'a', 'c', 'a', 'g', 'c', 't', 'c', 'a', 't', 'c', 'c', 'a', 'a', 't', 't', 'g', 't', 't', 'c', 'a', 'g', 'g', 'g', 'a', 'g', 'c', 'g', 'c', 'c', 't']\n"
     ]
    }
   ],
   "source": [
    "# Tu código aquí\n",
    "sec = \"accgaatgcccaggaggtttctcaacggctagtcttgtatctaccctacctaaacgtaccaaggttgctatggcacacatctgccgtatatacaaccggtcgacgattgaagacatttgtccgccaatacgggcgatctgggacgttcaggagtcgaactatcaaattcctgattaagaatgcgtgagcctttccatcatgttttatacgactcattgtttataaaattgaccgttcactataacctcaaatccttaggatggttggacaggtgtatctgttggacggggctggcaatacccactctctacatgaggcccgcttacattacctgatcgttctcaacctgtaggcaaagggctgtgccatttgccttaggccataaggtccctctccatcactggccactggttctgggcttagcggtgccatcgccccatgtgacttccttacaaaaccactctaaggggcgattgaagcccttatctaacttggggttcctgtcggacactttagtctaatcatttgtgaggctagataccgtggaggctctgattcttcatagaattcgatcgatgagtgagtacaatgccctggactaagcacgatcgcagtgtaggtaggtgaaccggcagacgcttgctccctaccggcgacaaataatggtgcctcattgcaagtgaagatctcagcgatctaatgacgcgcgccgatcaagtggcaatcagaacacatacacctaagtgatatccacataatgtgcacttggctggccccagctcggcgtggtcacaaaggggtaggaggaccagggacattaattaataaaaacattaggtaagtaacctaggttggtacggcaacctcttcaattttgaaatgctgccaatgacgacaacgaagcttcacgggcacgtactacgagtttgtaccaccatctgagttcacatgcagcataagtacgcatcgatgtcgagtaggttaacaagtccctcgcgga\"\n",
    "com = []\n",
    "for letra in sec:\n",
    "    if letra == \"a\":\n",
    "        com.append(\"t\")\n",
    "    elif letra == \"c\":\n",
    "        com.append(\"g\")\n",
    "    elif letra == \"t\":\n",
    "        com.append(\"a\")\n",
    "    elif letra == \"g\":\n",
    "        com.append(\"c\")\n",
    "print(com)\n",
    "    "
   ]
  },
  {
   "cell_type": "markdown",
   "metadata": {},
   "source": [
    "#### Uso de range:\n",
    "\n",
    "Syntaxis\n",
    "\n",
    "__for _variable_ in range(_[inicio], final[, paso]_):__ (los parámetros entre brackets son opcionales) <br /> \n",
    "&nbsp;&nbsp;&nbsp;&nbsp;&nbsp; __alguna(s)__ __acción(es)__ (los dos puntos y la sangría son necesarios)\n"
   ]
  },
  {
   "cell_type": "code",
   "execution_count": 1,
   "metadata": {},
   "outputs": [
    {
     "name": "stdout",
     "output_type": "stream",
     "text": [
      "0\n",
      "1\n",
      "2\n",
      "3\n",
      "4\n",
      "5\n",
      "6\n",
      "7\n",
      "8\n",
      "9\n"
     ]
    }
   ],
   "source": [
    "# Ejemplo 1:\n",
    "for i in range(10):\n",
    "    print(i)"
   ]
  },
  {
   "cell_type": "code",
   "execution_count": 2,
   "metadata": {},
   "outputs": [
    {
     "name": "stdout",
     "output_type": "stream",
     "text": [
      "3\n",
      "4\n",
      "5\n",
      "6\n",
      "7\n",
      "8\n",
      "9\n"
     ]
    }
   ],
   "source": [
    "# Ejemplo 2:\n",
    "for i in range(3,10):\n",
    "    print(i)"
   ]
  },
  {
   "cell_type": "code",
   "execution_count": 3,
   "metadata": {},
   "outputs": [
    {
     "name": "stdout",
     "output_type": "stream",
     "text": [
      "3\n",
      "5\n",
      "7\n",
      "9\n"
     ]
    }
   ],
   "source": [
    "# Ejemplo 3:\n",
    "for i in range(3,10,2):\n",
    "    print(i)"
   ]
  },
  {
   "cell_type": "markdown",
   "metadata": {},
   "source": [
    "__Ejercicio__ Suma de primeros n números naturales, recibiendo n mediante input.\n",
    "\n",
    "$\\phi = \\sum_{i=n}^{k}n$"
   ]
  },
  {
   "cell_type": "code",
   "execution_count": 11,
   "metadata": {},
   "outputs": [
    {
     "name": "stdin",
     "output_type": "stream",
     "text": [
      "Dame un número 3\n"
     ]
    },
    {
     "name": "stdout",
     "output_type": "stream",
     "text": [
      "6\n",
      "6.0\n"
     ]
    }
   ],
   "source": [
    "# Código aquí\n",
    "\n",
    "# ¿Se te ocurre alguna forma de comprobar el resultado?\n",
    "num = int(input(\"Dame un número\"))\n",
    "suma = 0\n",
    "for i in range(0,num+1):\n",
    "    suma += i\n",
    "print(suma)\n",
    "print((num*(num+1))/2)"
   ]
  },
  {
   "cell_type": "markdown",
   "metadata": {},
   "source": [
    "__Ejercicio__ Suma de los primeros n números pares"
   ]
  },
  {
   "cell_type": "code",
   "execution_count": 24,
   "metadata": {},
   "outputs": [
    {
     "name": "stdin",
     "output_type": "stream",
     "text": [
      "Dame un número 10\n"
     ]
    },
    {
     "name": "stdout",
     "output_type": "stream",
     "text": [
      "30\n"
     ]
    }
   ],
   "source": [
    "# Tu respuesta aquí\n",
    "num = int(input(\"Dame un número\"))\n",
    "suma = 0\n",
    "for i in range(0,num+1):\n",
    "    if i%2==0:\n",
    "        suma += i\n",
    "    elif i%2!=0:\n",
    "        suma = suma\n",
    "print(suma)"
   ]
  },
  {
   "cell_type": "markdown",
   "metadata": {},
   "source": [
    "__Ejercicio__ Citando a la Wikipedia (https://es.wikipedia.org/wiki/Sucesi%C3%B3n_de_Fibonacci) podemos decir que:\n",
    "\n",
    "_En matemáticas, la sucesión o serie de Fibonacci es la siguiente sucesión infinita de números naturales_:\n",
    "\n",
    "$$0, 1, 1, 2, 3, 5, 8, 13, 21, 34, 55, 89, 144, 233, 377, 610, 987, 1597, \\ldots$$\n",
    "\n",
    "_La sucesión comienza con los números 0 y 1, y, a partir de estos, cada término es la suma de los dos anteriores_. \n",
    "\n",
    "Imprime los primeros n términos de la secuencia de fibonacci"
   ]
  },
  {
   "cell_type": "code",
   "execution_count": 1,
   "metadata": {},
   "outputs": [
    {
     "name": "stdin",
     "output_type": "stream",
     "text": [
      "Dame un número 8\n"
     ]
    },
    {
     "name": "stdout",
     "output_type": "stream",
     "text": [
      "0\n",
      "1\n",
      "1\n",
      "2\n",
      "3\n",
      "5\n",
      "8\n",
      "13\n"
     ]
    }
   ],
   "source": [
    "# Tu respuesta aquí\n",
    "fibo = int(input(\"Dame un número\"))\n",
    "x,y = 0,1\n",
    "for i in range(fibo):\n",
    "    print(x)\n",
    "    x,y=y, x+y"
   ]
  }
 ],
 "metadata": {
  "kernelspec": {
   "display_name": "Python 3",
   "language": "python",
   "name": "python3"
  },
  "language_info": {
   "codemirror_mode": {
    "name": "ipython",
    "version": 3
   },
   "file_extension": ".py",
   "mimetype": "text/x-python",
   "name": "python",
   "nbconvert_exporter": "python",
   "pygments_lexer": "ipython3",
   "version": "3.7.3"
  }
 },
 "nbformat": 4,
 "nbformat_minor": 2
}
