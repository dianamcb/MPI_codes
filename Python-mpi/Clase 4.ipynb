{
 "cells": [
  {
   "cell_type": "markdown",
   "metadata": {},
   "source": [
    "### Notas de Daniel Salgado (CNS - IPICyT) para el curso Introducción a programación en Python (2020)"
   ]
  },
  {
   "cell_type": "markdown",
   "metadata": {},
   "source": [
    "# Control de flujo"
   ]
  },
  {
   "cell_type": "markdown",
   "metadata": {},
   "source": [
    "Para poder utilizar los elementos del lenguaje, necesito algo que pueda interpretarse como una proposición, donde:\n",
    "\"una proposición es cualquier frase o enunciado que pueda ser verdadero o falso\". La idea general (tal vez con excepción de for) es: \n",
    "\n",
    "Si __proposición__, entonces __algo__ __sucede__\n",
    "\n",
    "Los elementos de control de flujo en python son:\n",
    "* if-elif-else\n",
    "* for (range)\n",
    "* while (break/continue)\n"
   ]
  },
  {
   "cell_type": "markdown",
   "metadata": {},
   "source": [
    "### while/break/continue\n",
    "\n",
    "Syntaxis:\n",
    "\n",
    "__while (__ _condición_ __):__    \n",
    "&nbsp;&nbsp;&nbsp;&nbsp;&nbsp;&nbsp;&nbsp;&nbsp;&nbsp;&nbsp; _alguna(s) acción(es)_ "
   ]
  },
  {
   "cell_type": "code",
   "execution_count": 1,
   "metadata": {},
   "outputs": [
    {
     "name": "stdout",
     "output_type": "stream",
     "text": [
      "dice 0\n",
      "dice 1\n",
      "dice 2\n",
      "dice 3\n",
      "dice 4\n",
      "dice 5\n",
      "dice 6\n",
      "dice 7\n",
      "dice 8\n",
      "dice 9\n",
      "Ya acabé\n"
     ]
    }
   ],
   "source": [
    "contador = 0\n",
    "while (contador < 10):\n",
    "    print(f\"dice {contador}\")\n",
    "    contador += 1 \n",
    "print(\"Ya acabé\")"
   ]
  },
  {
   "cell_type": "code",
   "execution_count": 2,
   "metadata": {
    "scrolled": true
   },
   "outputs": [
    {
     "name": "stdout",
     "output_type": "stream",
     "text": [
      "Ya acabé\n"
     ]
    }
   ],
   "source": [
    "# Si la condición no se cumple, el ciclo nunca se ejecuta\n",
    "contador = 10\n",
    "while (contador < 10):\n",
    "    print(\"fdice {contador}\")\n",
    "    contador += 1 \n",
    "print(\"Ya acabé\")"
   ]
  },
  {
   "cell_type": "markdown",
   "metadata": {},
   "source": [
    "__Ejercicio__ Modifica el siguiente ciclo para que imprima los números entre el 5 y 21"
   ]
  },
  {
   "cell_type": "code",
   "execution_count": 9,
   "metadata": {},
   "outputs": [
    {
     "name": "stdout",
     "output_type": "stream",
     "text": [
      "dice 5\n",
      "dice 6\n",
      "dice 7\n",
      "dice 8\n",
      "dice 9\n",
      "dice 10\n",
      "dice 11\n",
      "dice 12\n",
      "dice 13\n",
      "dice 14\n",
      "dice 15\n",
      "dice 16\n",
      "dice 17\n",
      "dice 18\n",
      "dice 19\n",
      "dice 20\n",
      "dice 21\n",
      "Del 5 al 21\n"
     ]
    }
   ],
   "source": [
    "numero = 5\n",
    "while (numero >= 5 and numero <= 21):\n",
    "    print(f\"dice {numero}\")\n",
    "    numero += 1\n",
    "print(\"Del 5 al 21\")\n"
   ]
  },
  {
   "cell_type": "markdown",
   "metadata": {},
   "source": [
    "__Ejercicio__ Modifica el siguiente ciclo para que imprima los números impares entre el 5 y 21"
   ]
  },
  {
   "cell_type": "code",
   "execution_count": 12,
   "metadata": {},
   "outputs": [
    {
     "name": "stdout",
     "output_type": "stream",
     "text": [
      "es 5\n",
      "es 7\n",
      "es 9\n",
      "es 11\n",
      "es 13\n",
      "es 15\n",
      "es 17\n",
      "es 19\n",
      "es 21\n"
     ]
    }
   ],
   "source": [
    "numero = 5\n",
    "while (numero >= 5 and numero <= 21):\n",
    "    if  numero%2 != 0:\n",
    "        print(f\"es {numero}\")\n",
    "    numero += 1\n",
    "   \n"
   ]
  },
  {
   "cell_type": "markdown",
   "metadata": {},
   "source": [
    "__Ejercicio__ Utilizando while, crea un programa que reciba 10 números enteros. Al terminar de recibirlos deberás imprimir un mensaje que indique el final del programa."
   ]
  },
  {
   "cell_type": "code",
   "execution_count": 20,
   "metadata": {
    "scrolled": true
   },
   "outputs": [
    {
     "name": "stdin",
     "output_type": "stream",
     "text": [
      "Dame 10 números 1\n"
     ]
    },
    {
     "name": "stdout",
     "output_type": "stream",
     "text": [
      "1\n"
     ]
    },
    {
     "name": "stdin",
     "output_type": "stream",
     "text": [
      "Dame 10 números 2\n"
     ]
    },
    {
     "name": "stdout",
     "output_type": "stream",
     "text": [
      "2\n"
     ]
    },
    {
     "name": "stdin",
     "output_type": "stream",
     "text": [
      "Dame 10 números 3\n"
     ]
    },
    {
     "name": "stdout",
     "output_type": "stream",
     "text": [
      "3\n"
     ]
    },
    {
     "name": "stdin",
     "output_type": "stream",
     "text": [
      "Dame 10 números 4\n"
     ]
    },
    {
     "name": "stdout",
     "output_type": "stream",
     "text": [
      "4\n"
     ]
    },
    {
     "name": "stdin",
     "output_type": "stream",
     "text": [
      "Dame 10 números 5\n"
     ]
    },
    {
     "name": "stdout",
     "output_type": "stream",
     "text": [
      "5\n"
     ]
    },
    {
     "name": "stdin",
     "output_type": "stream",
     "text": [
      "Dame 10 números 6\n"
     ]
    },
    {
     "name": "stdout",
     "output_type": "stream",
     "text": [
      "6\n"
     ]
    },
    {
     "name": "stdin",
     "output_type": "stream",
     "text": [
      "Dame 10 números 7\n"
     ]
    },
    {
     "name": "stdout",
     "output_type": "stream",
     "text": [
      "7\n"
     ]
    },
    {
     "name": "stdin",
     "output_type": "stream",
     "text": [
      "Dame 10 números 8\n"
     ]
    },
    {
     "name": "stdout",
     "output_type": "stream",
     "text": [
      "8\n"
     ]
    },
    {
     "name": "stdin",
     "output_type": "stream",
     "text": [
      "Dame 10 números 9\n"
     ]
    },
    {
     "name": "stdout",
     "output_type": "stream",
     "text": [
      "9\n"
     ]
    },
    {
     "name": "stdin",
     "output_type": "stream",
     "text": [
      "Dame 10 números 10\n"
     ]
    },
    {
     "name": "stdout",
     "output_type": "stream",
     "text": [
      "10\n",
      "Fin del programa\n"
     ]
    }
   ],
   "source": [
    "# Tu programa aquí\n",
    "contador = 1\n",
    "while (contador <= 10):\n",
    "    num = int(input(\"Dame 10 números\"))\n",
    "    print(f\"{num}\")\n",
    "    contador += 1\n",
    "print(\"Fin del programa\")"
   ]
  },
  {
   "cell_type": "markdown",
   "metadata": {},
   "source": [
    "__Ejercicio__ Utilizando while, crea un programa que reciba números enteros hasta que junte 5 números impares. Al juntar los 5 números impares, deberás imprimir un mensaje que indique el final del programa."
   ]
  },
  {
   "cell_type": "code",
   "execution_count": 30,
   "metadata": {
    "scrolled": true
   },
   "outputs": [
    {
     "name": "stdin",
     "output_type": "stream",
     "text": [
      "Dame un número 1\n"
     ]
    },
    {
     "name": "stdout",
     "output_type": "stream",
     "text": [
      "1\n"
     ]
    },
    {
     "name": "stdin",
     "output_type": "stream",
     "text": [
      "Dame un número 3\n"
     ]
    },
    {
     "name": "stdout",
     "output_type": "stream",
     "text": [
      "3\n"
     ]
    },
    {
     "name": "stdin",
     "output_type": "stream",
     "text": [
      "Dame un número 5\n"
     ]
    },
    {
     "name": "stdout",
     "output_type": "stream",
     "text": [
      "5\n"
     ]
    },
    {
     "name": "stdin",
     "output_type": "stream",
     "text": [
      "Dame un número 7\n"
     ]
    },
    {
     "name": "stdout",
     "output_type": "stream",
     "text": [
      "7\n"
     ]
    },
    {
     "name": "stdin",
     "output_type": "stream",
     "text": [
      "Dame un número 9\n"
     ]
    },
    {
     "name": "stdout",
     "output_type": "stream",
     "text": [
      "9\n",
      "Fin del programa\n"
     ]
    }
   ],
   "source": [
    "# Tu programa aquí\n",
    "contador = 1\n",
    "while (contador <= 5):\n",
    "    num = int(input(\"Dame un número\"))\n",
    "#    if num%2 == 0:\n",
    "#        num = num\n",
    "    if num%2 != 0:\n",
    "        contador += 1\n",
    "    print(f\"{num}\")\n",
    "print(\"Fin del programa\")"
   ]
  },
  {
   "cell_type": "markdown",
   "metadata": {},
   "source": [
    "__Ejercicio__ Modifica tu código anterior para que al final del programa imprimas los números impares recibidos de la siguiente forma:    \n",
    "_Me has dado los siguientes números impares_ : ..."
   ]
  },
  {
   "cell_type": "code",
   "execution_count": 38,
   "metadata": {
    "scrolled": false
   },
   "outputs": [
    {
     "name": "stdin",
     "output_type": "stream",
     "text": [
      "Dame un número 1\n",
      "Dame un número 3\n",
      "Dame un número 5\n",
      "Dame un número 7\n",
      "Dame un número 9\n"
     ]
    },
    {
     "name": "stdout",
     "output_type": "stream",
     "text": [
      "Me has dado los siguientes números impares : 1 3 5 7 9 \n"
     ]
    }
   ],
   "source": [
    "# Tu programa aquí\n",
    "contador = 1\n",
    "cadena = \"\"\n",
    "while (contador <= 5):\n",
    "    num = int(input(\"Dame un número\"))\n",
    "    if num%2 != 0:\n",
    "        contador += 1\n",
    "        cadena = cadena + str(num) + \" \"\n",
    "print(f\"Me has dado los siguientes números impares : {cadena}\")"
   ]
  },
  {
   "cell_type": "markdown",
   "metadata": {},
   "source": [
    "En algunas ocasiones necesitaremos cortar un ciclo cuando una condición se cumpla. En estos casos es posible utilizar _break_.\n",
    "\n",
    "#### break\n",
    "\n",
    "Se utiliza para cortar el ciclo en ejecución. Por ejemplo\n",
    "\n",
    "<img src=\"./how-break-statement-works.jpg\" width=\"300\" height=\"300\" />\n",
    "Imagen tomada sin permiso (pero sin fines de lucro ni malas intenciones) de (https://www.programiz.com/python-programming/break-continue)"
   ]
  },
  {
   "cell_type": "code",
   "execution_count": 39,
   "metadata": {},
   "outputs": [
    {
     "name": "stdout",
     "output_type": "stream",
     "text": [
      "dice 0\n",
      "dice 1\n",
      "dice 2\n",
      "dice 3\n",
      "dice 4\n",
      "esto termina aquí\n",
      "Ya acabé\n"
     ]
    }
   ],
   "source": [
    "# Si la condición no se cumple, el ciclo nunca se ejecuta\n",
    "contador = 0\n",
    "while (contador < 10):\n",
    "    if (contador >= 5):\n",
    "        print(\"esto termina aquí\")\n",
    "        break\n",
    "    print(f\"dice {contador}\")\n",
    "    contador += 1 \n",
    "print(\"Ya acabé\")\n"
   ]
  },
  {
   "cell_type": "markdown",
   "metadata": {},
   "source": [
    "__Ejercicio__ Crea un programa que reciba cuatro dígitos, los cuales deben ser números entre 0 y 9, y todos distintos entre sí. El programa deberá finalizar con un mensaje de error al recibir dos números iguales o que no estén detro del rango pedido."
   ]
  },
  {
   "cell_type": "code",
   "execution_count": 52,
   "metadata": {},
   "outputs": [
    {
     "name": "stdin",
     "output_type": "stream",
     "text": [
      "Dame un número 1\n",
      "Dame un número -6\n"
     ]
    },
    {
     "name": "stdout",
     "output_type": "stream",
     "text": [
      "Error\n",
      "Los dígitos son [1]\n"
     ]
    }
   ],
   "source": [
    "### Tu programa aquí\n",
    "contador = 0\n",
    "contenedor = []\n",
    "while (contador < 4):\n",
    "    num = (int(input(\"Dame un número\")))\n",
    "    if num in contenedor or num > 9 or num < 0:\n",
    "        print(\"Error\")\n",
    "        break\n",
    "    else:\n",
    "        contenedor.append(num)\n",
    "        contador += 1\n",
    "print(f\"Los dígitos son {contenedor}\")"
   ]
  },
  {
   "cell_type": "markdown",
   "metadata": {},
   "source": [
    "__Ejercicio__ Crea un programa que reciba una cadena de caracteres y que imprima letra por letra hasta encontrar una vocal."
   ]
  },
  {
   "cell_type": "code",
   "execution_count": 1,
   "metadata": {},
   "outputs": [
    {
     "name": "stdin",
     "output_type": "stream",
     "text": [
      "Escribe algo hola\n"
     ]
    },
    {
     "name": "stdout",
     "output_type": "stream",
     "text": [
      "No es vocal h\n",
      "Error\n"
     ]
    }
   ],
   "source": [
    "# Tu programa aquí\n",
    "ora = \"a,e,i,o,u\"\n",
    "frase = input(\"Escribe algo\")\n",
    "for letra in frase:\n",
    "    if letra in ora:\n",
    "        print(\"Error\")\n",
    "        break\n",
    "    else:\n",
    "        print(f\"No es vocal {letra}\")\n"
   ]
  },
  {
   "cell_type": "markdown",
   "metadata": {},
   "source": [
    "Hay otras ocasiones en sólo necesitaremos saltarnos una iteración dentro del ciclo pero continuar con el resto. En estos casos es posible utilizar la orden _continue_.\n",
    "\n",
    "#### continue\n",
    "\n",
    "Se utiliza para cortar con la iteración que se está ejecutando pero no termina con todo el ciclo. \n",
    "\n",
    "<img src=\"./how-continue-statment-works.jpg\" width=\"300\" height=\"300\" />\n",
    "Imagen tomada sin permiso (pero sin fines de lucro ni malas intenciones) de (https://www.programiz.com/python-programming/break-continue)"
   ]
  },
  {
   "cell_type": "code",
   "execution_count": 12,
   "metadata": {},
   "outputs": [
    {
     "name": "stdout",
     "output_type": "stream",
     "text": [
      "dice 0\n",
      "dice 1\n",
      "dice 2\n",
      "dice 3\n",
      "dice 4\n",
      "dice 5\n",
      "dice 6\n",
      "Este número no me gusta\n",
      "dice 8\n",
      "dice 9\n",
      "Ya acabé\n"
     ]
    }
   ],
   "source": [
    "contador = 0\n",
    "while (contador < 10):\n",
    "    if (contador == 7):\n",
    "        print(\"Este número no me gusta\") # Si la condición se cumple, se brinca a la siguiente iteración\n",
    "        contador += 1   # Notar que aumento el contador, ¿porqué?\n",
    "        continue\n",
    "    print(f\"dice {contador}\")\n",
    "    contador += 1 \n",
    "print(\"Ya acabé\")"
   ]
  },
  {
   "cell_type": "markdown",
   "metadata": {},
   "source": [
    "__Ejercicio__ Ahora crea un programa que al recibir el nombre de una persona, determine el número de letras consonantes que hay dentro de dicho nombre."
   ]
  },
  {
   "cell_type": "code",
   "execution_count": 6,
   "metadata": {},
   "outputs": [
    {
     "name": "stdin",
     "output_type": "stream",
     "text": [
      "¿Cuál es tu nommbre? Betito\n"
     ]
    },
    {
     "name": "stdout",
     "output_type": "stream",
     "text": [
      "Tu nombre tiene 3 consonantes\n"
     ]
    }
   ],
   "source": [
    "# Tu respuesta aquí\n",
    "vocales = \"a,e,i,o,u\"\n",
    "nombre = input(\"¿Cuál es tu nommbre?\")\n",
    "contador = 0\n",
    "for letra in nombre:\n",
    "    if letra in vocales:\n",
    "        continue\n",
    "    else:\n",
    "        contador += 1\n",
    "print(f\"Tu nombre tiene {contador} consonantes\")"
   ]
  },
  {
   "cell_type": "markdown",
   "metadata": {},
   "source": [
    "__Ejercicio__ Utiliza la declaración continue y modifica el siguiente código para que sólo se cuenten las vocales mayúsculas."
   ]
  },
  {
   "cell_type": "code",
   "execution_count": 8,
   "metadata": {},
   "outputs": [
    {
     "name": "stdin",
     "output_type": "stream",
     "text": [
      "Dime algo bonito hvvniurdnddlvr\n"
     ]
    },
    {
     "name": "stdout",
     "output_type": "stream",
     "text": [
      "¡Ah, qué cosas tan re-bonitas dices con 0 vocales!\n"
     ]
    }
   ],
   "source": [
    "# Tu respuesta aquí\n",
    "vocM = \"A,E,I,O,U\"\n",
    "cadena = input(\"Dime algo bonito\")\n",
    "cnt_voc = 0\n",
    "for i in cadena:\n",
    "    if vocM in cadena:\n",
    "        cnt_voc += 1\n",
    "    else:\n",
    "        continue\n",
    "print(f\"¡Ah, qué cosas tan re-bonitas dices con {cnt_voc} vocales!\")"
   ]
  },
  {
   "cell_type": "markdown",
   "metadata": {},
   "source": [
    "__Ejercicio__ Utiliza lo aprendido hasta ahora para calcular el valor de $\\pi$ mediante la fórmula de Wallis\n",
    "$$ \\pi = 2\\prod_{i=1}^{\\infty} \\frac{4i^2}{4i^2 - 1}$$"
   ]
  },
  {
   "cell_type": "code",
   "execution_count": 24,
   "metadata": {},
   "outputs": [
    {
     "name": "stdout",
     "output_type": "stream",
     "text": [
      "Pi, después de 100 iteraciones vale: 3.141591780925776\n"
     ]
    }
   ],
   "source": [
    "# Tu respuesta aquí\n",
    "prod = 1\n",
    "pi = 1\n",
    "for i in range(1,int(9e5)+1):\n",
    "    prod *= 4*i**2/(4*i**2 - 1)\n",
    "    pi = 2*prod\n",
    "print(f\"Pi, después de 100 iteraciones vale: {pi}\")"
   ]
  },
  {
   "cell_type": "markdown",
   "metadata": {},
   "source": [
    "__Ejercicio__ Utilizando la fórmula de Wallis y el valor de pi como 3.1415926535897932384626433, crea un programa que reciba un grado de error y calcule el valor de pi mientras que dicho error no se cumpla. Al final, tu código deberá imprimir el número de iteraciones necesarias para encontrar dicho valor."
   ]
  },
  {
   "cell_type": "code",
   "execution_count": null,
   "metadata": {},
   "outputs": [],
   "source": [
    "# Tu respuesta aquí\n",
    "prod = 1\n",
    "pi = 1\n",
    "for i in range(1,int(9e5)+1):\n",
    "    prod *= 4*i**2/(4*i**2 - 1)\n",
    "    pi = 2*prod\n",
    "print(f\"Pi, después de 100 iteraciones vale: {pi}\")"
   ]
  },
  {
   "cell_type": "markdown",
   "metadata": {},
   "source": [
    "__Ejercicio__ Utiliza lo aprendido hasta ahora crear un programa que reciba un año mayor al 2020, y que calcule todos los años bisiestos que hay entre el año 2020 y el año recibido. Tu código deberá imprimir dicho años bisiestos en pantalla. Si el año recibido es menor o igual que 2020, el programa deberá imprimir un mensaje a \n",
    "pantalla para indicar esta situación y deberá volver a pedir un año (esto se deberá de hacer de repetir mientras no se reciba un año mayor al 2020). "
   ]
  },
  {
   "cell_type": "code",
   "execution_count": 9,
   "metadata": {},
   "outputs": [
    {
     "name": "stdin",
     "output_type": "stream",
     "text": [
      "Dame un año 1997\n"
     ]
    },
    {
     "name": "stdout",
     "output_type": "stream",
     "text": [
      "Año inválido, introduce otro.\n"
     ]
    },
    {
     "name": "stdin",
     "output_type": "stream",
     "text": [
      "Dame un año 1998\n"
     ]
    },
    {
     "name": "stdout",
     "output_type": "stream",
     "text": [
      "Año inválido, introduce otro.\n"
     ]
    },
    {
     "name": "stdin",
     "output_type": "stream",
     "text": [
      "Dame un año 2020\n"
     ]
    },
    {
     "name": "stdout",
     "output_type": "stream",
     "text": [
      "Año inválido, introduce otro.\n"
     ]
    },
    {
     "name": "stdin",
     "output_type": "stream",
     "text": [
      "Dame un año 2022\n"
     ]
    },
    {
     "name": "stdout",
     "output_type": "stream",
     "text": [
      "El año 2020 es bisiesto.\n"
     ]
    }
   ],
   "source": [
    "# Tu respuesta aquí\n",
    "año = int(input(\"Dame un año\"))\n",
    "while año <= 2020:\n",
    "    print(\"Año inválido, introduce otro.\")\n",
    "    año = int(input(\"Dame un año\"))\n",
    "for i in range(2020,año,4):\n",
    "    print(f\"El año {i} es bisiesto.\")\n"
   ]
  },
  {
   "cell_type": "markdown",
   "metadata": {},
   "source": [
    "__Mencionar:__ \n",
    "* split\n",
    "* enumerate\n",
    "* ciclos sobre diccionarios - atributo items().\n",
    "* modulos en python - Probar alguno\n",
    "\n",
    "__Recordar:__\n",
    "* Python puede ser utilizado en modo interactivo y script (¿cómo correr script?).\n",
    "* Existe IDE (spyder)\n",
    "* Debajo del notebook se encuentra ipython"
   ]
  },
  {
   "cell_type": "code",
   "execution_count": 2,
   "metadata": {},
   "outputs": [
    {
     "name": "stdout",
     "output_type": "stream",
     "text": [
      "hola, \n",
      " estás\n",
      "el indice 0 corresponde a  hola,\n",
      "el indice 1 corresponde a  cómo\n",
      "el indice 2 corresponde a  estás\n",
      "valor 0 clave uno\n",
      "valor 1 clave dos\n",
      "valor 2 clave tres\n",
      "2.0\n"
     ]
    }
   ],
   "source": [
    "var = \"hola, cómo estás\"\n",
    "for i in var.split(\"cómo\"):\n",
    "    print(i)\n",
    "\n",
    "for ind, ele in enumerate(var.split()):\n",
    "    print('el indice',ind,\"corresponde a \", ele)\n",
    "    \n",
    "dicc = {'uno':1, 'dos':2, 'tres':3}\n",
    "for i, j in enumerate(dicc):\n",
    "    print('valor',i, 'clave',j)\n",
    "    \n",
    "import math\n",
    "\n",
    "print(math.sqrt(4.0))"
   ]
  },
  {
   "cell_type": "markdown",
   "metadata": {},
   "source": [
    "### Comprensión de listas (list comprehension) y diccionarios (dictionary comprehension):\n",
    "\n",
    "Existe un atajo que permite realizar un ciclo for, sobre elementos de una lista _existente_, para llenar listas o diccionarios _nuevos_, y es llamada _comprehension_:\n",
    "\n",
    "__lista__ :    \n",
    "nueva_lista = __[__ _expresión1_ __for__ variable __in__ lista_existente __if__ _expresión2_ __]__\n",
    "\n",
    "__diccionario__ :    \n",
    "nuevo_diccionario = __{__ _expresión1_ __:__ _expresión2_ __for__ variable __in__ lista_existente __if__ _expresión3_ __}__"
   ]
  },
  {
   "cell_type": "code",
   "execution_count": 3,
   "metadata": {},
   "outputs": [
    {
     "name": "stdout",
     "output_type": "stream",
     "text": [
      "[0, 1, 4, 9, 16, 25, 36, 49, 64, 81]\n",
      "[36, 49, 64, 81]\n",
      "['AAT', 'ACT', 'AGT', 'ATT']\n"
     ]
    }
   ],
   "source": [
    "# Ejemplo de list comprehension:\n",
    "nueval = [i**2 for i in range(10)]\n",
    "print(nueval)\n",
    "\n",
    "otral = [i**2 for i in range(10) if i > 5]\n",
    "print(otral)\n",
    "\n",
    "secue = ['A', 'C', 'G', 'T']\n",
    "ultimal = ['A'+i+'T' for i in secue ]\n",
    "print(ultimal)"
   ]
  },
  {
   "cell_type": "code",
   "execution_count": 11,
   "metadata": {
    "scrolled": true
   },
   "outputs": [
    {
     "name": "stdout",
     "output_type": "stream",
     "text": [
      "{0: 0, 1: 1, 2: 4, 3: 9, 4: 16, 5: 25, 6: 36, 7: 49, 8: 64, 9: 81}\n",
      "{1: 36, 2: 49, 3: 64, 4: 81}\n"
     ]
    }
   ],
   "source": [
    "# Ejemplo de dictionary comprehension:\n",
    "nuevod = {i:i*i for i in range(10)}\n",
    "print(nuevod)\n",
    "\n",
    "otrod = {i-5:i**2 for i in range(10) if i > 5}\n",
    "print(otrod)"
   ]
  },
  {
   "cell_type": "markdown",
   "metadata": {},
   "source": [
    "__Ejercicio:__ Utiliza una _list comprehension_ para generar una lista que contenga el cuadrado de los números entre 5 y 15"
   ]
  },
  {
   "cell_type": "code",
   "execution_count": 6,
   "metadata": {},
   "outputs": [
    {
     "name": "stdout",
     "output_type": "stream",
     "text": [
      "[25, 49, 81, 121, 169, 225]\n"
     ]
    }
   ],
   "source": [
    "# Tu respuesta aquí\n"
   ]
  },
  {
   "cell_type": "markdown",
   "metadata": {},
   "source": [
    "__Ejercicio:__ Utiliza una _list comprehension_ para generar una lista que contenga el cuadrado de los números impares entre 5 y 15"
   ]
  },
  {
   "cell_type": "code",
   "execution_count": 6,
   "metadata": {
    "scrolled": true
   },
   "outputs": [
    {
     "name": "stdout",
     "output_type": "stream",
     "text": [
      "[25, 49, 81, 121, 169, 225]\n"
     ]
    }
   ],
   "source": [
    "# Tu respuesta aquí\n"
   ]
  },
  {
   "cell_type": "markdown",
   "metadata": {},
   "source": [
    "__Ejercicio:__ Utiliza una _dictionary comprehension_ para generar un diccionario cuyos valores sean iguales a 3 veces la repetición de las siguientes secuencias sec = [AGAT, CAT, GAG, GCGC, TAAC, GTAC], el valor de las claves queda a tu elección pero considera que debe ser algo fácil de acceder. Por ejemplo, uno de los valores deberá ser 3 veces AGAT, lo que equivale a AGATAGATAGAT"
   ]
  },
  {
   "cell_type": "code",
   "execution_count": 15,
   "metadata": {},
   "outputs": [],
   "source": [
    "# Recuerda cómo encontrar la longitud de una lista: len(lista)\n",
    "# Tu respuesta aquí"
   ]
  },
  {
   "cell_type": "code",
   "execution_count": null,
   "metadata": {},
   "outputs": [],
   "source": []
  }
 ],
 "metadata": {
  "kernelspec": {
   "display_name": "Python 3",
   "language": "python",
   "name": "python3"
  },
  "language_info": {
   "codemirror_mode": {
    "name": "ipython",
    "version": 3
   },
   "file_extension": ".py",
   "mimetype": "text/x-python",
   "name": "python",
   "nbconvert_exporter": "python",
   "pygments_lexer": "ipython3",
   "version": "3.7.3"
  }
 },
 "nbformat": 4,
 "nbformat_minor": 2
}
