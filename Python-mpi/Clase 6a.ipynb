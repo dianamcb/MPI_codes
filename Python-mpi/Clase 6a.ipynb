{
 "cells": [
  {
   "cell_type": "markdown",
   "metadata": {},
   "source": [
    "### Notas de Daniel Salgado (CNS - IPICyT) para el curso Introducción al Cómputo Científico (2018) "
   ]
  },
  {
   "cell_type": "markdown",
   "metadata": {},
   "source": [
    "# Pimp my ride"
   ]
  },
  {
   "cell_type": "markdown",
   "metadata": {},
   "source": [
    "En esta sección veremos algunas herramientas extras, útiles para trabajar con Python"
   ]
  },
  {
   "cell_type": "markdown",
   "metadata": {},
   "source": [
    "### Podemos crear nuestros propios módulos e importarlos"
   ]
  },
  {
   "cell_type": "code",
   "execution_count": 1,
   "metadata": {},
   "outputs": [],
   "source": [
    "# Por ejemplo: Copia las siguientes líneas de código y pégalas en un archivo llamado OpeMat1.py\n",
    "import numpy as np\n",
    "#from numpy import *\n",
    "  \n",
    "def norma(r1, r2):\n",
    "    return np.sqrt((r1[0]-r2[0])*(r1[0]-r2[0]) + (r1[1]-r2[1])*(r1[1]-r2[1]) + (r1[2]-r2[2])*(r1[2]-r2[2]))\n",
    "\n",
    "def call_norma():\n",
    "    r1 = input('Ingresa los valores del primer punto en formato: x, y, z \\n')\n",
    "    r2 = input('Ingresa los valores del segundo punto en formato: x, y, z \\n')\n",
    "\n",
    "    r1f = [float(i) for i in r1.split(',')]\n",
    "    r2f = [float(i) for i in r2.split(',')]\n",
    "\n",
    "    print('La distancia entre los puntos', r1f, 'y', r2f, 'es:', norma(r1f,r2f))\n",
    "\n"
   ]
  },
  {
   "cell_type": "code",
   "execution_count": 2,
   "metadata": {},
   "outputs": [
    {
     "name": "stdout",
     "output_type": "stream",
     "text": [
      "Ingresa los valores del primer punto en formato: x, y, z \n",
      "1,2,3\n",
      "Ingresa los valores del segundo punto en formato: x, y, z \n",
      "1,2,3\n",
      "La distancia entre los puntos [1.0, 2.0, 3.0] y [1.0, 2.0, 3.0] es: 0.0\n"
     ]
    }
   ],
   "source": [
    "# Ahora vamos a importar el contenido de ese archivo como un módulo\n",
    "import OpeMat1\n",
    "#from OpeMat1 import call_norma, norma\n",
    "\n",
    "# En caso de que el archivo cambie después de haber sido importado, el módulo se debe recargar\n",
    "import importlib\n",
    "importlib.reload(OpeMat1)\n",
    "\n",
    "# Ahora ya puedo llamar a la funciones del módulo importado\n",
    "#OpeMat1.call_norma()\n",
    "call_norma()"
   ]
  },
  {
   "cell_type": "markdown",
   "metadata": {},
   "source": [
    "__Ejercicio__ Crea un módulo que contenga una función que determine si la secuencia obtenida es un codón."
   ]
  },
  {
   "cell_type": "code",
   "execution_count": null,
   "metadata": {},
   "outputs": [],
   "source": [
    "# Tu respuesta aquí\n",
    "# Observa que el módulo lo tienes que generar en un archivo de texto plano\n"
   ]
  },
  {
   "cell_type": "markdown",
   "metadata": {},
   "source": [
    "__Ejercicio__ Modifica tu módulo anterior para que además contenga una función que al recibir una secuencia de A, C, G y T's, genere una secuencia complemento. La regla para generar una secuencia complemento, es que T complementa a A (y viceversa), y que G complementa a C (y viceversa)."
   ]
  },
  {
   "cell_type": "code",
   "execution_count": null,
   "metadata": {},
   "outputs": [],
   "source": [
    "# Tu respuesta aquí\n",
    "# Observa que el módulo lo tienes que generar en un archivo de texto plano\n"
   ]
  },
  {
   "cell_type": "markdown",
   "metadata": {},
   "source": [
    "### En ipython podemos utilizar magic functions"
   ]
  },
  {
   "cell_type": "code",
   "execution_count": 3,
   "metadata": {},
   "outputs": [
    {
     "name": "stdout",
     "output_type": "stream",
     "text": [
      "Hola, mundo\n",
      "1.38 µs ± 41.9 ns per loop (mean ± std. dev. of 7 runs, 1000000 loops each)\n"
     ]
    }
   ],
   "source": [
    "# Las magic functions se \"invocan\" utilizando el signo de % antes de la función. Dos ejemplos de magic functions\n",
    "\n",
    "# Para ejecutar códigos desde el modo interactivo:\n",
    "%run hola.py\n",
    "\n",
    "# Para medir tiempo de ejecución de un pedazo de código en particular\n",
    "%timeit norma([10,0,0], [0,0,0]) # La salida de esta línea toma un momento\n",
    "\n",
    "# Mas información\n",
    "# https://ipython.org/ipython-doc/3/interactive/tutorial.html#magic-functions"
   ]
  },
  {
   "cell_type": "markdown",
   "metadata": {},
   "source": [
    "## Módulos\n",
    "Python es muy popular, lo que hace muy probable que ya existan bibliotecas/módulos que hagan (al menos parcialmente) lo que queremos."
   ]
  },
  {
   "cell_type": "markdown",
   "metadata": {},
   "source": [
    "**¿Cómo importar un módulo?**\n",
    "\n",
    "Existen distintas formas de importar un módulo y eso cambia su forma de usar"
   ]
  },
  {
   "cell_type": "code",
   "execution_count": 3,
   "metadata": {},
   "outputs": [
    {
     "name": "stdout",
     "output_type": "stream",
     "text": [
      "4.0\n"
     ]
    }
   ],
   "source": [
    "# Veamos un ejemplo para raíz cuadrada utilizando la biblioteca math\n",
    "\n",
    "# Ejemplo 1\n",
    "import math             # Aquí estoy importando toda la biblioteca\n",
    "print(math.sqrt(16.0))  # Llamo la función sqrt dentro de math, por lo que utilizo math.sqrt"
   ]
  },
  {
   "cell_type": "code",
   "execution_count": 4,
   "metadata": {},
   "outputs": [
    {
     "name": "stdout",
     "output_type": "stream",
     "text": [
      "4.0\n"
     ]
    }
   ],
   "source": [
    "# Ejemplo 2\n",
    "import math as rumpelstiltskin    # Aquí estoy importando toda la biblioteca con un nuevo nombre (rumpelstiltskin)\n",
    "print(rumpelstiltskin.sqrt(16.0)) # Llamo la función sqrt dentro de rumpelstiltskin, por lo que utilizo rumpelstiltskin.sqrt"
   ]
  },
  {
   "cell_type": "code",
   "execution_count": 5,
   "metadata": {},
   "outputs": [
    {
     "name": "stdout",
     "output_type": "stream",
     "text": [
      "4.0\n",
      "4.0\n"
     ]
    }
   ],
   "source": [
    "# Ejemplo 3\n",
    "from math import sqrt   # Aquí estoy importando sólo la función sqrt de la biblioteca\n",
    "print(sqrt(16.0))       # Llamo sólo a la función sqrt\n",
    "\n",
    "# Ejemplo 3a\n",
    "from math import sqrt as rcu  # Aquí estoy importando sólo la función sqrt de la biblioteca y la renombro\n",
    "print(rcu(16.0))              # Llamo sólo a la función utilizando su nuevo nombre\n"
   ]
  },
  {
   "cell_type": "markdown",
   "metadata": {},
   "source": [
    "__Ejercicio__ Importa el módulo de numpy bajo el nombre de np. Utiliza este módulo para imprimir la raíz cuadrada de 119"
   ]
  },
  {
   "cell_type": "code",
   "execution_count": null,
   "metadata": {},
   "outputs": [],
   "source": [
    "# Tu respuesta aquí\n"
   ]
  },
  {
   "cell_type": "markdown",
   "metadata": {},
   "source": [
    "__Ejercicio__ Importa la función cosecante desde el módulo de numpy de tal forma que puedas usar la función sólo con el nombre de CSC. Prueba que funciona bien lo que hiciste"
   ]
  },
  {
   "cell_type": "code",
   "execution_count": null,
   "metadata": {},
   "outputs": [],
   "source": [
    "# Tu respuesta aquí\n"
   ]
  },
  {
   "cell_type": "markdown",
   "metadata": {},
   "source": [
    "### Matplotlib\n",
    "\n",
    "Es una biblioteca de Python para realizar gráficas en 2D (principalmente). Puede utilizarse en scripts, desde terminal, o desde cuadernos Jupyter.\n",
    "\n",
    "Un buen tutorial para empezar: https://matplotlib.org/users/pyplot_tutorial.html"
   ]
  },
  {
   "cell_type": "code",
   "execution_count": 4,
   "metadata": {
    "scrolled": true
   },
   "outputs": [
    {
     "data": {
      "text/plain": [
       "<Figure size 640x480 with 1 Axes>"
      ]
     },
     "metadata": {},
     "output_type": "display_data"
    }
   ],
   "source": [
    "# Un ejemplo básico\n",
    "import matplotlib.pyplot as plt                 # Importo biblioteca\n",
    "\n",
    "val_x = [0.5*float(i) for i in range(15)]       # Genero puntos X espaciados por 0.5\n",
    "val_y = [i*i for i in val_x]                    # Genero los puntos correspondientes de la función y = x**2\n",
    "\n",
    "plt.plot(val_x, val_y)                          # Genero gráfica y vs x\n",
    "plt.show()                                      # Despliego en pantalla la gráfica generada"
   ]
  },
  {
   "cell_type": "code",
   "execution_count": 6,
   "metadata": {
    "scrolled": true
   },
   "outputs": [
    {
     "data": {
      "image/png": "[encoded data removed]",
      "text/plain": [
       "<Figure size 432x288 with 1 Axes>"
      ]
     },
     "metadata": {
      "needs_background": "light"
     },
     "output_type": "display_data"
    }
   ],
   "source": [
    "# Robusteciendo el ejemplo básico\n",
    "\n",
    "# Cambiamos el tipo de línea (o-- significa, marcar los puntos y la línea es punteada)\n",
    "plt.plot(val_x, val_y, \"o--\")                          # Genero gráfica y vs x\n",
    "plt.show()                                      # Despliego en pantalla la gráfica generada"
   ]
  },
  {
   "cell_type": "code",
   "execution_count": 6,
   "metadata": {
    "scrolled": true
   },
   "outputs": [
    {
     "data": {
      "image/png": "[encoded data removed]",
      "text/plain": [
       "<Figure size 432x288 with 1 Axes>"
      ]
     },
     "metadata": {
      "needs_background": "light"
     },
     "output_type": "display_data"
    }
   ],
   "source": [
    "# Robusteciendo el ejemplo básico\n",
    "\n",
    "# Cambiamos un poco más el tipo de línea (r significa línea color rojo)\n",
    "# Añadimos título a la gráfica y valores en cada eje\n",
    "plt.xlabel('Distancia')\n",
    "plt.ylabel('Velocidad')\n",
    "plt.title('Desplazamiento partícula acelerada')\n",
    "plt.plot(val_x, val_y, \"go--\")                  # Genero gráfica y vs x\n",
    "plt.show()                                      # Despliego en pantalla la gráfica generada"
   ]
  },
  {
   "cell_type": "markdown",
   "metadata": {},
   "source": [
    "__Ejercicio__ Grafica con una línea color verde la función $ y = \\frac{\\cos(x)}{x} $, utilizando 50 puntos entre 0 y 7. Dale nombre a los ejes y un título a tu gráfica"
   ]
  },
  {
   "cell_type": "code",
   "execution_count": null,
   "metadata": {},
   "outputs": [],
   "source": [
    "# Tu respuesta aquí\n",
    "# La función cos(x) la puedes encontrar en la biblioteca math"
   ]
  },
  {
   "cell_type": "markdown",
   "metadata": {},
   "source": [
    "__Ejercicio__ Grafica con una línea color azul la función\n",
    "\\begin{equation}\n",
    "    f(x) =\n",
    "    \\begin{cases} \n",
    "    1         & \\mbox{if } x \\leq 0 \\\\\n",
    "    -x^2 + 1  & \\mbox{if } 1 < x \\leq 1 \\\\\n",
    "    0         & \\mbox{if } x > 1\n",
    "    \\end{cases}\n",
    "\\end{equation}\n",
    "\n",
    "Utiliza 60 puntos equidistantes en el intervalo $-2 \\leq x \\leq 2$. Dale nombre a los ejes y un título a tu gráfica."
   ]
  },
  {
   "cell_type": "code",
   "execution_count": null,
   "metadata": {},
   "outputs": [],
   "source": [
    "# Tu respuesta aquí\n"
   ]
  },
  {
   "cell_type": "markdown",
   "metadata": {},
   "source": [
    "__Ejercicio__ Utilizando el color rojo, grafica con puntos los 4 vértices de un cuadrado de lado 1, por ejemplo, (0,0), (0,1), (1,0), (1,1). Dale nombre a los ejes y un título a tu gráfica"
   ]
  },
  {
   "cell_type": "code",
   "execution_count": 13,
   "metadata": {
    "scrolled": true
   },
   "outputs": [
    {
     "name": "stdout",
     "output_type": "stream",
     "text": [
      "[0, 0, 0, 0, 0, 2, 2, 2, 2, 2, 4, 4, 4, 4, 4, 6, 6, 6, 6, 6, 8, 8, 8, 8, 8]\n",
      "[0, 2, 4, 6, 8, 0, 2, 4, 6, 8, 0, 2, 4, 6, 8, 0, 2, 4, 6, 8, 0, 2, 4, 6, 8]\n"
     ]
    },
    {
     "data": {
      "image/png": "[encoded data removed]",
      "text/plain": [
       "<Figure size 432x288 with 1 Axes>"
      ]
     },
     "metadata": {
      "needs_background": "light"
     },
     "output_type": "display_data"
    }
   ],
   "source": [
    "# Tu respuesta aquí\n"
   ]
  },
  {
   "cell_type": "markdown",
   "metadata": {},
   "source": [
    "__Ejercicio__ Utilizando el color rojo y delimitando la región a graficar de 0 a 10 (x e y), grafica los puntos de una red cuadrada cuyos lados valen 2 unidades. Dale nombre a los ejes y un título a tu gráfica"
   ]
  },
  {
   "cell_type": "code",
   "execution_count": 13,
   "metadata": {
    "scrolled": true
   },
   "outputs": [
    {
     "name": "stdout",
     "output_type": "stream",
     "text": [
      "[0, 0, 0, 0, 0, 2, 2, 2, 2, 2, 4, 4, 4, 4, 4, 6, 6, 6, 6, 6, 8, 8, 8, 8, 8]\n",
      "[0, 2, 4, 6, 8, 0, 2, 4, 6, 8, 0, 2, 4, 6, 8, 0, 2, 4, 6, 8, 0, 2, 4, 6, 8]\n"
     ]
    },
    {
     "data": {
      "image/png": "[encoded data removed]",
      "text/plain": [
       "<Figure size 432x288 with 1 Axes>"
      ]
     },
     "metadata": {
      "needs_background": "light"
     },
     "output_type": "display_data"
    }
   ],
   "source": [
    "# Tu respuesta aquí\n"
   ]
  },
  {
   "cell_type": "markdown",
   "metadata": {},
   "source": [
    "__Ejercicio__ Crea una función que reciba un ángulo en grados y rote el triángulo definido por los vértices $(1,0)$, $(0,2)$ y $(-1,0)$; dibuja el triángulo rotado utilizando puntos y líneas azules, y nombrando a los ejes y a tu gráfica. \n",
    "\n",
    "Recuerda que cualquier punto $(x,y)$ del plano, al rotarlo $\\theta$ grados con respecto al origen, termina con las nuevas coordenadas $(x^{*},y^{*})$ dadas por $$ x^{*} = x\\cos(\\theta) - y\\sin(\\theta)$$ $$y^{*} = x\\sin(\\theta) + y\\cos(\\theta)$$"
   ]
  },
  {
   "cell_type": "code",
   "execution_count": 14,
   "metadata": {},
   "outputs": [],
   "source": [
    "# Tu respuesta aquí\n"
   ]
  },
  {
   "cell_type": "markdown",
   "metadata": {},
   "source": [
    "### Subplots\n",
    "\n",
    "Con matplotlib es posible hacer una gráfica con distintos paneles\n",
    "\n",
    "Ir a https://matplotlib.org/3.1.0/gallery/subplots_axes_and_figures/subplots_demo.html"
   ]
  },
  {
   "cell_type": "code",
   "execution_count": null,
   "metadata": {},
   "outputs": [],
   "source": [
    "# https://matplotlib.org/3.1.0/gallery/subplots_axes_and_figures/subplots_demo.html"
   ]
  },
  {
   "cell_type": "markdown",
   "metadata": {},
   "source": [
    "__Ejercicio__ Las ecuaciones de movimiento para un tiro parabólico son las siguientes $$ x = v_{ox}t;$$ $$y = v_{oy}t - \\frac{1}{2}gt^{2} ,$$ donde $v_{ox}$ y $v_{oy}$ son la velocidad inicial en $x$ y en $y$ (en metros sobre segundos), respectivamente, $g = 9.81 m/s^2$ es el valor de la gravedad sobre la superficie de la Tierra y $t$ es el tiempo en segundos. Con estas ecuaciones es posible ver que el tiempo máximo de vuelo está dado por $t_{max} = v_{oy}/g$. \n",
    "\n",
    "Utilizando estas ecuaciones, crea un programa que reciba 4 valores iniciales de la velocidad de un proyectil y grafica 20 puntos de la trayectoria de este proyectil en cada caso. Presenta las gráficas en 4 paneles y \"adereza al gusto\"."
   ]
  },
  {
   "cell_type": "code",
   "execution_count": 14,
   "metadata": {},
   "outputs": [],
   "source": [
    "# Tu respuesta aquí\n"
   ]
  }
 ],
 "metadata": {
  "kernelspec": {
   "display_name": "Python 3",
   "language": "python",
   "name": "python3"
  },
  "language_info": {
   "codemirror_mode": {
    "name": "ipython",
    "version": 3
   },
   "file_extension": ".py",
   "mimetype": "text/x-python",
   "name": "python",
   "nbconvert_exporter": "python",
   "pygments_lexer": "ipython3",
   "version": "3.7.3"
  }
 },
 "nbformat": 4,
 "nbformat_minor": 2
}
