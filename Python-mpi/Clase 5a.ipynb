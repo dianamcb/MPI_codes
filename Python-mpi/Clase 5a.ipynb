{
 "cells": [
  {
   "cell_type": "markdown",
   "metadata": {},
   "source": [
    "### Notas de Daniel Salgado (CNS - IPICyT)"
   ]
  },
  {
   "cell_type": "markdown",
   "metadata": {},
   "source": [
    "# Reciclando código"
   ]
  },
  {
   "cell_type": "markdown",
   "metadata": {},
   "source": [
    "Una forma eficiente de generar código que después se puede volver a utilizar, es mediante la definición de funciones"
   ]
  },
  {
   "cell_type": "markdown",
   "metadata": {},
   "source": [
    "### Funciones\n",
    "\n",
    "Syntaxis:\n",
    "\n",
    "__def__ NombreFunción __(__ _parámetros_ __):__  \n",
    "&nbsp;&nbsp;&nbsp;&nbsp;&nbsp;&nbsp;&nbsp;&nbsp;&nbsp;&nbsp; Alguna(s) acción(es)  \n",
    "&nbsp;&nbsp;&nbsp;&nbsp;&nbsp;&nbsp;&nbsp;&nbsp;&nbsp;&nbsp; __return__ _valores_ (En realidad, los parámetros y return son opcionales) \n"
   ]
  },
  {
   "cell_type": "code",
   "execution_count": 1,
   "metadata": {},
   "outputs": [
    {
     "name": "stdout",
     "output_type": "stream",
     "text": [
      "¡Hola, terrícola!\n"
     ]
    }
   ],
   "source": [
    "# Por ejemplo, definamos una función boba\n",
    "def saluda(nombre):\n",
    "    print(\"¡Hola, \"+nombre+\"!\")\n",
    "#   print(f\"¡Hola, {nombre}!\")    \n",
    "\n",
    "saluda(\"terrícola\")"
   ]
  },
  {
   "cell_type": "code",
   "execution_count": 2,
   "metadata": {},
   "outputs": [
    {
     "name": "stdout",
     "output_type": "stream",
     "text": [
      "120\n"
     ]
    }
   ],
   "source": [
    "# Podemos incluir operaciones que vamos a realizar de forma recurrente para que nuestro código sea más compacto.\n",
    "\n",
    "def facto(a):\n",
    "    f = 1.0\n",
    "    for i in range(a):\n",
    "        f *= (i+1)\n",
    "    return int(f)\n",
    "\n",
    "print(facto(5))"
   ]
  },
  {
   "cell_type": "code",
   "execution_count": 3,
   "metadata": {},
   "outputs": [
    {
     "name": "stdout",
     "output_type": "stream",
     "text": [
      "(1.0, -3.3333333333333335)\n",
      "1.0 -3.3333333333333335\n"
     ]
    }
   ],
   "source": [
    "# Definamos ahora una función que calcule las raíces de una ecuación cuadrática\n",
    "# Observa que podemos regresar más de un argumento\n",
    "\n",
    "def rai_ecua(a, b, c):\n",
    "    return (-b + (b*b - (4*a*c))**(0.5))*0.5/a, (-b - (b*b - (4*a*c))**(0.5))*0.5/a\n",
    "\n",
    "print(rai_ecua(3, 7, -10))\n",
    "s1, s2 = rai_ecua(3, 7, -10)\n",
    "print(s1, s2)"
   ]
  },
  {
   "cell_type": "markdown",
   "metadata": {},
   "source": [
    "__Ejercicio__ Crea tu propia función que se llame Saluda y que imprima a pantalla un saludo genérico. "
   ]
  },
  {
   "cell_type": "code",
   "execution_count": 25,
   "metadata": {},
   "outputs": [
    {
     "name": "stdout",
     "output_type": "stream",
     "text": [
      "Holis cabezoli\n"
     ]
    }
   ],
   "source": [
    "# Tu respuesta aquí\n",
    "def Saluda(Holiwis):\n",
    "        print(Holiwis)\n",
    "        return None\n",
    "Saluda(\"Holis cabezoli\")"
   ]
  },
  {
   "cell_type": "markdown",
   "metadata": {},
   "source": [
    "__Ejercicio__ Modifica la función anterior para que reciba un número entero del 1 al 3. Dependiendo del número recibido, la función deberá imprimir un saludo diferente. Por ejemplo, puedes hacer que al recibir el número 1 imprima el saludo \"Buenos días\", si recibe el número 2, imprima \"Buenas tardes\", y que imprima \"Buenas noches\" al recibir el número 3."
   ]
  },
  {
   "cell_type": "code",
   "execution_count": 2,
   "metadata": {},
   "outputs": [],
   "source": [
    "# Tu respuesta aquí\n"
   ]
  },
  {
   "cell_type": "markdown",
   "metadata": {},
   "source": [
    "__Ejercicio__ Crea una función que se llame es_par, la función deberá recibir (ser función de, no input()) una variable y regresar 1 o True en caso de que la variable ingresada sea un entero par, y deberá regresar 0 o False en cualquier otro caso. Observa que no hay restricción sobre el tipo de variable que se puede ingresar. "
   ]
  },
  {
   "cell_type": "code",
   "execution_count": 4,
   "metadata": {},
   "outputs": [
    {
     "name": "stdout",
     "output_type": "stream",
     "text": [
      "0\n"
     ]
    }
   ],
   "source": [
    "# Tu respuesta aquí\n",
    "def es_par(número):\n",
    "    if número%2==0:\n",
    "        return 1\n",
    "    else:\n",
    "        return 0\n",
    "print(es_par(23))\n",
    "    "
   ]
  },
  {
   "cell_type": "markdown",
   "metadata": {},
   "source": [
    "__Ejercicio__ Crea una función que reciba (ser función de, no input()) una cadena y determine si la cadena recibida corresponde a un codón. De acuerdo a wikipedia, un codón se puede definir como:\n",
    "\n",
    "\"_La información genética, en el ARN, se escribe a partir de cuatro letras, que corresponden a las bases nitrogenadas (A, C, G y U), las cuales van funcionalmente agrupadas de tres en tres. Cada grupo de tres se llama codón y lo que hace es codificar un aminoácido o un símbolo de puntuación (Comienzo, parada)._\"\n",
    "\n",
    "Considera lo hecho en el ejercicio anterior para discriminar si el argumento recibido en la función es una cadena."
   ]
  },
  {
   "cell_type": "code",
   "execution_count": 10,
   "metadata": {},
   "outputs": [
    {
     "name": "stdout",
     "output_type": "stream",
     "text": [
      "True\n"
     ]
    }
   ],
   "source": [
    "# Tu respuesta aquí\n",
    "def es_cadena(codón):\n",
    "    if len(codón)==3:\n",
    "        return True\n",
    "    else:\n",
    "        return False\n",
    "print(es_cadena(\"AGC\"))"
   ]
  },
  {
   "cell_type": "markdown",
   "metadata": {},
   "source": [
    "__Ejercicio__ Crea una función que reciba una cadena. Tu programa deberá regresar: 1) cuántas palabras distintas contiene la cadena, y 2) cuántas veces se repite cada palabra. Considera que la cadena introducida no tiene ningún signo de puntuación pero que sí puede tener mayúsculas y minúsculas."
   ]
  },
  {
   "cell_type": "code",
   "execution_count": 15,
   "metadata": {},
   "outputs": [
    {
     "name": "stdout",
     "output_type": "stream",
     "text": [
      "{'que': 2, 'tu': 2, 'onda': 1, 'hola': 3}\n"
     ]
    }
   ],
   "source": [
    "# Hint 1, investiga cómo funcionan upper y lower en cadenas.\n",
    "# Hint 2, investiga cómo funciona split en cadenas.\n",
    "# Tu respuesta aquí\n"
   ]
  },
  {
   "cell_type": "markdown",
   "metadata": {},
   "source": [
    "__Ejercicio__ Crea una función que reciba dos coordenadas tridimensionales (x, y, z), y calcule la distancia (euclidiana) entre ellas. La distancia ($r_{ij} = |\\mathbf{r}_{i} - \\mathbf{r}_{j}|$) entre dos puntos ($ \\mathbf{r}_i = (x_i, y_i, z_i)$ y $\\mathbf{r}_j = (x_j, y_j, z_j)$) del espacio tridimensional está dada por:\n",
    "$$ r_{ij} = \\sqrt{(x_i - x_j)^{2} + (y_i - y_j)^{2} + (z_i - z_j)^{2}}$$"
   ]
  },
  {
   "cell_type": "code",
   "execution_count": 8,
   "metadata": {},
   "outputs": [
    {
     "name": "stdout",
     "output_type": "stream",
     "text": [
      "rij=4.0\n"
     ]
    }
   ],
   "source": [
    "# Tu respuesta aquí\n",
    "xi=6\n",
    "xj=2\n",
    "yi=yj=5\n",
    "zi=zj=1\n",
    "ri = (xi,yi,zi)\n",
    "rj = (xj,yj,zj)\n",
    "def rij(xi,xj,yi,yj,zi,zj):\n",
    "    rij=((xi-xj)**2+(yi-yj)**2+(zi-zj)**2)**(1/2)\n",
    "    return rij\n",
    "print(f\"rij={rij(xi,xj,yi,yj,zi,zj)}\")"
   ]
  },
  {
   "cell_type": "markdown",
   "metadata": {},
   "source": [
    "__Es posible incluir notas dentro de las funciones, las cuales se utilizan para describir el comportamiento general de una función y los parámetros que utiliza:__\n",
    "\n",
    "__def__ Horoscopo **( _signo_ ):** \n",
    "\n",
    "\n",
    "&nbsp;&nbsp;&nbsp;&nbsp;&nbsp;&nbsp;&nbsp;&nbsp;&nbsp;&nbsp; \"\"\" Esta función calcula tu futuro al recibir como parámetro tu signo zodiacal \"\"\"\n",
    "\n",
    "&nbsp;&nbsp;&nbsp;&nbsp;&nbsp;&nbsp;&nbsp;&nbsp;&nbsp;&nbsp; Cálculos mágicos con base en la posición de estrellas arbitrariamente seleccionadas\n",
    "\n",
    "&nbsp;&nbsp;&nbsp;&nbsp;&nbsp;&nbsp;&nbsp;&nbsp;&nbsp;&nbsp; __return__ _suerte personalizada_ "
   ]
  },
  {
   "cell_type": "code",
   "execution_count": 5,
   "metadata": {},
   "outputs": [
    {
     "name": "stdout",
     "output_type": "stream",
     "text": [
      "Esta función calcula el factorial del número que se recibe\n",
      "    como argumento\n",
      "\n",
      " *** \n",
      "\n",
      "sqrt(x, /, out=None, *, where=True, casting='same_kind', order='K', dtype=None, subok=True[, signature, extobj])\n",
      "\n",
      "Return the non-negative square-root of an array, element-wise.\n",
      "\n",
      "Parameters\n",
      "----------\n",
      "x : array_like\n",
      "    The values whose square-roots are required.\n",
      "out : ndarray, None, or tuple of ndarray and None, optional\n",
      "    A location into which the result is stored. If provided, it must have\n",
      "    a shape that the inputs broadcast to. If not provided or `None`,\n",
      "    a freshly-allocated array is returned. A tuple (possible only as a\n",
      "    keyword argument) must have length equal to the number of outputs.\n",
      "where : array_like, optional\n",
      "    Values of True indicate to calculate the ufunc at that position, values\n",
      "    of False indicate to leave the value in the output alone.\n",
      "**kwargs\n",
      "    For other keyword-only arguments, see the\n",
      "    :ref:`ufunc docs <ufuncs.kwargs>`.\n",
      "\n",
      "Returns\n",
      "-------\n",
      "y : ndarray\n",
      "    An array of the same shape as `x`, containing the positive\n",
      "    square-root of each element in `x`.  If any element in `x` is\n",
      "    complex, a complex array is returned (and the square-roots of\n",
      "    negative reals are calculated).  If all of the elements in `x`\n",
      "    are real, so is `y`, with negative elements returning ``nan``.\n",
      "    If `out` was provided, `y` is a reference to it.\n",
      "    This is a scalar if `x` is a scalar.\n",
      "\n",
      "See Also\n",
      "--------\n",
      "lib.scimath.sqrt\n",
      "    A version which returns complex numbers when given negative reals.\n",
      "\n",
      "Notes\n",
      "-----\n",
      "*sqrt* has--consistent with common convention--as its branch cut the\n",
      "real \"interval\" [`-inf`, 0), and is continuous from above on it.\n",
      "A branch cut is a curve in the complex plane across which a given\n",
      "complex function fails to be continuous.\n",
      "\n",
      "Examples\n",
      "--------\n",
      ">>> np.sqrt([1,4,9])\n",
      "array([ 1.,  2.,  3.])\n",
      "\n",
      ">>> np.sqrt([4, -1, -3+4J])\n",
      "array([ 2.+0.j,  0.+1.j,  1.+2.j])\n",
      "\n",
      ">>> np.sqrt([4, -1, numpy.inf])\n",
      "array([  2.,  NaN,  Inf])\n"
     ]
    }
   ],
   "source": [
    "# Un ejemplo concreto\n",
    "def facto(a):\n",
    "    \"\"\"Esta función calcula el factorial del número que se recibe\n",
    "    como argumento\"\"\"\n",
    "    f = 1.0\n",
    "    for i in range(a):\n",
    "        f *= (i+1)\n",
    "    return int(f)\n",
    "\n",
    "# Así se imprime la información de la función\n",
    "print(facto.__doc__)\n",
    "\n",
    "print(\"\\n *** \\n\")\n",
    "# Observa que esto incluye a funciones definidas en módulos\n",
    "import numpy as np\n",
    "print(np.sqrt.__doc__)"
   ]
  },
  {
   "cell_type": "markdown",
   "metadata": {},
   "source": [
    "__Ejercicio__ Modifica tu función anterior (distancia entre dos puntos en espacio 3D) para que incluya una breve descripción de lo que hace, y de los argumentos que recibe. Piensa en hacerle un favor a tu yo del futuro ahorrándole el fastidio de tener que leer código y descifra el propósito de la función."
   ]
  },
  {
   "cell_type": "code",
   "execution_count": 9,
   "metadata": {},
   "outputs": [
    {
     "name": "stdout",
     "output_type": "stream",
     "text": [
      "rij=4.0\n"
     ]
    }
   ],
   "source": [
    "# Tu código aquí\n",
    "# Los parámetros de entrada son las coordenadas xi,xj,yi,yj,zi,zj a los que se le aigna un valor arbitrario.\n",
    "xi=6\n",
    "xj=2\n",
    "yi=yj=5\n",
    "zi=zj=1\n",
    "#Estos parámetros de entrada se asignan a cada vector, ri, rj\n",
    "ri = (xi,yi,zi)\n",
    "rj = (xj,yj,zj)\n",
    "#Se define la función en función de los parámetros de entrada.\n",
    "def rij(xi,xj,yi,yj,zi,zj):\n",
    "    rij=((xi-xj)**2+(yi-yj)**2+(zi-zj)**2)**(1/2)\n",
    "    return rij\n",
    "#Devuelve el imprime la solución de la distancia euclidiana.\n",
    "print(f\"rij={rij(xi,xj,yi,yj,zi,zj)}\")"
   ]
  },
  {
   "cell_type": "markdown",
   "metadata": {},
   "source": [
    "Argumentos de funciones: 1) pasar argumentos por posición, 2) pasar argumentos por nombre y 3) número variable de argumentos."
   ]
  },
  {
   "cell_type": "markdown",
   "metadata": {},
   "source": [
    "__Ejercicio__ Llama a la función chicharron pasándole los argumentos (a, b y c) por posición"
   ]
  },
  {
   "cell_type": "code",
   "execution_count": 13,
   "metadata": {},
   "outputs": [],
   "source": [
    "def chicharron(a, b, c):\n",
    "    disc = b*b - 4.0*a*c\n",
    "    r1 = r2 = 0.0 + 0.0j\n",
    "    if (disc > 0.0):\n",
    "        r1, r2 = 0.5*(-b + (disc)**(0.5))/a, 0.5*(-b - (disc)**(0.5))/a\n",
    "    elif disc == 0:\n",
    "        r1 = r2 = -b*0.5/a\n",
    "    else:\n",
    "        print(\"Tu ecuación no tiene solución en los reales\")\n",
    "    return r1, r2\n",
    "\n",
    "# Tu código aquí\n",
    "# Recibe los coeficiente a, b y c del usuario\n",
    "# Llama a la función chicharron e imprime las soluciones"
   ]
  },
  {
   "cell_type": "markdown",
   "metadata": {},
   "source": [
    "Los argumentos de las funciones también pueden ser asignados utilizando su nombre"
   ]
  },
  {
   "cell_type": "code",
   "execution_count": 5,
   "metadata": {},
   "outputs": [
    {
     "name": "stdout",
     "output_type": "stream",
     "text": [
      "La función te saludo Buendía Fulanito\n",
      "La función te saludo Fulanito Buendía\n"
     ]
    }
   ],
   "source": [
    "def saludo(nombre, apellido):\n",
    "    print(f\"La función te saludo {nombre} {apellido}\")\n",
    "Nom = \"Fulanito\"\n",
    "Ape = \"Buendía\"\n",
    "\n",
    "saludo(Ape, Nom)\n",
    "# Puedo asociar los argumentos de las funciones utilizando sus nombres\n",
    "saludo(apellido=Ape, nombre=Nom)"
   ]
  },
  {
   "cell_type": "markdown",
   "metadata": {},
   "source": [
    "__Ejercicio__ Llama a la función chicharrón pasándole los argumentos por nombre."
   ]
  },
  {
   "cell_type": "code",
   "execution_count": 6,
   "metadata": {},
   "outputs": [],
   "source": [
    "def chicharron(a, b, c):\n",
    "    disc = b*b - 4.0*a*c\n",
    "    r1 = r2 = 0.0 + 0.0j\n",
    "    if (disc > 0.0):\n",
    "        r1, r2 = 0.5*(-b + (disc)**(0.5))/a, 0.5*(-b - (disc)**(0.5))/a\n",
    "    elif disc == 0:\n",
    "        r1 = r2 = -b*0.5/a\n",
    "    else:\n",
    "        print(\"Tu ecuación no tiene solución en los reales\")\n",
    "    return r1, r2\n",
    "\n",
    "# Tu código aquí\n",
    "# Recibe los coeficiente a, b y c del usuario\n",
    "# Llama a la función chicharron e imprime las soluciones"
   ]
  },
  {
   "cell_type": "markdown",
   "metadata": {},
   "source": [
    "Es posible utilizar una variable comodín en donde se guardan todos los argumentos que no se declaran"
   ]
  },
  {
   "cell_type": "code",
   "execution_count": 9,
   "metadata": {},
   "outputs": [
    {
     "name": "stdout",
     "output_type": "stream",
     "text": [
      "Observa qué tipo de variable es argums\n",
      "(1, 2, 3, [4, 5, 6]) <class 'tuple'>\n"
     ]
    }
   ],
   "source": [
    "def reporta(*argums):\n",
    "    print(argums, type(argums))\n",
    "\n",
    "print(\"Observa qué tipo de variable es argums\")\n",
    "reporta(1, 2, 3)\n",
    "reporta(1, 2, 3, [4, 5, 6])"
   ]
  },
  {
   "cell_type": "markdown",
   "metadata": {},
   "source": [
    "__Ejercicio__ Crea una función que reciba cualquier número de nombre de personas, y que salude a cada una de ellas"
   ]
  },
  {
   "cell_type": "code",
   "execution_count": 24,
   "metadata": {},
   "outputs": [
    {
     "name": "stdout",
     "output_type": "stream",
     "text": [
      "Hola Rosa Melano :)\n",
      "Hola Jorge Nitales :)\n",
      "Hola Benito Camelo :)\n"
     ]
    }
   ],
   "source": [
    "# Tu código aquí\n",
    "def persona(*nume):\n",
    "    for i in nume:\n",
    "        print(f\"Hola {i} :)\")\n",
    "persona(\"Rosa Melano\",\"Jorge Nitales\",\"Benito Camelo\")"
   ]
  },
  {
   "cell_type": "markdown",
   "metadata": {},
   "source": [
    "Argumentos de funciones: la diferencia entre una variable que es modificable y una que no es modificable."
   ]
  }
 ],
 "metadata": {
  "kernelspec": {
   "display_name": "Python 3",
   "language": "python",
   "name": "python3"
  },
  "language_info": {
   "codemirror_mode": {
    "name": "ipython",
    "version": 3
   },
   "file_extension": ".py",
   "mimetype": "text/x-python",
   "name": "python",
   "nbconvert_exporter": "python",
   "pygments_lexer": "ipython3",
   "version": "3.7.3"
  }
 },
 "nbformat": 4,
 "nbformat_minor": 2
}
